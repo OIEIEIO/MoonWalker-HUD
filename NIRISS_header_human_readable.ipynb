{
  "nbformat": 4,
  "nbformat_minor": 0,
  "metadata": {
    "colab": {
      "provenance": [],
      "collapsed_sections": [],
      "authorship_tag": "ABX9TyOmzNxOLixxPq/8/Js19Xcr",
      "include_colab_link": true
    },
    "kernelspec": {
      "name": "python3",
      "display_name": "Python 3"
    },
    "language_info": {
      "name": "python"
    }
  },
  "cells": [
    {
      "cell_type": "markdown",
      "metadata": {
        "id": "view-in-github",
        "colab_type": "text"
      },
      "source": [
        "<a href=\"https://colab.research.google.com/github/OIEIEIO/MoonWalker-HUD/blob/NIRISS/NIRISS_header_human_readable.ipynb\" target=\"_parent\"><img src=\"https://colab.research.google.com/assets/colab-badge.svg\" alt=\"Open In Colab\"/></a>"
      ]
    },
    {
      "cell_type": "code",
      "source": [
        "!pip install cadcdata"
      ],
      "metadata": {
        "id": "1A13PXzJ8eLQ"
      },
      "execution_count": null,
      "outputs": []
    },
    {
      "cell_type": "code",
      "source": [
        "!!pip install cadcutils"
      ],
      "metadata": {
        "id": "gNviXnxz-V8o"
      },
      "execution_count": null,
      "outputs": []
    },
    {
      "cell_type": "code",
      "source": [
        "!pip install astroquery"
      ],
      "metadata": {
        "id": "SNyzRpnUA2Ac"
      },
      "execution_count": null,
      "outputs": []
    },
    {
      "cell_type": "markdown",
      "source": [
        "\n",
        "\n",
        "---\n",
        "\n",
        "\n",
        "Common Archive Observation Model (CAOM2)\n",
        "\n",
        "\n",
        "---\n",
        "\n"
      ],
      "metadata": {
        "id": "6P4cDR9HHZyJ"
      }
    },
    {
      "cell_type": "code",
      "source": [
        "import requests\n",
        "import json\n",
        "import math\n",
        "\n",
        "# this is the url from the MAST API to retrieve the file\n",
        "\n",
        "API_URL = \"https://mast.stsci.edu/api/v0/download/file?uri=mast:JWST/product/jw01537004001_0210b_00001_nis_rate.fits\"\n",
        "\n",
        "# download the file from the url\n",
        "\n",
        "r = requests.get(API_URL, stream=True)\n",
        "\n",
        "# write the file to disk\n",
        "\n",
        "with open(\"jw01537004001_0210b_00001_nis_rate.fits\", \"wb\") as f:\n",
        "    for chunk in r.iter_content(chunk_size=1024):\n",
        "        if chunk:\n",
        "            f.write(chunk)\n",
        "\n",
        "# open the file\n",
        "\n",
        "from astropy.io import fits\n",
        "\n",
        "hdulist = fits.open(\"jw01537004001_0210b_00001_nis_rate.fits\")\n",
        "\n",
        "# print the header\n",
        "\n",
        "hdulist.info()"
      ],
      "metadata": {
        "colab": {
          "base_uri": "https://localhost:8080/"
        },
        "id": "Xp5r7zznDQdE",
        "outputId": "ac60d8d9-deb4-40a1-fd10-12007edec553"
      },
      "execution_count": 11,
      "outputs": [
        {
          "output_type": "stream",
          "name": "stdout",
          "text": [
            "Filename: jw01537004001_0210b_00001_nis_rate.fits\n",
            "No.    Name      Ver    Type      Cards   Dimensions   Format\n",
            "  0  PRIMARY       1 PrimaryHDU     240   ()      \n",
            "  1  SCI           1 ImageHDU        60   (2048, 64)   float32   \n",
            "  2  ERR           1 ImageHDU        10   (2048, 64)   float32   \n",
            "  3  DQ            1 ImageHDU        11   (2048, 64)   int32 (rescales to uint32)   \n",
            "  4  VAR_POISSON    1 ImageHDU         9   (2048, 64)   float32   \n",
            "  5  VAR_RNOISE    1 ImageHDU         9   (2048, 64)   float32   \n",
            "  6  ASDF          1 BinTableHDU     11   1R x 1C   [7089B]   \n"
          ]
        }
      ]
    },
    {
      "cell_type": "code",
      "source": [
        "# print the header of the first extension\n",
        "\n",
        "hdulist[1].header"
      ],
      "metadata": {
        "colab": {
          "base_uri": "https://localhost:8080/"
        },
        "id": "08DtqtrkET0U",
        "outputId": "5d3aff7d-a226-4b2a-f079-8d5031b66a44"
      },
      "execution_count": 5,
      "outputs": [
        {
          "output_type": "execute_result",
          "data": {
            "text/plain": [
              "XTENSION= 'IMAGE   '           / Image extension                                \n",
              "BITPIX  =                  -32 / array data type                                \n",
              "NAXIS   =                    2 / number of array dimensions                     \n",
              "NAXIS1  =                 2048                                                  \n",
              "NAXIS2  =                   64                                                  \n",
              "PCOUNT  =                    0 / number of parameters                           \n",
              "GCOUNT  =                    1 / number of groups                               \n",
              "EXTNAME = 'SCI     '           / extension name                                 \n",
              "MJD-BEG =    59843.47642907407 / [d] exposure start time in MJD                 \n",
              "MJD-AVG =    59843.47651923611 / [d] exposure mid-point in MJD                  \n",
              "MJD-END =    59843.47660939815 / [d] exposure end time in MJD                   \n",
              "TDB-BEG =    59843.47851508042 / [d] TDB time of exposure start in MJD          \n",
              "TDB-MID =    59843.47860524996 / [d] TDB time of exposure mid-point in MJD      \n",
              "TDB-END =    59843.47869541952 / [d] TDB time of exposure end in MJD            \n",
              "XPOSURE =               12.464 / [s] Effective exposure time                    \n",
              "TELAPSE =               15.621 / [s] Total elapsed exposure time                \n",
              "                                                                                \n",
              "        JWST ephemeris information                                              \n",
              "                                                                                \n",
              "REFFRAME= 'EME2000 '           / Ephemeris reference frame                      \n",
              "EPH_TYPE= 'Predicted'          / Definitive or Predicted                        \n",
              "EPH_TIME=    59843.47638888889 / UTC time of position and velocity vectors in ep\n",
              "JWST_X  =    149962247.7993754 / [km] barycentric JWST X coordinate at MJD_AVG  \n",
              "JWST_Y  =   -4809679.776247127 / [km] barycentric JWST Y coordinate at MJD_AVG  \n",
              "JWST_Z  =   -1756446.479108033 / [km] barycentric JWST Z coordinate at MJD_AVG  \n",
              "OBSGEO-X=     1192874795.79167 / [m] geocentric JWST X coordinate at MJD_AVG    \n",
              "OBSGEO-Y=    -505096658.196963 / [m] geocentric JWST Y coordinate at MJD_AVG    \n",
              "OBSGEO-Z=     77780426.4371208 / [m] geocentric JWST Z coordinate at MJD_AVG    \n",
              "JWST_DX =   0.5322095257615983 / [km/s] barycentric JWST X velocity at MJD_AVG  \n",
              "JWST_DY =    27.62024381133924 / [km/s] barycentric JWST Y velocity at MJD_AVG  \n",
              "JWST_DZ =    12.09956094914474 / [km/s] barycentric JWST Z velocity at MJD_AVG  \n",
              "OBSGEODX=     50.7768402517781 / [m/s] geocentric JWST X velocity at MJD_AVG    \n",
              "OBSGEODY=     414.038713428302 / [m/s] geocentric JWST Y velocity at MJD_AVG    \n",
              "OBSGEODZ=     305.841695446705 / [m/s] geocentric JWST Z velocity at MJD_AVG    \n",
              "PA_APER =    260.6100189658478 / [deg] Position angle of aperture used          \n",
              "VA_SCALE=    1.000086515971633 / Velocity aberration scale factor               \n",
              "BUNIT   = 'DN/s    '           / physical units of the array values             \n",
              "                                                                                \n",
              "        Information about the coordinates in the file                           \n",
              "                                                                                \n",
              "RADESYS = 'ICRS    '           / Name of the coordinate reference frame         \n",
              "                                                                                \n",
              "        Spacecraft pointing information                                         \n",
              "                                                                                \n",
              "RA_V1   =    76.06886404030315 / [deg] RA of telescope V1 axis                  \n",
              "DEC_V1  =    52.87511954459239 / [deg] Dec of telescope V1 axis                 \n",
              "PA_V3   =    259.8027047935171 / [deg] Position angle of telescope V3 axis      \n",
              "                                                                                \n",
              "        WCS parameters                                                          \n",
              "                                                                                \n",
              "S_REGION= 'POLYGON ICRS  76.374624441 52.844821184 76.384953900 52.808207137 &' \n",
              "CONTINUE  '76.383049791 52.808018165 76.372719000 52.844629171&'                \n",
              "CONTINUE  '' / spatial extent of the observation                                \n",
              "V2_REF  =          -275.590258 / [arcsec] Telescope V2 coord of reference point \n",
              "V3_REF  =   -632.9197809999999 / [arcsec] Telescope V3 coord of reference point \n",
              "VPARITY =                   -1 / Relative sense of rotation between Ideal xy and\n",
              "V3I_YANG=           0.56126717 / [deg] Angle from V3 axis to Ideal y axis       \n",
              "RA_REF  =    76.37769389828999 / [deg] Right ascension of the reference point   \n",
              "DEC_REF =    52.83050059418429 / [deg] Declination of the reference point       \n",
              "ROLL_REF=    260.0487517958478 / [deg] V3 roll angle at the ref point (N over E)\n",
              "VELOSYS =            -25935.25 / [m/s] Barycentric correction to radial velocity\n",
              "EXTVER  =                    1 / extension value                                "
            ]
          },
          "metadata": {},
          "execution_count": 5
        }
      ]
    },
    {
      "cell_type": "code",
      "source": [
        "# print the header of the first extension\n",
        "\n",
        "hdulist[2].header"
      ],
      "metadata": {
        "colab": {
          "base_uri": "https://localhost:8080/"
        },
        "id": "t44CsqC0EfhR",
        "outputId": "b1989f0a-9f4b-4c6f-8448-b76a4ca9c9b3"
      },
      "execution_count": 6,
      "outputs": [
        {
          "output_type": "execute_result",
          "data": {
            "text/plain": [
              "XTENSION= 'IMAGE   '           / Image extension                                \n",
              "BITPIX  =                  -32 / array data type                                \n",
              "NAXIS   =                    2 / number of array dimensions                     \n",
              "NAXIS1  =                 2048                                                  \n",
              "NAXIS2  =                   64                                                  \n",
              "PCOUNT  =                    0 / number of parameters                           \n",
              "GCOUNT  =                    1 / number of groups                               \n",
              "EXTNAME = 'ERR     '           / extension name                                 \n",
              "BUNIT   = 'DN/s    '           / physical units of the array values             \n",
              "EXTVER  =                    1 / extension value                                "
            ]
          },
          "metadata": {},
          "execution_count": 6
        }
      ]
    },
    {
      "cell_type": "code",
      "source": [
        "# print the header of the first extension\n",
        "\n",
        "hdulist[3].header"
      ],
      "metadata": {
        "colab": {
          "base_uri": "https://localhost:8080/"
        },
        "id": "ECYIFR8jElA9",
        "outputId": "3481c3ef-1c93-42ab-a76c-ccf52749e55e"
      },
      "execution_count": 7,
      "outputs": [
        {
          "output_type": "execute_result",
          "data": {
            "text/plain": [
              "XTENSION= 'IMAGE   '           / Image extension                                \n",
              "BITPIX  =                   32 / array data type                                \n",
              "NAXIS   =                    2 / number of array dimensions                     \n",
              "NAXIS1  =                 2048                                                  \n",
              "NAXIS2  =                   64                                                  \n",
              "PCOUNT  =                    0 / number of parameters                           \n",
              "GCOUNT  =                    1 / number of groups                               \n",
              "BSCALE  =                    1                                                  \n",
              "BZERO   =           2147483648                                                  \n",
              "EXTNAME = 'DQ      '           / extension name                                 \n",
              "EXTVER  =                    1 / extension value                                "
            ]
          },
          "metadata": {},
          "execution_count": 7
        }
      ]
    },
    {
      "cell_type": "code",
      "source": [
        "# print the header of the first extension\n",
        "\n",
        "hdulist[4].header"
      ],
      "metadata": {
        "colab": {
          "base_uri": "https://localhost:8080/"
        },
        "id": "KuEzle-5EqL4",
        "outputId": "bc4c8f42-4680-4ce6-d0fe-a40ce58743d3"
      },
      "execution_count": 8,
      "outputs": [
        {
          "output_type": "execute_result",
          "data": {
            "text/plain": [
              "XTENSION= 'IMAGE   '           / Image extension                                \n",
              "BITPIX  =                  -32 / array data type                                \n",
              "NAXIS   =                    2 / number of array dimensions                     \n",
              "NAXIS1  =                 2048                                                  \n",
              "NAXIS2  =                   64                                                  \n",
              "PCOUNT  =                    0 / number of parameters                           \n",
              "GCOUNT  =                    1 / number of groups                               \n",
              "EXTNAME = 'VAR_POISSON'        / extension name                                 \n",
              "EXTVER  =                    1 / extension value                                "
            ]
          },
          "metadata": {},
          "execution_count": 8
        }
      ]
    },
    {
      "cell_type": "code",
      "source": [
        "# print the header of the first extension\n",
        "\n",
        "hdulist[5].header"
      ],
      "metadata": {
        "colab": {
          "base_uri": "https://localhost:8080/"
        },
        "id": "U0JcawC4Eu80",
        "outputId": "3d39e915-6758-43ed-9087-9d6588dab7d5"
      },
      "execution_count": 9,
      "outputs": [
        {
          "output_type": "execute_result",
          "data": {
            "text/plain": [
              "XTENSION= 'IMAGE   '           / Image extension                                \n",
              "BITPIX  =                  -32 / array data type                                \n",
              "NAXIS   =                    2 / number of array dimensions                     \n",
              "NAXIS1  =                 2048                                                  \n",
              "NAXIS2  =                   64                                                  \n",
              "PCOUNT  =                    0 / number of parameters                           \n",
              "GCOUNT  =                    1 / number of groups                               \n",
              "EXTNAME = 'VAR_RNOISE'         / extension name                                 \n",
              "EXTVER  =                    1 / extension value                                "
            ]
          },
          "metadata": {},
          "execution_count": 9
        }
      ]
    },
    {
      "cell_type": "code",
      "source": [
        "# print the header of the first extension\n",
        "\n",
        "hdulist[6].header"
      ],
      "metadata": {
        "colab": {
          "base_uri": "https://localhost:8080/"
        },
        "id": "5taRUNUmEy0U",
        "outputId": "eaee11b6-517f-478d-9b13-5082855e0ca2"
      },
      "execution_count": 10,
      "outputs": [
        {
          "output_type": "execute_result",
          "data": {
            "text/plain": [
              "XTENSION= 'BINTABLE'           / binary table extension                         \n",
              "BITPIX  =                    8 / array data type                                \n",
              "NAXIS   =                    2 / number of array dimensions                     \n",
              "NAXIS1  =                 7089 / length of dimension 1                          \n",
              "NAXIS2  =                    1 / length of dimension 2                          \n",
              "PCOUNT  =                    0 / number of group parameters                     \n",
              "GCOUNT  =                    1 / number of groups                               \n",
              "TFIELDS =                    1 / number of table fields                         \n",
              "TTYPE1  = 'ASDF_METADATA'                                                       \n",
              "TFORM1  = '7089B   '                                                            \n",
              "EXTNAME = 'ASDF    '           / extension name                                 "
            ]
          },
          "metadata": {},
          "execution_count": 10
        }
      ]
    }
  ]
}