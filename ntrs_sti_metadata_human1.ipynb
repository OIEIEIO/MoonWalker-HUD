{
  "nbformat": 4,
  "nbformat_minor": 0,
  "metadata": {
    "colab": {
      "provenance": [],
      "machine_shape": "hm",
      "collapsed_sections": [],
      "authorship_tag": "ABX9TyNsMPVlH4/OI8A9APi7qUtb",
      "include_colab_link": true
    },
    "kernelspec": {
      "name": "python3",
      "display_name": "Python 3"
    },
    "language_info": {
      "name": "python"
    }
  },
  "cells": [
    {
      "cell_type": "markdown",
      "metadata": {
        "id": "view-in-github",
        "colab_type": "text"
      },
      "source": [
        "<a href=\"https://colab.research.google.com/github/OIEIEIO/MoonWalker-HUD/blob/main/ntrs_sti_metadata_human1.ipynb\" target=\"_parent\"><img src=\"https://colab.research.google.com/assets/colab-badge.svg\" alt=\"Open In Colab\"/></a>"
      ]
    },
    {
      "cell_type": "code",
      "source": [
        "!wget https://www.sti.nasa.gov/docs/ntrs-public-metadata.json.gz"
      ],
      "metadata": {
        "id": "XOR_K-eti6kE"
      },
      "execution_count": null,
      "outputs": []
    },
    {
      "cell_type": "code",
      "source": [
        "!gunzip --keep ntrs-public-metadata.json.gz\n",
        "!head -n 1 ntrs-public-metadata.json > new_file.json\n",
        "!cat ntrs-public-metadata.json >> new_file.json\n",
        "!head new_file.json"
      ],
      "metadata": {
        "id": "-sPTOZSDqdJk"
      },
      "execution_count": null,
      "outputs": []
    },
    {
      "cell_type": "code",
      "source": [
        "import pandas as pd\n",
        "\n",
        "# create pandas df\n",
        "df = pd.read_json('/content/ntrs-public-metadata.json')\n",
        "# confirm that the df is correct\n",
        "df.head()\n",
        "\n",
        "# look at number of rows and columns\n",
        "print(df.shape)\n",
        "# the output took 3m55s - 28 rows, 563790 columns"
      ],
      "metadata": {
        "colab": {
          "base_uri": "https://localhost:8080/"
        },
        "id": "G5-mZHuJrMSa",
        "outputId": "af9f77da-779a-403b-82c5-6b6cadcfccac"
      },
      "execution_count": 30,
      "outputs": [
        {
          "output_type": "stream",
          "name": "stdout",
          "text": [
            "(28, 563790)\n"
          ]
        }
      ]
    },
    {
      "cell_type": "markdown",
      "source": [
        "\n",
        "\n",
        "---\n",
        "\n",
        "\n",
        "\n",
        "---\n",
        "\n"
      ],
      "metadata": {
        "id": "KKA8_2mzrpSa"
      }
    },
    {
      "cell_type": "code",
      "source": [
        "# view information from a range of column 0\n",
        "df.iloc[0:28]"
      ],
      "metadata": {
        "id": "ZhCODjQtDn1u"
      },
      "execution_count": null,
      "outputs": []
    },
    {
      "cell_type": "code",
      "source": [
        "# let's look at the first column 0\n",
        "df.iloc[:, 0].head(28)"
      ],
      "metadata": {
        "id": "lYupgQJiydkP"
      },
      "execution_count": null,
      "outputs": []
    },
    {
      "cell_type": "code",
      "source": [
        "# let's look at the second column 1\n",
        "df.iloc[:, 1].head(28)"
      ],
      "metadata": {
        "id": "e6dYMiEE2ACK"
      },
      "execution_count": null,
      "outputs": []
    },
    {
      "cell_type": "code",
      "source": [
        "# let's look at column 0(index column) and 1 through 3 \n",
        "df.iloc[:, 0:20].head(28)"
      ],
      "metadata": {
        "id": "GB4vxdya4Ss3"
      },
      "execution_count": null,
      "outputs": []
    },
    {
      "cell_type": "code",
      "source": [
        "df.iloc[[0]]"
      ],
      "metadata": {
        "id": "D3dGQFds8roi"
      },
      "execution_count": null,
      "outputs": []
    },
    {
      "cell_type": "code",
      "source": [
        "# view information by row index 8 'title'\n",
        "df.iloc[[8]]"
      ],
      "metadata": {
        "id": "nqsc7oZD8Ptf"
      },
      "execution_count": null,
      "outputs": []
    },
    {
      "cell_type": "code",
      "source": [
        "df.iloc[:, 0:50].head(1).columns"
      ],
      "metadata": {
        "id": "bQpyRpnq1r2Y"
      },
      "execution_count": null,
      "outputs": []
    },
    {
      "cell_type": "code",
      "source": [
        "# the following line of code will convert the df to a list\n",
        "source_url = df.iloc[:, 0].tolist()\n",
        "print(source_url)"
      ],
      "metadata": {
        "id": "9I_WXOky2BMW"
      },
      "execution_count": null,
      "outputs": []
    },
    {
      "cell_type": "code",
      "source": [
        "# use column 0 as the index to perform queries\n",
        "df.set_index(df.columns[1], inplace=True)\n",
        "df.head(28)"
      ],
      "metadata": {
        "id": "Sn-QVOITEmLS"
      },
      "execution_count": null,
      "outputs": []
    },
    {
      "cell_type": "code",
      "source": [],
      "metadata": {
        "id": "agnukzj7FsK1"
      },
      "execution_count": null,
      "outputs": []
    },
    {
      "cell_type": "code",
      "source": [
        "# save dataframe to csv file\n",
        "df.to_csv('sti-ntrs.csv')"
      ],
      "metadata": {
        "id": "nVXNw_ZGFrry"
      },
      "execution_count": 15,
      "outputs": []
    },
    {
      "cell_type": "code",
      "source": [
        "# what can i do with a csv file in python?\n",
        "# import pandas as pd\n",
        "df = pd.read_csv('sti-ntrs.csv')\n",
        "df.head()"
      ],
      "metadata": {
        "id": "iU1wnuFkKQPj"
      },
      "execution_count": null,
      "outputs": []
    },
    {
      "cell_type": "code",
      "source": [
        "!sudo apt install neofetch"
      ],
      "metadata": {
        "id": "pUtEYaDK1nOR"
      },
      "execution_count": null,
      "outputs": []
    },
    {
      "cell_type": "code",
      "source": [
        "!neofetch"
      ],
      "metadata": {
        "id": "TBCqwVI92P6h"
      },
      "execution_count": null,
      "outputs": []
    }
  ]
}