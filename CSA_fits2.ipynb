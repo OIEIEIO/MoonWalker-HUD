{
  "nbformat": 4,
  "nbformat_minor": 0,
  "metadata": {
    "colab": {
      "provenance": [],
      "collapsed_sections": [],
      "authorship_tag": "ABX9TyPY0oOp71zUfB5IBaSRmtok",
      "include_colab_link": true
    },
    "kernelspec": {
      "name": "python3",
      "display_name": "Python 3"
    },
    "language_info": {
      "name": "python"
    }
  },
  "cells": [
    {
      "cell_type": "markdown",
      "metadata": {
        "id": "view-in-github",
        "colab_type": "text"
      },
      "source": [
        "<a href=\"https://colab.research.google.com/github/OIEIEIO/MoonWalker-HUD/blob/main/CSA_fits2.ipynb\" target=\"_parent\"><img src=\"https://colab.research.google.com/assets/colab-badge.svg\" alt=\"Open In Colab\"/></a>"
      ]
    },
    {
      "cell_type": "code",
      "execution_count": null,
      "metadata": {
        "id": "um7HGEpJ83OU"
      },
      "outputs": [],
      "source": [
        "!pip install jwst"
      ]
    },
    {
      "cell_type": "code",
      "source": [
        "# Import the modules\n",
        "import matplotlib.pyplot as plt\n",
        "import numpy as np\n",
        "import jwst"
      ],
      "metadata": {
        "id": "riXVHYeQ9-TW"
      },
      "execution_count": 2,
      "outputs": []
    },
    {
      "cell_type": "code",
      "source": [
        "jw02738-o002_20220826t060833_spec3_001_asn.json"
      ],
      "metadata": {
        "id": "7OMRQVlLUxXE"
      },
      "execution_count": null,
      "outputs": []
    },
    {
      "cell_type": "code",
      "source": [
        "# make fesponse vieable in a chart\n",
        "chart_data = response.text\n",
        "print(chart_data)"
      ],
      "metadata": {
        "id": "0I-7KXg9TTL4"
      },
      "execution_count": null,
      "outputs": []
    },
    {
      "cell_type": "code",
      "source": [
        "# Create a text file named api_data.txt and save the response.text data to it.\n",
        "json_file = open(\"api_data.txt\",\"w+\")\n",
        "json_file.write(response.text)\n",
        "json_file.close()"
      ],
      "metadata": {
        "id": "T7RyC6EfTfNV"
      },
      "execution_count": null,
      "outputs": []
    },
    {
      "cell_type": "code",
      "source": [
        "!wget https://mast.stsci.edu/api/v0/download/file?uri=mast:JWST/product/jw01018001004_02101_00001_guider1_rate.fits"
      ],
      "metadata": {
        "id": "LV_UvwN0mpM1"
      },
      "execution_count": null,
      "outputs": []
    },
    {
      "cell_type": "code",
      "source": [
        "import requests\n",
        "import json\n",
        "import math\n",
        "\n",
        "# this is the url from the MAST API to retrieve the file\n",
        "\n",
        "API_URL = \"https://mast.stsci.edu/api/v0/download/file?uri=mast:JWST/product/jw02738-o002_20220826t060833_spec3_001_asn.json\"\n",
        "\n",
        "# use the requests package to send the request to the API\n",
        "\n",
        "response = requests.get(API_URL, headers={'Content-Type': 'application/json'})\n",
        "\n",
        "# to see if the response was successful, check the status code of the response\n",
        "\n",
        "if not response.ok:\n",
        "    response.raise_for_status()\n",
        "\n",
        "# get the content of the response\n",
        "\n",
        "results = response.content\n",
        "# print the results to see the original output\n",
        "\n",
        "print(results)\n",
        "\n",
        "\n",
        "# use the json package to decode the results\n",
        "\n",
        "results_json = json.loads(results)\n",
        "# print the results to see the output\n",
        "\n",
        "print(results)"
      ],
      "metadata": {
        "colab": {
          "base_uri": "https://localhost:8080/"
        },
        "id": "nAsb_k7hVf34",
        "outputId": "9a2db17a-3b4d-48ac-e5dc-ef09a055b031"
      },
      "execution_count": 7,
      "outputs": [
        {
          "output_type": "stream",
          "name": "stdout",
          "text": [
            "b'{\\n    \"asn_type\": \"spec3\",\\n    \"asn_rule\": \"candidate_Asn_Lv3WFSSNIS\",\\n    \"version_id\": \"20220826t060833\",\\n    \"code_version\": \"1.6.2\",\\n    \"degraded_status\": \"No known degraded exposures in association.\",\\n    \"program\": \"02738\",\\n    \"constraints\": \"DMSAttrConstraint({\\'name\\': \\'program\\', \\'sources\\': [\\'program\\'], \\'value\\': \\'2738\\'})\\\\nDMSAttrConstraint({\\'name\\': \\'instrument\\', \\'sources\\': [\\'instrume\\'], \\'value\\': \\'niriss\\'})\\\\nConstraint_Target({\\'name\\': \\'target\\', \\'sources\\': [\\'targetid\\'], \\'value\\': \\'1\\'})\\\\nDMSAttrConstraint({\\'name\\': \\'exp_type\\', \\'sources\\': [\\'exp_type\\'], \\'value\\': \\'nis_wfss\\'})\\\\nDMSAttrConstraint({\\'name\\': \\'opt_elem\\', \\'sources\\': [\\'filter\\'], \\'value\\': \\'gr150r|gr150c\\'})\\\\nDMSAttrConstraint({\\'name\\': \\'opt_elem2\\', \\'sources\\': [\\'pupil\\'], \\'value\\': \\'f200w\\'})\\\\nConstraint_Obsnum({\\'name\\': \\'obs_num\\', \\'sources\\': [\\'obs_num\\'], \\'value\\': None})\\\\nConstraint_TargetAcq({\\'name\\': \\'target_acq\\', \\'value\\': \\'target_acquisition\\'})\\\\nDMSAttrConstraint({\\'name\\': \\'acq_obsnum\\', \\'sources\\': [\\'obs_num\\'], \\'value\\': <function AsnMixin_Science.__init__.<locals>.<lambda> at 0x2b6cff704160>})\\\\nDMSAttrConstraint({\\'name\\': \\'asn_candidate\\', \\'sources\\': [\\'asn_candidate\\'], \\'value\\': \\\\\"\\\\\\\\\\\\\\\\(\\'o002\\',\\\\\\\\\\\\\\\\ \\'observation\\'\\\\\\\\\\\\\\\\)\\\\\"})\",\\n    \"asn_id\": \"o002\",\\n    \"target\": \"t001\",\\n    \"asn_pool\": \"jw02738_20220826t060833_pool.csv\",\\n    \"products\": [\\n        {\\n            \"name\": \"jw02738-o002_{source_id}_niriss_f200w-gr150c-gr150r\",\\n            \"members\": [\\n                {\\n                    \"expname\": \"jw02738002001_10201_00004_nis_cal.fits\",\\n                    \"exptype\": \"science\",\\n                    \"exposerr\": \"null\",\\n                    \"asn_candidate\": \"(\\'o002\\', \\'observation\\')\"\\n                },\\n                {\\n                    \"expname\": \"jw02738002001_10201_00002_nis_cal.fits\",\\n                    \"exptype\": \"science\",\\n                    \"exposerr\": \"null\",\\n                    \"asn_candidate\": \"(\\'o002\\', \\'observation\\')\"\\n                },\\n                {\\n                    \"expname\": \"jw02738002001_10201_00001_nis_cal.fits\",\\n                    \"exptype\": \"science\",\\n                    \"exposerr\": \"null\",\\n                    \"asn_candidate\": \"(\\'o002\\', \\'observation\\')\"\\n                },\\n                {\\n                    \"expname\": \"jw02738002001_10201_00003_nis_cal.fits\",\\n                    \"exptype\": \"science\",\\n                    \"exposerr\": \"null\",\\n                    \"asn_candidate\": \"(\\'o002\\', \\'observation\\')\"\\n                },\\n                {\\n                    \"expname\": \"jw02738002001_04201_00002_nis_cal.fits\",\\n                    \"exptype\": \"science\",\\n                    \"exposerr\": \"null\",\\n                    \"asn_candidate\": \"(\\'o002\\', \\'observation\\')\"\\n                },\\n                {\\n                    \"expname\": \"jw02738002001_04201_00003_nis_cal.fits\",\\n                    \"exptype\": \"science\",\\n                    \"exposerr\": \"null\",\\n                    \"asn_candidate\": \"(\\'o002\\', \\'observation\\')\"\\n                },\\n                {\\n                    \"expname\": \"jw02738002001_04201_00001_nis_cal.fits\",\\n                    \"exptype\": \"science\",\\n                    \"exposerr\": \"null\",\\n                    \"asn_candidate\": \"(\\'o002\\', \\'observation\\')\"\\n                },\\n                {\\n                    \"expname\": \"jw02738002001_04201_00004_nis_cal.fits\",\\n                    \"exptype\": \"science\",\\n                    \"exposerr\": \"null\",\\n                    \"asn_candidate\": \"(\\'o002\\', \\'observation\\')\"\\n                }\\n            ]\\n        }\\n    ]\\n}'\n",
            "b'{\\n    \"asn_type\": \"spec3\",\\n    \"asn_rule\": \"candidate_Asn_Lv3WFSSNIS\",\\n    \"version_id\": \"20220826t060833\",\\n    \"code_version\": \"1.6.2\",\\n    \"degraded_status\": \"No known degraded exposures in association.\",\\n    \"program\": \"02738\",\\n    \"constraints\": \"DMSAttrConstraint({\\'name\\': \\'program\\', \\'sources\\': [\\'program\\'], \\'value\\': \\'2738\\'})\\\\nDMSAttrConstraint({\\'name\\': \\'instrument\\', \\'sources\\': [\\'instrume\\'], \\'value\\': \\'niriss\\'})\\\\nConstraint_Target({\\'name\\': \\'target\\', \\'sources\\': [\\'targetid\\'], \\'value\\': \\'1\\'})\\\\nDMSAttrConstraint({\\'name\\': \\'exp_type\\', \\'sources\\': [\\'exp_type\\'], \\'value\\': \\'nis_wfss\\'})\\\\nDMSAttrConstraint({\\'name\\': \\'opt_elem\\', \\'sources\\': [\\'filter\\'], \\'value\\': \\'gr150r|gr150c\\'})\\\\nDMSAttrConstraint({\\'name\\': \\'opt_elem2\\', \\'sources\\': [\\'pupil\\'], \\'value\\': \\'f200w\\'})\\\\nConstraint_Obsnum({\\'name\\': \\'obs_num\\', \\'sources\\': [\\'obs_num\\'], \\'value\\': None})\\\\nConstraint_TargetAcq({\\'name\\': \\'target_acq\\', \\'value\\': \\'target_acquisition\\'})\\\\nDMSAttrConstraint({\\'name\\': \\'acq_obsnum\\', \\'sources\\': [\\'obs_num\\'], \\'value\\': <function AsnMixin_Science.__init__.<locals>.<lambda> at 0x2b6cff704160>})\\\\nDMSAttrConstraint({\\'name\\': \\'asn_candidate\\', \\'sources\\': [\\'asn_candidate\\'], \\'value\\': \\\\\"\\\\\\\\\\\\\\\\(\\'o002\\',\\\\\\\\\\\\\\\\ \\'observation\\'\\\\\\\\\\\\\\\\)\\\\\"})\",\\n    \"asn_id\": \"o002\",\\n    \"target\": \"t001\",\\n    \"asn_pool\": \"jw02738_20220826t060833_pool.csv\",\\n    \"products\": [\\n        {\\n            \"name\": \"jw02738-o002_{source_id}_niriss_f200w-gr150c-gr150r\",\\n            \"members\": [\\n                {\\n                    \"expname\": \"jw02738002001_10201_00004_nis_cal.fits\",\\n                    \"exptype\": \"science\",\\n                    \"exposerr\": \"null\",\\n                    \"asn_candidate\": \"(\\'o002\\', \\'observation\\')\"\\n                },\\n                {\\n                    \"expname\": \"jw02738002001_10201_00002_nis_cal.fits\",\\n                    \"exptype\": \"science\",\\n                    \"exposerr\": \"null\",\\n                    \"asn_candidate\": \"(\\'o002\\', \\'observation\\')\"\\n                },\\n                {\\n                    \"expname\": \"jw02738002001_10201_00001_nis_cal.fits\",\\n                    \"exptype\": \"science\",\\n                    \"exposerr\": \"null\",\\n                    \"asn_candidate\": \"(\\'o002\\', \\'observation\\')\"\\n                },\\n                {\\n                    \"expname\": \"jw02738002001_10201_00003_nis_cal.fits\",\\n                    \"exptype\": \"science\",\\n                    \"exposerr\": \"null\",\\n                    \"asn_candidate\": \"(\\'o002\\', \\'observation\\')\"\\n                },\\n                {\\n                    \"expname\": \"jw02738002001_04201_00002_nis_cal.fits\",\\n                    \"exptype\": \"science\",\\n                    \"exposerr\": \"null\",\\n                    \"asn_candidate\": \"(\\'o002\\', \\'observation\\')\"\\n                },\\n                {\\n                    \"expname\": \"jw02738002001_04201_00003_nis_cal.fits\",\\n                    \"exptype\": \"science\",\\n                    \"exposerr\": \"null\",\\n                    \"asn_candidate\": \"(\\'o002\\', \\'observation\\')\"\\n                },\\n                {\\n                    \"expname\": \"jw02738002001_04201_00001_nis_cal.fits\",\\n                    \"exptype\": \"science\",\\n                    \"exposerr\": \"null\",\\n                    \"asn_candidate\": \"(\\'o002\\', \\'observation\\')\"\\n                },\\n                {\\n                    \"expname\": \"jw02738002001_04201_00004_nis_cal.fits\",\\n                    \"exptype\": \"science\",\\n                    \"exposerr\": \"null\",\\n                    \"asn_candidate\": \"(\\'o002\\', \\'observation\\')\"\\n                }\\n            ]\\n        }\\n    ]\\n}'\n"
          ]
        }
      ]
    },
    {
      "cell_type": "code",
      "source": [
        "# filter output and make human readable\n",
        "\n",
        "print(json.dumps(results_json, indent=4, sort_keys=True))"
      ],
      "metadata": {
        "colab": {
          "base_uri": "https://localhost:8080/"
        },
        "id": "5noVNnemc1OD",
        "outputId": "a49397f4-d7e5-442b-d1e1-de2bea4ef1ff"
      },
      "execution_count": 32,
      "outputs": [
        {
          "output_type": "stream",
          "name": "stdout",
          "text": [
            "{\n",
            "    \"asn_id\": \"o002\",\n",
            "    \"asn_pool\": \"jw02738_20220826t060833_pool.csv\",\n",
            "    \"asn_rule\": \"candidate_Asn_Lv3WFSSNIS\",\n",
            "    \"asn_type\": \"spec3\",\n",
            "    \"code_version\": \"1.6.2\",\n",
            "    \"constraints\": \"DMSAttrConstraint({'name': 'program', 'sources': ['program'], 'value': '2738'})\\nDMSAttrConstraint({'name': 'instrument', 'sources': ['instrume'], 'value': 'niriss'})\\nConstraint_Target({'name': 'target', 'sources': ['targetid'], 'value': '1'})\\nDMSAttrConstraint({'name': 'exp_type', 'sources': ['exp_type'], 'value': 'nis_wfss'})\\nDMSAttrConstraint({'name': 'opt_elem', 'sources': ['filter'], 'value': 'gr150r|gr150c'})\\nDMSAttrConstraint({'name': 'opt_elem2', 'sources': ['pupil'], 'value': 'f200w'})\\nConstraint_Obsnum({'name': 'obs_num', 'sources': ['obs_num'], 'value': None})\\nConstraint_TargetAcq({'name': 'target_acq', 'value': 'target_acquisition'})\\nDMSAttrConstraint({'name': 'acq_obsnum', 'sources': ['obs_num'], 'value': <function AsnMixin_Science.__init__.<locals>.<lambda> at 0x2b6cff704160>})\\nDMSAttrConstraint({'name': 'asn_candidate', 'sources': ['asn_candidate'], 'value': \\\"\\\\\\\\('o002',\\\\\\\\ 'observation'\\\\\\\\)\\\"})\",\n",
            "    \"degraded_status\": \"No known degraded exposures in association.\",\n",
            "    \"products\": [\n",
            "        {\n",
            "            \"members\": [\n",
            "                {\n",
            "                    \"asn_candidate\": \"('o002', 'observation')\",\n",
            "                    \"expname\": \"jw02738002001_10201_00004_nis_cal.fits\",\n",
            "                    \"exposerr\": \"null\",\n",
            "                    \"exptype\": \"science\"\n",
            "                },\n",
            "                {\n",
            "                    \"asn_candidate\": \"('o002', 'observation')\",\n",
            "                    \"expname\": \"jw02738002001_10201_00002_nis_cal.fits\",\n",
            "                    \"exposerr\": \"null\",\n",
            "                    \"exptype\": \"science\"\n",
            "                },\n",
            "                {\n",
            "                    \"asn_candidate\": \"('o002', 'observation')\",\n",
            "                    \"expname\": \"jw02738002001_10201_00001_nis_cal.fits\",\n",
            "                    \"exposerr\": \"null\",\n",
            "                    \"exptype\": \"science\"\n",
            "                },\n",
            "                {\n",
            "                    \"asn_candidate\": \"('o002', 'observation')\",\n",
            "                    \"expname\": \"jw02738002001_10201_00003_nis_cal.fits\",\n",
            "                    \"exposerr\": \"null\",\n",
            "                    \"exptype\": \"science\"\n",
            "                },\n",
            "                {\n",
            "                    \"asn_candidate\": \"('o002', 'observation')\",\n",
            "                    \"expname\": \"jw02738002001_04201_00002_nis_cal.fits\",\n",
            "                    \"exposerr\": \"null\",\n",
            "                    \"exptype\": \"science\"\n",
            "                },\n",
            "                {\n",
            "                    \"asn_candidate\": \"('o002', 'observation')\",\n",
            "                    \"expname\": \"jw02738002001_04201_00003_nis_cal.fits\",\n",
            "                    \"exposerr\": \"null\",\n",
            "                    \"exptype\": \"science\"\n",
            "                },\n",
            "                {\n",
            "                    \"asn_candidate\": \"('o002', 'observation')\",\n",
            "                    \"expname\": \"jw02738002001_04201_00001_nis_cal.fits\",\n",
            "                    \"exposerr\": \"null\",\n",
            "                    \"exptype\": \"science\"\n",
            "                },\n",
            "                {\n",
            "                    \"asn_candidate\": \"('o002', 'observation')\",\n",
            "                    \"expname\": \"jw02738002001_04201_00004_nis_cal.fits\",\n",
            "                    \"exposerr\": \"null\",\n",
            "                    \"exptype\": \"science\"\n",
            "                }\n",
            "            ],\n",
            "            \"name\": \"jw02738-o002_{source_id}_niriss_f200w-gr150c-gr150r\"\n",
            "        }\n",
            "    ],\n",
            "    \"program\": \"02738\",\n",
            "    \"target\": \"t001\",\n",
            "    \"version_id\": \"20220826t060833\"\n",
            "}\n"
          ]
        }
      ]
    },
    {
      "cell_type": "code",
      "source": [
        "import requests\n",
        "import json\n",
        "import math\n",
        "\n",
        "# this is the url from the MAST API to retrieve the file\n",
        "\n",
        "API_URL = \"https://mast.stsci.edu/api/v0/download/file?uri=mast:JWST/product/jw01018001004_02101_00001_guider1_rate.fits\"\n",
        "\n",
        "# use the requests package to send the request to the API\n",
        "\n",
        "response = requests.get(API_URL, headers={'Content-Type': 'application/json'})\n",
        "\n",
        "# to see if the response was successful, check the status code of the response\n",
        "\n",
        "if not response.ok:\n",
        "    response.raise_for_status()\n",
        "\n",
        "# get the content of the response\n",
        "\n",
        "results = response.content\n",
        "# print the results to see the original output\n",
        "\n",
        "# print(results)\n",
        "\n",
        "\n",
        "# use the json package to decode the results\n",
        "\n",
        "#results_json = json.loads(results)\n",
        "# print the results to see the output\n",
        "\n",
        "#print(results)\n",
        "\n",
        "################\n",
        "\n"
      ],
      "metadata": {
        "id": "Z1NgASt1QNkN"
      },
      "execution_count": 8,
      "outputs": []
    },
    {
      "cell_type": "code",
      "source": [
        "from astropy.io import fits\n",
        "#data, header = fits.getdata(file_name, header=True)\n",
        "\n",
        "#from astropy.io import fits\n",
        "#data, header = fits.getdata('jw01018001004_02101_00001_guider1_rate.fits', header=True)\n",
        "\n",
        "#from astropy.io import fits\n",
        "#data, header = fits.getdata(file_name, header=True)\n",
        "\n",
        "#data, header = fits.getdata(\"jw01018001004_02101_00001_guider1_rate.fits\", header=True)\n",
        "\n",
        "data, header = fits.getdata(\"/content/file?uri=mast:JWST%2Fproduct%2Fjw01018001004_02101_00001_guider1_rate.fits\", header=True)\n",
        "\n",
        "#data, header = fits.getdata(\"jw01018001004_02101_00001_guider1_rate.fits\", header=True)\n",
        "\n",
        "print(data.shape)"
      ],
      "metadata": {
        "colab": {
          "base_uri": "https://localhost:8080/"
        },
        "id": "3vIh5on6nYKp",
        "outputId": "ee0fffa7-5184-421c-b48f-61cda538c554"
      },
      "execution_count": 9,
      "outputs": [
        {
          "output_type": "stream",
          "name": "stdout",
          "text": [
            "(2048, 2048)\n"
          ]
        }
      ]
    },
    {
      "cell_type": "code",
      "source": [
        "from astropy.io import fits\n",
        "\n",
        "\n",
        "# Open the fits file\n",
        "hdul = fits.open(\"/content/file?uri=mast:JWST%2Fproduct%2Fjw01018001004_02101_00001_guider1_rate.fits\")\n",
        "\n",
        "# Print out the content of the hdul file\n",
        "hdul.info()"
      ],
      "metadata": {
        "colab": {
          "base_uri": "https://localhost:8080/"
        },
        "id": "Pkmz3REhrelU",
        "outputId": "d911a81e-3615-4c17-d0fe-4d3e24eca946"
      },
      "execution_count": 10,
      "outputs": [
        {
          "output_type": "stream",
          "name": "stdout",
          "text": [
            "Filename: /content/file?uri=mast:JWST%2Fproduct%2Fjw01018001004_02101_00001_guider1_rate.fits\n",
            "No.    Name      Ver    Type      Cards   Dimensions   Format\n",
            "  0  PRIMARY       1 PrimaryHDU     234   ()      \n",
            "  1  SCI           1 ImageHDU        75   (2048, 2048)   float32   \n",
            "  2  ERR           1 ImageHDU        10   (2048, 2048)   float32   \n",
            "  3  DQ            1 ImageHDU        11   (2048, 2048)   int32 (rescales to uint32)   \n",
            "  4  VAR_POISSON    1 ImageHDU         9   (2048, 2048)   float32   \n",
            "  5  VAR_RNOISE    1 ImageHDU         9   (2048, 2048)   float32   \n",
            "  6  ASDF          1 BinTableHDU     11   1R x 1C   [7329B]   \n"
          ]
        }
      ]
    },
    {
      "cell_type": "code",
      "source": [
        "# To view the header of the fits file, use the header method:\n",
        "\n",
        "print(hdul[0].header)\n"
      ],
      "metadata": {
        "colab": {
          "base_uri": "https://localhost:8080/"
        },
        "id": "s0k83OWDrzx0",
        "outputId": "904761f0-4843-420b-b484-8d87f966a09d"
      },
      "execution_count": 11,
      "outputs": [
        {
          "output_type": "stream",
          "name": "stdout",
          "text": [
            "SIMPLE  =                    T / conforms to FITS standard                      BITPIX  =                    8 / array data type                                NAXIS   =                    0 / number of array dimensions                     EXTEND  =                    T                                                  DATE    = '2022-09-12T19:05:27.005' / UTC date file created                     ORIGIN  = 'STSCI   '           / Organization responsible for creating file     TIMESYS = 'UTC     '           / principal time system for time-related keywordsTIMEUNIT= 's       '           / Default unit applicable to all time values     FILENAME= 'jw01018001004_02101_00001_guider1_rate.fits' / Name of the file      SDP_VER = '2022_3  '           / Data processing software version number        PRD_VER = 'PRDOPSSOC-057'      / S&OC PRD version number used in data processingOSS_VER = '8.4.2   '           / Observatory Scheduling Software (OSS) version nCAL_VER = '1.6.2   '           / Calibration software version number            CAL_VCS = 'RELEASE '           / Calibration software version control sys numberDATAMODL= 'ImageModel'         / Type of data model                             TELESCOP= 'JWST    '           / Telescope used to acquire the data             HGA_MOVE=                    F / High Gain Antenna moved during data collection PWFSEET =    59704.74025150463 / Previous WFS exposure end time                 NWFSEST =    59705.63512118055 / Next WFS exposure start time                   COMPRESS=                    F / On-board data compression was used (T/F)                                                                                               Program information                                                                                                                                     TITLE   = 'FGS Guider Geometric Distortion and Scale' / Proposal title          PI_NAME = 'Nelan, Edmund'      / Principal investigator name                    CATEGORY= 'COM     '           / Program category                               SUBCAT  = 'FGS     '           / Program sub-category                                                                                                                   Observation identifiers                                                                                                                                 DATE-OBS= '2022-05-06'         / [yyyy-mm-dd] UTC date at start of exposure     TIME-OBS= '13:21:18.084'       / [hh:mm:ss.sss] UTC time at start of exposure   DATE-BEG= '2022-05-06T13:21:18.084' / Date-time start of exposure               DATE-END= '2022-05-06T13:27:01.661' / Date-time end of exposure                 OBS_ID  = 'V01018001004P0000000002101' / Programmatic observation identifier    VISIT_ID= '01018001004'        / Visit identifier                               PROGRAM = '01018   '           / Program number                                 OBSERVTN= '001     '           / Observation number                             VISIT   = '004     '           / Visit number                                   VISITGRP= '02      '           / Visit group identifier                         SEQ_ID  = '1       '           / Parallel sequence identifier                   ACT_ID  = '01      '           / Activity identifier                            EXPOSURE= '1       '           / Exposure request number                        BKGDTARG=                    F / Background target                              TEMPLATE= 'FGS External Calibration' / Observation template used                OBSLABEL= 'FGS1    '           / Proposer label for the observation             OBSFOLDR= 'FGS Geometric Distortion FGS-11' / Name of the APT observation folder                                                                                        Visit information                                                                                                                                       ENG_QUAL= 'OK      '           / Engineering data quality indicator from EngDB  ENGQLPTG= 'CALCULATED_TRACK_TR_202111' / Quality of pointing information from EnVISITYPE= 'PRIME_TARGETED_FIXED' / Visit type                                   VSTSTART= '2022-05-06 13:14:15.5180000' / UTC visit start time                  VISITSTA= 'SUCCESSFUL'         / Status of a visit                              NEXPOSUR=                    1 / Total number of planned exposures in visit     INTARGET=                    F / At least one exposure in visit is internal     TARGOOPP=                    F / Visit scheduled as target of opportunity       TSOVISIT=                    F / Time Series Observation visit indicator        EXP_ONLY=                    F / Special commanding without SI configuration    CROWDFLD=                    T / Are the FGSes in a crowded field?                                                                                                      Target information                                                                                                                                      TARGPROP= 'LMC-ASTROMETRIC-FIELD' / Proposer's name for the target              TARGNAME= 'Gaia DR1 4657988102378365184' / Standard astronomical catalog name foTARGTYPE= 'FIXED   '           / Type of target (fixed, moving, generic)        TARG_RA =    80.48876249999999 / Target RA at mid time of exposure              TARG_DEC=   -69.49941666666666 / Target Dec at mid time of exposure             TARGURA =                  0.1 / Target RA uncertainty                          TARGUDEC=                  0.1 / Target Dec uncertainty                         MU_RA   =                  0.0 / Target proper motion in RA                     MU_DEC  =                  0.0 / Target proper motion in Dec                    PROP_RA =    80.48876249999998 / Proposer's target RA                           PROP_DEC=   -69.49941666666666 / Proposer's target Dec                                                                                                                  Instrument configuration information                                                                                                                    INSTRUME= 'FGS     '           / Instrument used to acquire the data            DETECTOR= 'GUIDER1 '           / Name of detector used to acquire the data      FOCUSPOS=    2.289771000000001 / Focus position                                 LAMP    = 'OFF     '           / Internal lamp state                                                                                                                    Exposure parameters                                                                                                                                     EXPCOUNT=                    1 / Running count of exposures in visit            EXPRIPAR= 'PRIME   '           / Prime or parallel exposure                     EXP_TYPE= 'FGS_IMAGE'          / Type of data in the exposure                   EXPSTART=    59705.55645930972 / UTC exposure start time                        EXPMID  =    59705.55844760047 / UTC exposure mid time                          EXPEND  =     59705.5604358912 / UTC exposure end time                          OSF_FILE= '2022126T135804366_003_osf.xml' / Observatory Status File name coverinREADPATT= 'FGSRAPID'           / Readout pattern                                NOUTPUTS=                    4 / Number of detector outputs used                NINTS   =                    2 / Number of integrations in exposure             NGROUPS =                   15 / Number of groups in integration                NFRAMES =                    1 / Number of frames per group                     FRMDIVSR=                    1 / Divisor applied to frame-averaged groups       GROUPGAP=                    0 / Number of frames dropped between groups        DRPFRMS1=                    0 / Frames dropped at start of each integration    DRPFRMS3=                    0 / Frames dropped at end of each integration      NSAMPLES=                    1 / Number of A/D samples per pixel                TSAMPLE =                 10.0 / [us] Time between samples                      TFRAME  =             10.73677 / [s] Time between frames                        TGROUP  =             10.73677 / [s] Time between groups                        EFFINTTM=            161.05155 / [s] Effective integration time                 EFFEXPTM=              322.103 / [s] Effective exposure time                    DURATION=              343.577 / [s] Total duration of exposure                 NRSTSTRT=                    1 / Number of resets at start of exposure          NRESETS =                    1 / Number of resets between integrations          ZEROFRAM=                    F / Zero frame was downlinked separately           DATAPROB=                    F / Science telemetry indicated a problem          SCA_NUM =                  497 / Sensor Chip Assembly number                    DATAMODE=                   85 / post-processing method used in FPAP            SCTARATE=  0.02388859148084427 / [ms/s] Spacecraft Clock Time Adjust RATE                                                                                               Subarray parameters                                                                                                                                     SUBARRAY= 'FULL    '           / Subarray used                                  SUBSTRT1=                    1 / Starting pixel in axis 1 direction             SUBSTRT2=                    1 / Starting pixel in axis 2 direction             SUBSIZE1=                 2048 / Number of pixels in axis 1 direction           SUBSIZE2=                 2048 / Number of pixels in axis 2 direction           FASTAXIS=                   -2 / Fast readout axis direction                    SLOWAXIS=                   -1 / Slow readout axis direction                                                                                                            Dither information                                                                                                                                      PRIDTPTS=                    5 / Number of points in primary dither pattern     PATT_NUM=                    5 / Position number in primary pattern             NUMDTHPT=                    5 / Total number of points in pattern              SUBPXPTS=                    1 / Number of points in subpixel dither pattern    XOFFSET =   -32.76016570215516 / x offset from pattern starting position        YOFFSET =    32.76000410557005 / y offset from pattern starting position                                                                                                Aperture information                                                                                                                                    APERNAME= 'FGS1_FULL'          / PRD science aperture used                      PPS_APER= 'FGS1_FULL'          / original AperName supplied by PPS                                                                                                      Velocity aberration correction information                                                                                                              VA_RA   =    80.48126494294735 / [deg] Velocity aberrated apparent reference RA VA_DEC  =    -69.4901641151352 / [deg] Velocity aberrated apparent reference Dec                                                                                        Time information                                                                                                                                        BARTDELT=    187.1062327874824 / Barycentric time correction                    BSTRTIME=    59705.55862489112 / [d] Barycentric exposure start time in MJD     BENDTIME=    59705.56260144788 / [d] Barycentric exposure end time in MJD       BMIDTIME=    59705.56061316951 / [d] Barycentric exposure mid time in MJD       HELIDELT=    186.3847112283111 / Heliocentric time correction                   HSTRTIME=    59705.55861654018 / [d] Heliocentric exposure start time in MJD    HENDTIME=     59705.5625930969 / [d] Heliocentric exposure end time in MJD      HMIDTIME=    59705.56060481855 / [d] Heliocentric exposure mid time in MJD                                                                                              Guide star information                                                                                                                                  GS_ORDER=                    1 / index of guide star within list of selected guiGSSTRTTM= '2022-05-06 13:19:12.4780000' / UTC time when guide star activity starGSENDTIM= '2022-05-06 13:20:41.5660000' / UTC time when guide star activity compGDSTARID= 'S1HP086850'         / guide star identifier                          GS_RA   =    80.63042987387026 / guide star right ascension                     GS_DEC  =   -69.47388330774169 / guide star declination                         GS_URA  = 0.000125931853601785 / guide star right ascension uncertainty         GS_UDEC = 0.000215623701043001 / guide star declination uncertainty             GS_MAG  =    14.79442596435547 / guide star magnitude in FGS detector           GS_UMAG =  0.04099788889288902 / guide star magnitude uncertainty               GS_V3_PA=    144.5230258612631 / V3 Position Angle of guide star for science    PCS_MODE= 'FINEGUIDE'          / Pointing Control System mode                   VISITEND= '2022-05-06 13:27:40.3810000' / Observatory UTC time when the visit co                                                                                        Reference file information                                                                                                                                                                                                                      CRDS parameters                                                                                                                                         CRDS_VER= '11.16.6 '           / Version of CRDS file selection software used   CRDS_CTX= 'jwst_0970.pmap'     / CRDS context (.pmap) used to select ref files                                                                                          Dark reference file information                                                                                                                         R_DARK  = 'crds://jwst_fgs_dark_0100.fits' / Dark reference file name                                                                                                   Gain reference file information                                                                                                                         R_GAIN  = 'crds://jwst_fgs_gain_0010.fits' / Gain reference file name                                                                                                   Linearity reference file information                                                                                                                    R_LINEAR= 'crds://jwst_fgs_linearity_0018.fits' / Linearity reference file name                                                                                         Mask reference file information                                                                                                                         R_MASK  = 'crds://jwst_fgs_mask_0037.fits' / Mask reference file name                                                                                                   Persistence saturation reference file information                                                                                                       R_PERSAT= 'crds://jwst_fgs_persat_0006.fits' / Persistence saturation reference                                                                                         Read noise reference file information                                                                                                                   R_READNO= 'crds://jwst_fgs_readnoise_0010.fits' / Read noise reference file name                                                                                        Saturation reference file information                                                                                                                   R_SATURA= 'crds://jwst_fgs_saturation_0018.fits' / Saturation reference file nam                                                                                        Superbias reference file information                                                                                                                    R_SUPERB= 'crds://jwst_fgs_superbias_0026.fits' / Superbias reference file name                                                                                         Trap density reference file information                                                                                                                 R_TRPDEN= 'crds://jwst_fgs_trapdensity_0004.fits' / Trap density reference file                                                                                         Trap parameters reference file information                                                                                                              R_TRPPAR= 'crds://jwst_fgs_trappars_0003.fits' / Trap parameters reference file                                                                                         Calibration step information                                                                                                                            S_DARK  = 'COMPLETE'           / Dark Subtraction                               S_DQINIT= 'COMPLETE'           / Data Quality Initialization                    S_GANSCL= 'SKIPPED '           / Gain Scale Correction                          S_GRPSCL= 'SKIPPED '           / Group Scale Correction                         S_IPC   = 'SKIPPED '           / Interpixel Capacitance Correction              S_JUMP  = 'COMPLETE'           / Jump Detection                                 S_LINEAR= 'COMPLETE'           / Linearity Correction                           S_PERSIS= 'COMPLETE'           / Persistence Correction                         S_RAMP  = 'COMPLETE'           / Ramp Fitting                                   S_REFPIX= 'COMPLETE'           / Reference Pixel Correction                     S_SATURA= 'COMPLETE'           / Saturation Checking                            S_SUPERB= 'COMPLETE'           / Superbias Subtraction                          END                                                                                                                                                                                                                                                                                                                                                                                                                                                                                                                                                                                                                                                                                                                                                                                                                                                                                                                                                                                                                                                                                                                                                                                                                                                                                                                                                                                                                                                                                             \n"
          ]
        }
      ]
    },
    {
      "cell_type": "code",
      "source": [
        "# To view the data:\n",
        "\n",
        "hdul[0].data\n"
      ],
      "metadata": {
        "id": "T_j9t_DEsjag"
      },
      "execution_count": 12,
      "outputs": []
    },
    {
      "cell_type": "code",
      "source": [
        "from astropy.io import fits\n",
        "from astropy.wcs import WCS\n",
        "import matplotlib.pyplot as plt\n",
        " \n",
        "# Open the FITS file and retrieve the data\n",
        "# and WCS header keyword information from the\n",
        "# first science extension. Save the WCS\n",
        "# information into an Astropy WCS object.\n",
        "with fits.open('/content/file?uri=mast:JWST%2Fproduct%2Fjw01018001004_02101_00001_guider1_rate.fits') as hdu:\n",
        "    data = hdul[1].data\n",
        "    wcs = WCS(hdul[1].header)\n",
        " \n",
        "# Select a subsection of the image to display.\n",
        "# Here we have selected a 400 x 400 pixel section\n",
        "# with x = [280:680] and y = [2290:2690].\n",
        "#cutout = data[2290:2690, 280:680]\n",
        " \n",
        "# Create the plotting object with the WCS projection.\n",
        "plt.subplot(projection=wcs)\n",
        "#plt.imshow(cutout, vmin=0, vmax=0.2)\n",
        "plt.grid(color='white', ls=':', alpha=0.7)\n",
        "plt.xlabel('Right Ascension')\n",
        "plt.ylabel('Declination')\n",
        " \n",
        "# Save the figure.\n",
        "plt.savefig('galaxies_wcs.png')"
      ],
      "metadata": {
        "colab": {
          "base_uri": "https://localhost:8080/",
          "height": 488
        },
        "id": "sLfIsfwotSXq",
        "outputId": "d7d5d2e3-8295-4f00-e622-d3a0ee8109dc"
      },
      "execution_count": 13,
      "outputs": [
        {
          "output_type": "stream",
          "name": "stderr",
          "text": [
            "WARNING: FITSFixedWarning: 'datfix' made the change 'Set DATE-BEG to '2022-05-06T13:21:18.084' from MJD-BEG.\n",
            "Set DATE-AVG to '2022-05-06T13:24:09.873' from MJD-AVG.\n",
            "Set DATE-END to '2022-05-06T13:27:01.661' from MJD-END'. [astropy.wcs.wcs]\n",
            "WARNING:astropy:FITSFixedWarning: 'datfix' made the change 'Set DATE-BEG to '2022-05-06T13:21:18.084' from MJD-BEG.\n",
            "Set DATE-AVG to '2022-05-06T13:24:09.873' from MJD-AVG.\n",
            "Set DATE-END to '2022-05-06T13:27:01.661' from MJD-END'.\n",
            "WARNING: FITSFixedWarning: 'obsfix' made the change 'Set OBSGEO-L to  -107.716266 from OBSGEO-[XYZ].\n",
            "Set OBSGEO-B to   -16.674345 from OBSGEO-[XYZ].\n",
            "Set OBSGEO-H to 1430050280.090 from OBSGEO-[XYZ]'. [astropy.wcs.wcs]\n",
            "WARNING:astropy:FITSFixedWarning: 'obsfix' made the change 'Set OBSGEO-L to  -107.716266 from OBSGEO-[XYZ].\n",
            "Set OBSGEO-B to   -16.674345 from OBSGEO-[XYZ].\n",
            "Set OBSGEO-H to 1430050280.090 from OBSGEO-[XYZ]'.\n"
          ]
        },
        {
          "output_type": "display_data",
          "data": {
            "text/plain": [
              "<Figure size 432x288 with 1 Axes>"
            ],
            "image/png": "[encoded data removed]"
          },
          "metadata": {
            "needs_background": "light"
          }
        }
      ]
    },
    {
      "cell_type": "code",
      "source": [
        "# Match the x and y coordinates of an image in pixel space\n",
        "# to the pixel coordinates of an image in data space.\n",
        "\n",
        "# Import the necessary modules.\n",
        "from astropy.io import fits\n",
        "from astropy.wcs import WCS\n",
        "import matplotlib.pyplot as plt\n",
        " \n",
        "# Open the Hubble Space Telescope image of NGC 3370 and\n",
        "# access the WCS information.\n",
        "with fits.open('/content/file?uri=mast:JWST%2Fproduct%2Fjw01018001004_02101_00001_guider1_rate.fits') as hdu:\n",
        "    data = hdul[1].data\n",
        "    wcs = WCS(hdu[1].header)"
      ],
      "metadata": {
        "colab": {
          "base_uri": "https://localhost:8080/"
        },
        "id": "lqB53G0M2-wx",
        "outputId": "e00aa6b6-f890-46a0-a001-f6cb4deb3221"
      },
      "execution_count": 15,
      "outputs": [
        {
          "output_type": "stream",
          "name": "stderr",
          "text": [
            "WARNING: FITSFixedWarning: 'datfix' made the change 'Set DATE-BEG to '2022-05-06T13:21:18.084' from MJD-BEG.\n",
            "Set DATE-AVG to '2022-05-06T13:24:09.873' from MJD-AVG.\n",
            "Set DATE-END to '2022-05-06T13:27:01.661' from MJD-END'. [astropy.wcs.wcs]\n",
            "WARNING:astropy:FITSFixedWarning: 'datfix' made the change 'Set DATE-BEG to '2022-05-06T13:21:18.084' from MJD-BEG.\n",
            "Set DATE-AVG to '2022-05-06T13:24:09.873' from MJD-AVG.\n",
            "Set DATE-END to '2022-05-06T13:27:01.661' from MJD-END'.\n",
            "WARNING: FITSFixedWarning: 'obsfix' made the change 'Set OBSGEO-L to  -107.716266 from OBSGEO-[XYZ].\n",
            "Set OBSGEO-B to   -16.674345 from OBSGEO-[XYZ].\n",
            "Set OBSGEO-H to 1430050280.090 from OBSGEO-[XYZ]'. [astropy.wcs.wcs]\n",
            "WARNING:astropy:FITSFixedWarning: 'obsfix' made the change 'Set OBSGEO-L to  -107.716266 from OBSGEO-[XYZ].\n",
            "Set OBSGEO-B to   -16.674345 from OBSGEO-[XYZ].\n",
            "Set OBSGEO-H to 1430050280.090 from OBSGEO-[XYZ]'.\n"
          ]
        }
      ]
    },
    {
      "cell_type": "code",
      "source": [
        "# plot the image and extract the image header information.\n",
        "fig = plt.figure()\n",
        "fig.add_subplot(111, projection=wcs)\n",
        "plt.imshow(data)\n",
        "plt.xlabel('RA')\n",
        "plt.ylabel('Dec')\n",
        "\n",
        "# Extract the pixel coordinates of the four corners of the\n",
        "# image.\n",
        "xy_corners = [(0, 0), (0, data.shape[1]),\n",
        "              (data.shape[0], data.shape[1]),\n",
        "              (data.shape[0], 0)]\n",
        "\n",
        "# Convert these pixel coordinates to data coordinates using\n",
        "# the WCS object.\n",
        "xy_pix = [wcs.wcs_pix2world(x, y, 0) for x, y in xy_corners]\n",
        "\n",
        "# Note: The output of the wcs_pix2world method is a tuple,\n",
        "#       containing a longitude value and a latitude value.\n",
        "#       We can unpack these values into a list and then\n",
        "#       convert the values back to Python tuples.\n",
        "xy_pix = [(x[0], x[1]) for x in xy_pix]\n",
        "\n",
        "\n",
        "# Append the first data coordinate as the last data coordinate\n",
        "# to close the region, and convert the list of tuples back into\n",
        "# a list of lists.\n",
        "xy_pix.append(xy_pix[0])\n",
        "xy_pix = [list(x) for x in xy_pix]\n",
        "\n",
        "# Plot the resulting region using the matplotlib.patches module.\n",
        "from matplotlib.patches import Polygon\n",
        "fig = plt.figure()\n",
        "fig.add_subplot(111, projection=wcs)\n",
        "plt.imshow(data)\n",
        "plt.xlabel('RA')\n",
        "plt.ylabel('Dec')\n",
        "pl = Polygon(xy_pix, closed=True, fill=False, color='white')\n",
        "plt.gca().add_patch(pl)\n",
        "\n",
        "# Save the figure.\n",
        "plt.savefig('galaxy_wcs_poly.png')"
      ],
      "metadata": {
        "colab": {
          "base_uri": "https://localhost:8080/",
          "height": 543
        },
        "id": "lQe47XlO3fTR",
        "outputId": "e71779a7-c6ba-4983-8659-4af58c528cb6"
      },
      "execution_count": 16,
      "outputs": [
        {
          "output_type": "display_data",
          "data": {
            "text/plain": [
              "<Figure size 432x288 with 1 Axes>"
            ],
            "image/png": "[encoded data removed]"
          },
          "metadata": {
            "needs_background": "light"
          }
        },
        {
          "output_type": "display_data",
          "data": {
            "text/plain": [
              "<Figure size 432x288 with 1 Axes>"
            ],
            "image/png": "[encoded data removed]"
          },
          "metadata": {
            "needs_background": "light"
          }
        }
      ]
    },
    {
      "cell_type": "code",
      "source": [
        "# Import the necessary modules.\n",
        "from astropy.io import fits\n",
        "from astropy.wcs import WCS\n",
        "import matplotlib.pyplot as plt\n",
        " \n",
        "# Open the FITS file and retrieve the data\n",
        "# and WCS header keyword information from the\n",
        "# first science extension. Save the WCS\n",
        "# information into an Astropy WCS object.\n",
        "with fits.open('/content/file?uri=mast:JWST%2Fproduct%2Fjw01018001004_02101_00001_guider1_rate.fits') as hdu:\n",
        "    data = hdul[1].data\n",
        "    wcs = WCS(hdu[1].header)\n",
        " \n",
        "# Create the figure and image plot.\n",
        "fig = plt.figure()\n",
        "ax = fig.add_subplot(111, projection=wcs)\n",
        "im = ax.imshow(data, origin='lower', cmap='gray_r')\n",
        " \n",
        "# Create a grid of x and y pixel coordinates.\n",
        "x = (np.arange(0, data.shape[1], 1))\n",
        "y = (np.arange(0, data.shape[0], 1))\n",
        "x, y = np.meshgrid(x, y)\n",
        " \n",
        "# Convert these pixel coordinates to data coordinates using\n",
        "# the WCS object.\n",
        "ra, dec = wcs.wcs_pix2world(x, y, 0)\n",
        " \n",
        "# Plot the resulting \"grid\" lines using the ra/dec coordinates.\n",
        "ax.plot_coord('galactic', ra, dec, color='red', linewidth=0.9)\n",
        " \n",
        "# Plot the ra/dec coordinate grid.\n",
        "ax.set_autoscale_on(False)\n",
        "plt.xlabel('RA')\n",
        "plt.ylabel('Dec')\n",
        " \n",
        "# Save the figure.\n",
        "plt.savefig('galaxies_wcs_grid.png')"
      ],
      "metadata": {
        "colab": {
          "base_uri": "https://localhost:8080/",
          "height": 851
        },
        "id": "1n3-AHeH4b_X",
        "outputId": "31c635d3-0d48-44a3-8af3-a671f9e98d3f"
      },
      "execution_count": 17,
      "outputs": [
        {
          "output_type": "stream",
          "name": "stderr",
          "text": [
            "WARNING: FITSFixedWarning: 'datfix' made the change 'Set DATE-BEG to '2022-05-06T13:21:18.084' from MJD-BEG.\n",
            "Set DATE-AVG to '2022-05-06T13:24:09.873' from MJD-AVG.\n",
            "Set DATE-END to '2022-05-06T13:27:01.661' from MJD-END'. [astropy.wcs.wcs]\n",
            "WARNING:astropy:FITSFixedWarning: 'datfix' made the change 'Set DATE-BEG to '2022-05-06T13:21:18.084' from MJD-BEG.\n",
            "Set DATE-AVG to '2022-05-06T13:24:09.873' from MJD-AVG.\n",
            "Set DATE-END to '2022-05-06T13:27:01.661' from MJD-END'.\n",
            "WARNING: FITSFixedWarning: 'obsfix' made the change 'Set OBSGEO-L to  -107.716266 from OBSGEO-[XYZ].\n",
            "Set OBSGEO-B to   -16.674345 from OBSGEO-[XYZ].\n",
            "Set OBSGEO-H to 1430050280.090 from OBSGEO-[XYZ]'. [astropy.wcs.wcs]\n",
            "WARNING:astropy:FITSFixedWarning: 'obsfix' made the change 'Set OBSGEO-L to  -107.716266 from OBSGEO-[XYZ].\n",
            "Set OBSGEO-B to   -16.674345 from OBSGEO-[XYZ].\n",
            "Set OBSGEO-H to 1430050280.090 from OBSGEO-[XYZ]'.\n"
          ]
        },
        {
          "output_type": "error",
          "ename": "ValueError",
          "evalue": "ignored",
          "traceback": [
            "\u001b[0;31m---------------------------------------------------------------------------\u001b[0m",
            "\u001b[0;31mValueError\u001b[0m                                Traceback (most recent call last)",
            "\u001b[0;32m<ipython-input-17-82dd65bf404c>\u001b[0m in \u001b[0;36m<module>\u001b[0;34m\u001b[0m\n\u001b[1;32m     27\u001b[0m \u001b[0;34m\u001b[0m\u001b[0m\n\u001b[1;32m     28\u001b[0m \u001b[0;31m# Plot the resulting \"grid\" lines using the ra/dec coordinates.\u001b[0m\u001b[0;34m\u001b[0m\u001b[0;34m\u001b[0m\u001b[0;34m\u001b[0m\u001b[0m\n\u001b[0;32m---> 29\u001b[0;31m \u001b[0max\u001b[0m\u001b[0;34m.\u001b[0m\u001b[0mplot_coord\u001b[0m\u001b[0;34m(\u001b[0m\u001b[0;34m'galactic'\u001b[0m\u001b[0;34m,\u001b[0m \u001b[0mra\u001b[0m\u001b[0;34m,\u001b[0m \u001b[0mdec\u001b[0m\u001b[0;34m,\u001b[0m \u001b[0mcolor\u001b[0m\u001b[0;34m=\u001b[0m\u001b[0;34m'red'\u001b[0m\u001b[0;34m,\u001b[0m \u001b[0mlinewidth\u001b[0m\u001b[0;34m=\u001b[0m\u001b[0;36m0.9\u001b[0m\u001b[0;34m)\u001b[0m\u001b[0;34m\u001b[0m\u001b[0;34m\u001b[0m\u001b[0m\n\u001b[0m\u001b[1;32m     30\u001b[0m \u001b[0;34m\u001b[0m\u001b[0m\n\u001b[1;32m     31\u001b[0m \u001b[0;31m# Plot the ra/dec coordinate grid.\u001b[0m\u001b[0;34m\u001b[0m\u001b[0;34m\u001b[0m\u001b[0;34m\u001b[0m\u001b[0m\n",
            "\u001b[0;32m/usr/local/lib/python3.7/dist-packages/astropy/visualization/wcsaxes/core.py\u001b[0m in \u001b[0;36mplot_coord\u001b[0;34m(self, *args, **kwargs)\u001b[0m\n\u001b[1;32m    324\u001b[0m             \u001b[0margs\u001b[0m \u001b[0;34m=\u001b[0m \u001b[0mtuple\u001b[0m\u001b[0;34m(\u001b[0m\u001b[0mplot_data\u001b[0m\u001b[0;34m)\u001b[0m \u001b[0;34m+\u001b[0m \u001b[0margs\u001b[0m\u001b[0;34m[\u001b[0m\u001b[0;36m1\u001b[0m\u001b[0;34m:\u001b[0m\u001b[0;34m]\u001b[0m\u001b[0;34m\u001b[0m\u001b[0;34m\u001b[0m\u001b[0m\n\u001b[1;32m    325\u001b[0m \u001b[0;34m\u001b[0m\u001b[0m\n\u001b[0;32m--> 326\u001b[0;31m         \u001b[0;32mreturn\u001b[0m \u001b[0msuper\u001b[0m\u001b[0;34m(\u001b[0m\u001b[0;34m)\u001b[0m\u001b[0;34m.\u001b[0m\u001b[0mplot\u001b[0m\u001b[0;34m(\u001b[0m\u001b[0;34m*\u001b[0m\u001b[0margs\u001b[0m\u001b[0;34m,\u001b[0m \u001b[0;34m**\u001b[0m\u001b[0mkwargs\u001b[0m\u001b[0;34m)\u001b[0m\u001b[0;34m\u001b[0m\u001b[0;34m\u001b[0m\u001b[0m\n\u001b[0m\u001b[1;32m    327\u001b[0m \u001b[0;34m\u001b[0m\u001b[0m\n\u001b[1;32m    328\u001b[0m     \u001b[0;32mdef\u001b[0m \u001b[0mreset_wcs\u001b[0m\u001b[0;34m(\u001b[0m\u001b[0mself\u001b[0m\u001b[0;34m,\u001b[0m \u001b[0mwcs\u001b[0m\u001b[0;34m=\u001b[0m\u001b[0;32mNone\u001b[0m\u001b[0;34m,\u001b[0m \u001b[0mslices\u001b[0m\u001b[0;34m=\u001b[0m\u001b[0;32mNone\u001b[0m\u001b[0;34m,\u001b[0m \u001b[0mtransform\u001b[0m\u001b[0;34m=\u001b[0m\u001b[0;32mNone\u001b[0m\u001b[0;34m,\u001b[0m \u001b[0mcoord_meta\u001b[0m\u001b[0;34m=\u001b[0m\u001b[0;32mNone\u001b[0m\u001b[0;34m)\u001b[0m\u001b[0;34m:\u001b[0m\u001b[0;34m\u001b[0m\u001b[0;34m\u001b[0m\u001b[0m\n",
            "\u001b[0;32m/usr/local/lib/python3.7/dist-packages/matplotlib/axes/_axes.py\u001b[0m in \u001b[0;36mplot\u001b[0;34m(self, scalex, scaley, data, *args, **kwargs)\u001b[0m\n\u001b[1;32m   1645\u001b[0m         \"\"\"\n\u001b[1;32m   1646\u001b[0m         \u001b[0mkwargs\u001b[0m \u001b[0;34m=\u001b[0m \u001b[0mcbook\u001b[0m\u001b[0;34m.\u001b[0m\u001b[0mnormalize_kwargs\u001b[0m\u001b[0;34m(\u001b[0m\u001b[0mkwargs\u001b[0m\u001b[0;34m,\u001b[0m \u001b[0mmlines\u001b[0m\u001b[0;34m.\u001b[0m\u001b[0mLine2D\u001b[0m\u001b[0;34m)\u001b[0m\u001b[0;34m\u001b[0m\u001b[0;34m\u001b[0m\u001b[0m\n\u001b[0;32m-> 1647\u001b[0;31m         \u001b[0mlines\u001b[0m \u001b[0;34m=\u001b[0m \u001b[0;34m[\u001b[0m\u001b[0;34m*\u001b[0m\u001b[0mself\u001b[0m\u001b[0;34m.\u001b[0m\u001b[0m_get_lines\u001b[0m\u001b[0;34m(\u001b[0m\u001b[0;34m*\u001b[0m\u001b[0margs\u001b[0m\u001b[0;34m,\u001b[0m \u001b[0mdata\u001b[0m\u001b[0;34m=\u001b[0m\u001b[0mdata\u001b[0m\u001b[0;34m,\u001b[0m \u001b[0;34m**\u001b[0m\u001b[0mkwargs\u001b[0m\u001b[0;34m)\u001b[0m\u001b[0;34m]\u001b[0m\u001b[0;34m\u001b[0m\u001b[0;34m\u001b[0m\u001b[0m\n\u001b[0m\u001b[1;32m   1648\u001b[0m         \u001b[0;32mfor\u001b[0m \u001b[0mline\u001b[0m \u001b[0;32min\u001b[0m \u001b[0mlines\u001b[0m\u001b[0;34m:\u001b[0m\u001b[0;34m\u001b[0m\u001b[0;34m\u001b[0m\u001b[0m\n\u001b[1;32m   1649\u001b[0m             \u001b[0mself\u001b[0m\u001b[0;34m.\u001b[0m\u001b[0madd_line\u001b[0m\u001b[0;34m(\u001b[0m\u001b[0mline\u001b[0m\u001b[0;34m)\u001b[0m\u001b[0;34m\u001b[0m\u001b[0;34m\u001b[0m\u001b[0m\n",
            "\u001b[0;32m/usr/local/lib/python3.7/dist-packages/matplotlib/axes/_base.py\u001b[0m in \u001b[0;36m__call__\u001b[0;34m(self, *args, **kwargs)\u001b[0m\n\u001b[1;32m    214\u001b[0m                 \u001b[0mthis\u001b[0m \u001b[0;34m+=\u001b[0m \u001b[0margs\u001b[0m\u001b[0;34m[\u001b[0m\u001b[0;36m0\u001b[0m\u001b[0;34m]\u001b[0m\u001b[0;34m,\u001b[0m\u001b[0;34m\u001b[0m\u001b[0;34m\u001b[0m\u001b[0m\n\u001b[1;32m    215\u001b[0m                 \u001b[0margs\u001b[0m \u001b[0;34m=\u001b[0m \u001b[0margs\u001b[0m\u001b[0;34m[\u001b[0m\u001b[0;36m1\u001b[0m\u001b[0;34m:\u001b[0m\u001b[0;34m]\u001b[0m\u001b[0;34m\u001b[0m\u001b[0;34m\u001b[0m\u001b[0m\n\u001b[0;32m--> 216\u001b[0;31m             \u001b[0;32myield\u001b[0m \u001b[0;32mfrom\u001b[0m \u001b[0mself\u001b[0m\u001b[0;34m.\u001b[0m\u001b[0m_plot_args\u001b[0m\u001b[0;34m(\u001b[0m\u001b[0mthis\u001b[0m\u001b[0;34m,\u001b[0m \u001b[0mkwargs\u001b[0m\u001b[0;34m)\u001b[0m\u001b[0;34m\u001b[0m\u001b[0;34m\u001b[0m\u001b[0m\n\u001b[0m\u001b[1;32m    217\u001b[0m \u001b[0;34m\u001b[0m\u001b[0m\n\u001b[1;32m    218\u001b[0m     \u001b[0;32mdef\u001b[0m \u001b[0mget_next_color\u001b[0m\u001b[0;34m(\u001b[0m\u001b[0mself\u001b[0m\u001b[0;34m)\u001b[0m\u001b[0;34m:\u001b[0m\u001b[0;34m\u001b[0m\u001b[0;34m\u001b[0m\u001b[0m\n",
            "\u001b[0;32m/usr/local/lib/python3.7/dist-packages/matplotlib/axes/_base.py\u001b[0m in \u001b[0;36m_plot_args\u001b[0;34m(self, tup, kwargs)\u001b[0m\n\u001b[1;32m    340\u001b[0m \u001b[0;34m\u001b[0m\u001b[0m\n\u001b[1;32m    341\u001b[0m         \u001b[0;32mif\u001b[0m \u001b[0mx\u001b[0m\u001b[0;34m.\u001b[0m\u001b[0mshape\u001b[0m\u001b[0;34m[\u001b[0m\u001b[0;36m0\u001b[0m\u001b[0;34m]\u001b[0m \u001b[0;34m!=\u001b[0m \u001b[0my\u001b[0m\u001b[0;34m.\u001b[0m\u001b[0mshape\u001b[0m\u001b[0;34m[\u001b[0m\u001b[0;36m0\u001b[0m\u001b[0;34m]\u001b[0m\u001b[0;34m:\u001b[0m\u001b[0;34m\u001b[0m\u001b[0;34m\u001b[0m\u001b[0m\n\u001b[0;32m--> 342\u001b[0;31m             raise ValueError(f\"x and y must have same first dimension, but \"\n\u001b[0m\u001b[1;32m    343\u001b[0m                              f\"have shapes {x.shape} and {y.shape}\")\n\u001b[1;32m    344\u001b[0m         \u001b[0;32mif\u001b[0m \u001b[0mx\u001b[0m\u001b[0;34m.\u001b[0m\u001b[0mndim\u001b[0m \u001b[0;34m>\u001b[0m \u001b[0;36m2\u001b[0m \u001b[0;32mor\u001b[0m \u001b[0my\u001b[0m\u001b[0;34m.\u001b[0m\u001b[0mndim\u001b[0m \u001b[0;34m>\u001b[0m \u001b[0;36m2\u001b[0m\u001b[0;34m:\u001b[0m\u001b[0;34m\u001b[0m\u001b[0;34m\u001b[0m\u001b[0m\n",
            "\u001b[0;31mValueError\u001b[0m: x and y must have same first dimension, but have shapes (1,) and (2048, 2048)"
          ]
        },
        {
          "output_type": "display_data",
          "data": {
            "text/plain": [
              "<Figure size 432x288 with 1 Axes>"
            ],
            "image/png": "[encoded data removed]"
          },
          "metadata": {
            "needs_background": "light"
          }
        }
      ]
    },
    {
      "cell_type": "code",
      "source": [
        "# Import the necessary modules.\n",
        "from astropy.io import fits\n",
        "import matplotlib.pyplot as plt\n",
        "\n",
        "# Open the FITS file and retrieve the data\n",
        "# from the first science extension.\n",
        "with fits.open('/content/file?uri=mast:JWST%2Fproduct%2Fjw01018001004_02101_00001_guider1_rate.fits') as hdu:\n",
        "    data = hdul[1].data\n",
        "\n",
        "# Create the figure and image plot.\n",
        "fig = plt.figure()\n",
        "ax = fig.add_subplot(111)\n",
        "im = ax.imshow(data, origin='lower', cmap='gray_r')\n",
        "\n",
        "# Plot the colormap.\n",
        "plt.colorbar(im, ax=ax)\n",
        " \n",
        "# Save the figure.\n",
        "plt.savefig('color_bar.png')"
      ],
      "metadata": {
        "colab": {
          "base_uri": "https://localhost:8080/",
          "height": 265
        },
        "id": "MuuZvM4P5y_5",
        "outputId": "f6d5b0c9-2101-42a3-f2e3-a62df0f48fd9"
      },
      "execution_count": 19,
      "outputs": [
        {
          "output_type": "display_data",
          "data": {
            "text/plain": [
              "<Figure size 432x288 with 2 Axes>"
            ],
            "image/png": "[encoded data removed]"
          },
          "metadata": {
            "needs_background": "light"
          }
        }
      ]
    },
    {
      "cell_type": "code",
      "source": [
        "from astropy.io import fits\n",
        "\n",
        "\n",
        "# Open the fits file\n",
        "hdul = fits.open(\"/content/file?uri=mast:JWST%2Fproduct%2Fjw01018001004_02101_00001_guider1_rate.fits\")\n",
        "\n",
        "# Get the data\n",
        "data = hdul[1].data\n",
        "\n",
        "# Get the header\n",
        "header = hdul[0].header\n",
        "\n",
        "# Get the electronic offset data\n",
        "offset = data[1]\n",
        "\n",
        "# Create a list to hold the data\n",
        "offset_list = []\n",
        "\n",
        "# Create a list to hold the groups\n",
        "groups = []\n",
        "\n",
        "# Create a list to hold the groups\n",
        "integrations = []\n",
        "\n",
        "# Loop through the groups\n",
        "for group in range(0,total_groups):\n",
        "\n",
        "    # Create a list for this group\n",
        "    this_group = []\n",
        "\n",
        "    # Create a dictionary for this group\n",
        "    group_dict = {}\n",
        "\n",
        "    # Create a dictionary for this integration\n",
        "    int_dict = {}\n",
        "\n",
        "    # Get the group number\n",
        "    group_num = group+1\n",
        "\n",
        "    group_dict[\"group\"] = group_num\n",
        "\n",
        "    # Get the name of this group\n",
        "    group_name = 'group%s' % group_num\n",
        "\n",
        "    # Loop through the pixels in this group\n",
        "    for pixel in range(0,ramp_pix):\n",
        "\n",
        "        # Loop through the integrations\n",
        "        for integration in range(0,nints):\n",
        "\n",
        "            # Compute the integration number\n",
        "            integration_num = integration+1\n",
        "\n",
        "            # Compute the starting pixel number\n",
        "            start_pixel = (group_num-1)*ramp_pix+(integration_num-1)*group_pix\n",
        "\n",
        "            # Compute the pixel number\n",
        "            pixel_num = start_pixel + pixel\n",
        "        \n",
        "            # Get the electronic offset\n",
        "           # electronic_offset = offset[pixel_num]\n",
        "\n",
        "            # Add the electronic offset to the list\n",
        "            offset_list.append(electronic_offset)\n",
        "\n",
        "# Get the number of pixels in the list\n",
        "num_pixels = len(offset_list)\n",
        "\n",
        "# Get the number of groups\n",
        "num_groups = int(num_pixels/ramp_pix)\n",
        "\n",
        "# Get the number of integrations\n",
        "num_integrations = int(num_groups/groups_per_int)\n",
        "\n",
        "# Get the number of frames\n",
        "#num_frames = int(num_integrations/ints_per_exp)\n",
        "\n",
        "# Create a list to hold the data\n",
        "group_data = []\n",
        "\n",
        "# Create a list of lists to hold the frames\n",
        "frame_data = []\n",
        "\n",
        "# Create a list of lists to hold the integrations\n",
        "integ_data = []\n",
        "\n",
        "# Create a list of lists to hold the groups\n",
        "group_data = []\n",
        "\n",
        "# Loop through the pixels in the offset list\n",
        "for pixel in range(0,num_pixels):\n",
        "\n",
        "    # Compute the group number\n",
        "    group_num = int(pixel/ramp_pix)+1\n",
        "\n",
        "    # Compute the integration number\n",
        "    integration_num = int(group_num/groups_per_int)+1\n",
        "\n",
        "    # Compute the frame number\n",
        "    #frame_num = int(integration_num/ints_per_exp)+1\n",
        "\n",
        "    # Get the group\n",
        "    group = group_num - 1\n",
        "\n",
        "    # Get the integration\n",
        "    integ = integration_num - 1\n",
        "\n",
        "    # Get the frame\n",
        "    #frame = frame_num - 1\n",
        "\n",
        "    # If this is the first pixel in the integration\n",
        "    if (pixel == 0):\n",
        "\n",
        "        # Create an empty list to hold the integrations\n",
        "        integ_list = []\n",
        "\n",
        " # If this is the first pixel in the integration\n",
        "    if (pixel == 0):\n",
        "\n",
        "        # Create an empty list to hold the integrations\n",
        "        integ_list = []\n",
        "\n",
        "    # If this is the first pixel in the frame\n",
        "    if (pixel == 0):\n",
        "\n",
        "        # Create an empty list to hold the frames\n",
        "        frame_list = []\n",
        "\n",
        "    # If this is the first pixel in the group\n",
        "    if (pixel == 0):\n",
        "\n",
        "        # Create an empty list to hold the groups\n",
        "        group_list = []\n",
        "\n",
        "    # Add the pixel to the group list\n",
        "    group_list.append(offset_list[pixel])\n",
        "\n",
        "    # If this is the last pixel in the group\n",
        "    if (pixel == (group_num*ramp_pix)-1):\n",
        "\n",
        "        # Add the group list to the list of groups\n",
        "        group_data.append(group_list)\n",
        "\n",
        "    # If this is the last pixel in the integration\n",
        "    if (pixel == (integration_num*groups_per_int*ramp_pix)-1):\n",
        "\n",
        "        # Add the group data to the list of integrations\n",
        "        integ_data.append(group_data)\n",
        "\n",
        "        # Reset the group data\n",
        "        group_data = []\n"
      ],
      "metadata": {
        "id": "Bh2sL5vRnsPf",
        "colab": {
          "base_uri": "https://localhost:8080/",
          "height": 235
        },
        "outputId": "c21b348c-d607-4abf-dcbd-d1e061af1684"
      },
      "execution_count": 21,
      "outputs": [
        {
          "output_type": "error",
          "ename": "NameError",
          "evalue": "ignored",
          "traceback": [
            "\u001b[0;31m---------------------------------------------------------------------------\u001b[0m",
            "\u001b[0;31mNameError\u001b[0m                                 Traceback (most recent call last)",
            "\u001b[0;32m<ipython-input-21-70cb59407d27>\u001b[0m in \u001b[0;36m<module>\u001b[0;34m\u001b[0m\n\u001b[1;32m     24\u001b[0m \u001b[0;34m\u001b[0m\u001b[0m\n\u001b[1;32m     25\u001b[0m \u001b[0;31m# Loop through the groups\u001b[0m\u001b[0;34m\u001b[0m\u001b[0;34m\u001b[0m\u001b[0;34m\u001b[0m\u001b[0m\n\u001b[0;32m---> 26\u001b[0;31m \u001b[0;32mfor\u001b[0m \u001b[0mgroup\u001b[0m \u001b[0;32min\u001b[0m \u001b[0mrange\u001b[0m\u001b[0;34m(\u001b[0m\u001b[0;36m0\u001b[0m\u001b[0;34m,\u001b[0m\u001b[0mtotal_groups\u001b[0m\u001b[0;34m)\u001b[0m\u001b[0;34m:\u001b[0m\u001b[0;34m\u001b[0m\u001b[0;34m\u001b[0m\u001b[0m\n\u001b[0m\u001b[1;32m     27\u001b[0m \u001b[0;34m\u001b[0m\u001b[0m\n\u001b[1;32m     28\u001b[0m     \u001b[0;31m# Create a list for this group\u001b[0m\u001b[0;34m\u001b[0m\u001b[0;34m\u001b[0m\u001b[0;34m\u001b[0m\u001b[0m\n",
            "\u001b[0;31mNameError\u001b[0m: name 'total_groups' is not defined"
          ]
        }
      ]
    },
    {
      "cell_type": "code",
      "source": [],
      "metadata": {
        "id": "f8dKtiC5pbnJ"
      },
      "execution_count": null,
      "outputs": []
    },
    {
      "cell_type": "code",
      "source": [
        "\n",
        "# calculate more observations\n",
        "\n",
        "obs_time_indef = obs_time * 0.8\n",
        "\n",
        "#print(obs_time_indef)\n",
        "n_obs = math.floor(obs_time_indef/obs_time)\n",
        "n_obs_string = str(n_obs)\n",
        "print('This amounts to ' + n_obs_string + ' more observations')\n",
        "print('This amounts to %s more observations' % n_obs)\n",
        "\n",
        "# make a list of what to add to each observation\n",
        "\n",
        "default_list = ['nreads', 'nints', 'ngroups', 'nframes']\n",
        "default_values = [nreads, nints, ngroups, nframes]\n",
        "test_list = ['nreads', 'nints', 'ngroups', 'nframes']\n",
        "test_values = [nreads*2, nints*2, ngroups, nframes]\n",
        "\n",
        "# create a function that calculates the number of group as a function of nreads, nints, ngroups and nframes\n",
        "\n",
        "# create a function that calculates the number of group as a function of nreads, nints, ngroups and nframes\n",
        "\n",
        "def calc_groups(nreads, nints, ngroups, nframes):\n",
        "    groups = nreads*nints*ngroups*nframes\n",
        "    return groups\n",
        "\n",
        "print(calc_groups(nreads, nints, ngroups, nframes))\n",
        "\n",
        "# create a function that calculates the number of groups per integration as a function of nreads, nints, ngroups and nframes\n",
        "\n",
        "def calc_groups_per_integration(nreads, nints, ngroups, nframes):\n",
        "    groups_per_integration = calc_groups(nreads, nints, ngroups, nframes)/nints\n",
        "    return groups_per_integration\n",
        "\n",
        "print(calc_groups_per_integration(nreads, nints, ngroups, nframes))\n",
        "\n",
        "# create a function that calculates the number of groups per exposure as a function of nreads, nints, ngroups and nframes\n",
        "\n",
        "def calc_groups_per_exposure(nreads, nints, ngroups, nframes):\n",
        "    groups_per_exposure = calc_groups(nreads, nints, ngroups, nframes)/nframes\n",
        "    return groups_per_exposure\n",
        "\n",
        "print(calc_groups_per_exposure(nreads, nints, ngroups, nframes))"
      ],
      "metadata": {
        "colab": {
          "base_uri": "https://localhost:8080/",
          "height": 235
        },
        "id": "a_P6Fa6CinZ0",
        "outputId": "fa1ed93d-9df2-4284-dfbc-1d4f9203a60d"
      },
      "execution_count": 22,
      "outputs": [
        {
          "output_type": "error",
          "ename": "NameError",
          "evalue": "ignored",
          "traceback": [
            "\u001b[0;31m---------------------------------------------------------------------------\u001b[0m",
            "\u001b[0;31mNameError\u001b[0m                                 Traceback (most recent call last)",
            "\u001b[0;32m<ipython-input-22-ac99a1880d19>\u001b[0m in \u001b[0;36m<module>\u001b[0;34m\u001b[0m\n\u001b[1;32m      1\u001b[0m \u001b[0;31m# calculate more observations\u001b[0m\u001b[0;34m\u001b[0m\u001b[0;34m\u001b[0m\u001b[0;34m\u001b[0m\u001b[0m\n\u001b[1;32m      2\u001b[0m \u001b[0;34m\u001b[0m\u001b[0m\n\u001b[0;32m----> 3\u001b[0;31m \u001b[0mobs_time_indef\u001b[0m \u001b[0;34m=\u001b[0m \u001b[0mobs_time\u001b[0m \u001b[0;34m*\u001b[0m \u001b[0;36m0.8\u001b[0m\u001b[0;34m\u001b[0m\u001b[0;34m\u001b[0m\u001b[0m\n\u001b[0m\u001b[1;32m      4\u001b[0m \u001b[0;34m\u001b[0m\u001b[0m\n\u001b[1;32m      5\u001b[0m \u001b[0;31m#print(obs_time_indef)\u001b[0m\u001b[0;34m\u001b[0m\u001b[0;34m\u001b[0m\u001b[0;34m\u001b[0m\u001b[0m\n",
            "\u001b[0;31mNameError\u001b[0m: name 'obs_time' is not defined"
          ]
        }
      ]
    },
    {
      "cell_type": "code",
      "source": [
        "# create a function that calculates the number of group as a function of nreads, nints, ngroups and nframes\n",
        "\n",
        "def calc_groups(nreads, nints, ngroups, nframes):\n",
        "    groups = nreads*nints*ngroups*nframes\n",
        "    return groups\n",
        "\n",
        "#print(calc_groups(nreads, nints, ngroups, nframes))\n",
        "\n",
        "# create a function that calculates the number of groups per integration as a function of nreads, nints, ngroups and nframes\n",
        "\n",
        "def calc_groups_per_integration(nreads, nints, ngroups, nframes):\n",
        "    groups_per_integration = calc_groups(nreads, nints, ngroups, nframes)/nints\n",
        "    return groups_per_integration\n",
        "\n",
        "#print(calc_groups_per_integration(nreads, nints, ngroups, nframes))\n",
        "\n",
        "# create a function that calculates the number of groups per exposure as a function of nreads, nints, ngroups and nframes\n",
        "\n",
        "def calc_groups_per_exposure(nreads, nints, ngroups, nframes):\n",
        "    groups_per_exposure = calc_groups(nreads, nints, ngroups, nframes)/nframes\n",
        "    return groups_per_exposure\n",
        "\n",
        "#print(calc_groups_per_exposure(nreads, nints, ngroups, nframes))\n",
        "\n",
        "# create a function that calculates the number of groups as a function of nreads and ngroups\n",
        "\n",
        "def calc_groups_2(nreads, ngroups):\n",
        "    groups = nreads * ngroups\n",
        "    return groups\n",
        "\n",
        "#print(calc_groups_2(nreads, ngroups))\n",
        "\n",
        "# create a function that calculates the total observation time as a function of nreads, nints, ngroups and nframes\n",
        "\n",
        "def calc_obs_time(nreads, nints, ngroups, nframes):\n",
        "    obs_time = calc_groups(nreads, nints, ngroups, nframes) * readtime\n",
        "    return obs_time\n",
        "\n",
        "#print(calc_obs_time(nreads, nints, ngroups, nframes))\n",
        "\n",
        "# create a function that calculates the total number of reads as a function of nreads, nints, ngroups and nframes\n",
        "\n",
        "def calc_read_number (nreads, nints, ngroups, nframes):\n",
        "    total_reads = nreads * nints * ngroups * nframes\n",
        "    return total_reads\n",
        "\n",
        "#print(calc_read_number(nreads, nints, ngroups, nframes))\n",
        "\n",
        "# create a function that calculates the number of reads per group as a function of nreads, nints, ngroups and nframes\n",
        "\n",
        "def calc_reads_per_group(nreads, nints, ngroups, nframes):\n",
        "    reads_per_group = calc_read_number(nreads, nints, ngroups, nframes)/calc_groups(nreads, nints, ngroups, nframes)\n",
        "    return reads_per_group\n",
        "\n",
        "#print(calc_reads_per_group(nreads, nints, ngroups, nframes))\n",
        "\n",
        "# create a function that calculates the number of reads per group as a function of nreads and ngroups\n",
        "\n",
        "def calc_reads_per_group_2 (nreads, ngroups):\n",
        "    reads_per_group_2 = nreads/ngroups\n",
        "    return reads_per_group_2\n",
        "\n",
        "#print(calc_reads_per_group_2(nreads, ngroups))"
      ],
      "metadata": {
        "id": "Hp8Zi80oj4tI"
      },
      "execution_count": 23,
      "outputs": []
    },
    {
      "cell_type": "markdown",
      "source": [
        "experimental\n"
      ],
      "metadata": {
        "id": "9xxPH_hVkaH1"
      }
    },
    {
      "cell_type": "code",
      "source": [
        "import requests\n",
        "import json\n",
        "import math\n",
        "\n",
        "# this is the url from the MAST API to retrieve the file\n",
        "\n",
        "API_URL = \"https://mast.stsci.edu/api/v0/download/file?uri=mast:JWST/product/jw01018001004_02101_00001_guider1_rate.fits\"\n",
        "\n",
        "# use the requests package to send the request to the API\n",
        "\n",
        "response = requests.get(API_URL, headers={'Content-Type': 'application/json'})\n",
        "\n",
        "# to see if the response was successful, check the status code of the response\n",
        "\n",
        "if not response.ok:\n",
        "    response.raise_for_status()\n",
        "\n",
        "# get the content of the response\n",
        "\n",
        "results = response.content\n",
        "# print the results to see the original output\n",
        "\n",
        "# print(results)\n",
        "\n",
        "\n",
        "# use the json package to decode the results\n",
        "\n",
        "#results_json = json.loads(results)\n",
        "# print the results to see the output\n",
        "\n",
        "#print(results)\n",
        "\n",
        "################\n",
        "\n",
        "# Set the file name\n",
        "file_name = 'jw01018001004_02101_00001_guider1_rate.fits'\n",
        "\n",
        "# Set the exposure time (this is in seconds)\n",
        "exptime = 60\n",
        "\n",
        "# Set the readout time (this is in seconds)\n",
        "readtime = 0.13\n",
        "\n",
        "# Set the number of reads\n",
        "nreads = 16\n",
        "\n",
        "# Set the number of integrations\n",
        "nints = 1\n",
        "\n",
        "# Set the number of groups\n",
        "ngroups = 1\n",
        "\n",
        "# Set the number of frames\n",
        "nframes = 1\n",
        "\n",
        "# Set the number of pixels in the slit\n",
        "npix = 512\n",
        "\n",
        "# Set the bin factor in the spatial direction\n",
        "xbin = 1\n",
        "\n",
        "# Set the bin factor in the dispersion direction\n",
        "ybin = 1\n",
        "\n",
        "# Set the number of pixels in the ramp\n",
        "ramp_pix = int(1032/xbin)\n",
        "\n",
        "# Set the number of pixels in the group\n",
        "group_pix = int(2064/xbin)\n",
        "\n",
        "# Calculate the number of groups per integration\n",
        "groups_per_int = int(group_pix/ramp_pix)\n",
        "\n",
        "# Calculate the number of integrations per exposure\n",
        "ints_per_exp = int(nframes/groups_per_int)\n",
        "\n",
        "# Calculate the total number of groups\n",
        "total_groups = int(nints*groups_per_int)\n",
        "\n",
        "# Calculate the number of reads per group\n",
        "reads_per_group = int(nreads/groups_per_int)\n",
        "\n",
        "# Calculate the number of reads per integration\n",
        "reads_per_int = int(reads_per_group*groups_per_int)\n",
        "\n",
        "# Calculate the number of reads per exposure\n",
        "reads_per_exp = int(nreads*nints/nframes)\n",
        "\n",
        "# Calculate the group duration (this is in seconds)\n",
        "group_time = reads_per_group * readtime\n",
        "\n",
        "# Calculate the integration duration (this is in seconds)\n",
        "int_time = group_time * groups_per_int\n",
        "\n",
        "# Calculate the exposure duration (this is in seconds)\n",
        "exp_time = int_time * nints\n",
        "\n",
        "# Calculate the total observation time (this is in seconds)\n",
        "obs_time = exp_time * nframes\n",
        "print('Observation Time is %s seconds' % obs_time)\n",
        "\n",
        "# calculate more observations\n",
        "\n",
        "obs_time_indef = obs_time * 0.8\n",
        "\n",
        "#print(obs_time_indef)\n",
        "n_obs = math.floor(obs_time_indef/obs_time)\n",
        "n_obs_string = str(n_obs)\n",
        "print('This amounts to ' + n_obs_string + ' more observations')\n",
        "\n",
        "#print('This amounts to %s more observations' % n_obs)\n",
        "\n",
        "\n",
        "# make a list of what to add to each observation\n",
        "\n",
        "default_list = ['nreads', 'nints', 'ngroups', 'nframes']\n",
        "default_values = [nreads, nints, ngroups, nframes]\n",
        "test_list = ['nreads', 'nints', 'ngroups', 'nframes']\n",
        "test_values = [nreads*2, nints*2, ngroups, nframes]\n",
        "\n",
        "# create a function that calculates the number of group as a function of nreads, nints, ngroups and nframes\n",
        "\n",
        "def calc_groups(nreads, nints, ngroups, nframes):\n",
        "    groups = nreads*nints*ngroups*nframes\n",
        "    return groups\n",
        "\n",
        "#print(calc_groups(nreads, nints, ngroups, nframes))\n",
        "\n",
        "# create a function that calculates the number of groups per integration as a function of nreads, nints, ngroups and nframes\n",
        "\n",
        "def calc_groups_per_integration(nreads, nints, ngroups, nframes):\n",
        "    groups_per_integration = calc_groups(nreads, nints, ngroups, nframes)/nints\n",
        "    return groups_per_integration\n",
        "\n",
        "#print(calc_groups_per_integration(nreads, nints, ngroups, nframes))\n",
        "\n",
        "# create a function that calculates the number of groups per exposure as a function of nreads, nints, ngroups and nframes\n",
        "\n",
        "def calc_groups_per_exposure(nreads, nints, ngroups, nframes):\n",
        "    groups_per_exposure = calc_groups(nreads, nints, ngroups, nframes)/nframes\n",
        "    return groups_per_exposure\n",
        "\n",
        "#print(calc_groups_per_exposure(nreads, nints, ngroups, nframes))\n",
        "\n",
        "# create a function that calculates the number of groups as a function of nreads and ngroups\n",
        "\n",
        "def calc_groups_2(nreads, ngroups):\n",
        "    groups = nreads * ngroups\n",
        "    return groups\n",
        "\n",
        "#print(calc_groups_2(nreads, ngroups))\n",
        "\n",
        "# create a function that calculates the total observation time as a function of nreads, nints, ngroups and nframes\n",
        "\n",
        "def calc_obs_time(nreads, nints, ngroups, nframes):\n",
        "    obs_time = calc_groups(nreads, nints, ngroups, nframes) * readtime\n",
        "    return obs_time\n",
        "\n",
        "#print(calc_obs_time(nreads, nints, ngroups, nframes))\n",
        "\n",
        "# create a function that calculates the total number of reads as a function of nreads, nints, ngroups and nframes\n",
        "\n",
        "def calc_read_number (nreads, nints, ngroups, nframes):\n",
        "    total_reads = nreads * nints * ngroups * nframes\n",
        "    return total_reads\n",
        "\n",
        "#print(calc_read_number(nreads, nints, ngroups, nframes))\n",
        "\n",
        "# create a function that calculates the number of reads per group as a function of nreads, nints, ngroups and nframes\n",
        "\n",
        "def calc_reads_per_group(nreads, nints, ngroups, nframes):\n",
        "    reads_per_group = calc_read_number(nreads, nints, ngroups, nframes)/calc_groups(nreads, nints, ngroups, nframes)\n",
        "    return reads_per_group\n",
        "\n",
        "#print(calc_reads_per_group(nreads, nints, ngroups, nframes))\n",
        "\n",
        "# create a function that calculates the number of reads per group as a function of nreads and ngroups\n",
        "\n",
        "def calc_reads_per_group_2 (nreads, ngroups):\n",
        "    reads_per_group_2 = nreads/ngroups\n",
        "    return reads_per_group_2\n",
        "\n",
        "#print(calc_reads_per_group_2(nreads, ngroups))\n",
        "\n",
        "# create a function that calculates the number of reads per integration as a function of nreads, nints, ngroups and nframes\n",
        "\n",
        "def calc_reads_per_integration(nreads, nints, ngroups, nframes):\n",
        "    reads_per_integration = calc_read_number(nreads, nints, ngroups, nframes)/nints\n",
        "    return reads_per_integration\n",
        "\n",
        "#print(calc_reads_per_integration(nreads, nints, ngroups, nframes))\n",
        "\n",
        "# create a function that calculates the number of reads per exposure as a function of nreads, nints, ngroups and nframes\n",
        "\n",
        "def calc_reads_per_exposure(nreads, nints, ngroups, nframes):\n",
        "    reads_per_exposure = calc_read_number(nreads, nints, ngroups, nframes)/nframes\n",
        "    return reads_per_exposure\n",
        "\n",
        "#print(calc_reads_per_exposure(nreads, nints, ngroups, nframes))\n",
        "\n",
        "# create a function that calculates the number of integrations per exposure as a function of nreads, nints, ngroups and nframes\n",
        "\n",
        "def calc_ints_per_exposure(nreads, nints, ngroups, nframes):\n",
        "    ints_per_exposure = calc_read_number(nreads, nints, ngroups, nframes)/(nframes*nreads)\n",
        "    return ints_per_exposure\n",
        "\n",
        "#print(calc_ints_per_exposure(nreads, nints, ngroups, nframes))\n",
        "\n",
        "# create a function that calculates the number of groups per integration as a function of nreads, nints, ngroups and nframes\n",
        "\n",
        "def calc_groups_per_integration(nreads, nints, ngroups, nframes):\n",
        "    groups_per_integration = calc_groups_per_exposure(nreads, nints, ngroups, nframes)/nints\n",
        "    return groups_per_integration\n",
        "\n",
        "#print(calc_groups_per_integration(nreads, nints, ngroups, nframes))\n",
        "\n",
        "# create a function that calculates the number of integrations per exposure as a function of nreads, nints, ngroups and nframes\n",
        "\n",
        "def calc_ints_per_exposure(nreads, nints, ngroups, nframes):\n",
        "    ints_per_exposure = calc_read_number(nreads, nints, ngroups, nframes)/(nframes*nreads)\n",
        "    return ints_per_exposure\n",
        "\n",
        "#print(calc_ints_per_exposure(nreads, nints, ngroups, nframes))\n",
        "\n",
        "# create a function that calculates the number of reads per group as a function of ints_per_exposure and groups_per_exposure\n",
        "\n",
        "def calc_reads_per_group_3(ints_per_exposure, groups_per_exposure):\n",
        "    reads_per_group_3 = ints_per_exposure*groups_per_exposure\n",
        "    return reads_per_group_3\n",
        "\n",
        "#print(calc_reads_per_group_3(ints_per_exposure, groups_per_exposure))\n",
        "\n",
        "# create a function that calculates the total observation time as a function of nreads, reads_per_group, group_time and nints\n",
        "\n",
        "def calc_obs_time_2(nreads, reads_per_group, group_time, nints):\n",
        "    obs_time_2 = nreads*calc_reads_per_group_3(ints_per_exposure, groups_per_exposure)*group_time*nints\n",
        "    return obs_time_2\n",
        "\n",
        "#print(calc_obs_time_2(nreads, reads_per_group, group_time, nints))\n",
        " \n",
        "# create a function that calculates the total observation time as a function of nreads, reads_per_group, group_time, nints and nframes\n",
        "\n",
        "def calc_obs_time_3(nreads, reads_per_group, group_time, nints, nframes):\n",
        "    obs_time_3 = calc_obs_time_2(nreads, reads_per_group, group_time, nints)*nframes\n",
        "    return obs_time_3\n",
        "\n",
        "#print(calc_obs_time_3(nreads, reads_per_group, group_time, nints, nframes))\n",
        "\n",
        "# create a function that calculates the total observation time as a function of nreads, ints_per_exposure, groups_per_exposure, group_time, nints and nframes\n",
        "\n",
        "def calc_obs_time_4(nreads, ints_per_exposure, groups_per_exposure, group_time, nints, nframes):\n",
        "    obs_time_4 = nreads*ints_per_exposure*groups_per_exposure*group_time*nints*nframes\n",
        "    return obs_time_4\n",
        "\n",
        "#print(calc_obs_time_4(nreads, ints_per_exposure, groups_per_exposure, group_time, nints, nframes))\n",
        "\n",
        "# create a function that calculates the number of reads per group as a function of nreads and ngroups\n",
        "\n",
        "def calc_reads_per_group_2(nreads, ngroups):\n",
        "    reads_per_group_2 = nreads/ngroups\n",
        "    return reads_per_group_2\n",
        "\n",
        "print(calc_reads_per_group_2(nreads, ngroups))\n",
        "\n",
        "\n",
        "###############\n",
        "# Set the file name\n",
        "\n",
        "from astropy.io import fits\n",
        "\n",
        "# plot the image\n",
        "\n",
        "image_data = fits.getdata(\"/content/file?uri=mast:JWST%2Fproduct%2Fjw01018001004_02101_00001_guider1_rate.fits\")\n",
        "\n",
        "fig = plt.figure()\n",
        "ax = fig.add_subplot(1,1,1)\n",
        "\n",
        "plt.imshow(image_data, cmap='gray', origin='lower')\n",
        "\n",
        "#ax.set_title(\"MIRI LRS Slit\")\n",
        "ax.set_xlabel(\"Spatial pixels (512x1 binning)\")\n",
        "ax.set_ylabel(\"Spectral pixels (512x1 binning)\")\n",
        "\n",
        "cb = plt.colorbar()\n",
        "\n",
        "cb.set_label(\"Flux (e- per second)\")\n",
        "\n",
        "# display the figure\n",
        "\n",
        "plt.show()"
      ],
      "metadata": {
        "colab": {
          "base_uri": "https://localhost:8080/",
          "height": 331
        },
        "id": "TMdegf_vka1m",
        "outputId": "13307b4a-07ca-4932-c137-93eef0e3a228"
      },
      "execution_count": 24,
      "outputs": [
        {
          "output_type": "stream",
          "name": "stdout",
          "text": [
            "Observation Time is 2.08 seconds\n",
            "This amounts to 0 more observations\n",
            "16.0\n"
          ]
        },
        {
          "output_type": "display_data",
          "data": {
            "text/plain": [
              "<Figure size 432x288 with 2 Axes>"
            ],
            "image/png": "[encoded data removed]"
          },
          "metadata": {
            "needs_background": "light"
          }
        }
      ]
    },
    {
      "cell_type": "code",
      "source": [
        "# Define the HDU\n",
        "hdu = hdul[1]\n",
        "print (type(hdu))\n",
        "\n",
        "# Plot the image\n",
        "fig, ax = plt.subplots(1)\n",
        "\n",
        "# Plot the data\n",
        "#im = ax.imshow(hdu.data)\n",
        "\n",
        "\n",
        "ax.set(xlabel='X axis', ylabel='Y axis', title='JWST/Guider 1 Rate')\n",
        "\n",
        "# Add colorbar\n",
        "fig.colorbar(im, label='Rate')\n",
        "\n",
        "# Define Limits\n",
        "ax.set_xlim(200,800)\n",
        "ax.set_ylim(200,800)\n",
        "\n",
        "plt.show()\n",
        "# Close the file\n",
        "hdul.close()\n",
        "\n",
        "# Print the file types\n",
        "print(hdul.info())\n",
        "\n",
        "# Print header 0\n",
        "print(hdul[0].header)\n",
        " \n",
        "# Print header 1\n",
        "print(hdul[1].header)\n",
        "\n",
        "# Print the data\n",
        "# print(hdul[1].data)"
      ],
      "metadata": {
        "colab": {
          "base_uri": "https://localhost:8080/",
          "height": 454
        },
        "id": "aN04OqRQBskZ",
        "outputId": "d1b195cd-94c3-4d60-ac6b-512e6b8abb3c"
      },
      "execution_count": 26,
      "outputs": [
        {
          "output_type": "stream",
          "name": "stdout",
          "text": [
            "<class 'astropy.io.fits.hdu.image.ImageHDU'>\n"
          ]
        },
        {
          "output_type": "display_data",
          "data": {
            "text/plain": [
              "<Figure size 432x288 with 2 Axes>"
            ],
            "image/png": "[encoded data removed]"
          },
          "metadata": {
            "needs_background": "light"
          }
        },
        {
          "output_type": "stream",
          "name": "stdout",
          "text": [
            "Filename: /content/file?uri=mast:JWST%2Fproduct%2Fjw01018001004_02101_00001_guider1_rate.fits\n",
            "No.    Name      Ver    Type      Cards   Dimensions   Format\n",
            "  0  PRIMARY       1 PrimaryHDU     234   ()      \n",
            "  1  SCI           1 ImageHDU        75   (2048, 2048)   float32   \n",
            "None\n",
            "SIMPLE  =                    T / conforms to FITS standard                      BITPIX  =                    8 / array data type                                NAXIS   =                    0 / number of array dimensions                     EXTEND  =                    T                                                  DATE    = '2022-09-12T19:05:27.005' / UTC date file created                     ORIGIN  = 'STSCI   '           / Organization responsible for creating file     TIMESYS = 'UTC     '           / principal time system for time-related keywordsTIMEUNIT= 's       '           / Default unit applicable to all time values     FILENAME= 'jw01018001004_02101_00001_guider1_rate.fits' / Name of the file      SDP_VER = '2022_3  '           / Data processing software version number        PRD_VER = 'PRDOPSSOC-057'      / S&OC PRD version number used in data processingOSS_VER = '8.4.2   '           / Observatory Scheduling Software (OSS) version nCAL_VER = '1.6.2   '           / Calibration software version number            CAL_VCS = 'RELEASE '           / Calibration software version control sys numberDATAMODL= 'ImageModel'         / Type of data model                             TELESCOP= 'JWST    '           / Telescope used to acquire the data             HGA_MOVE=                    F / High Gain Antenna moved during data collection PWFSEET =    59704.74025150463 / Previous WFS exposure end time                 NWFSEST =    59705.63512118055 / Next WFS exposure start time                   COMPRESS=                    F / On-board data compression was used (T/F)                                                                                               Program information                                                                                                                                     TITLE   = 'FGS Guider Geometric Distortion and Scale' / Proposal title          PI_NAME = 'Nelan, Edmund'      / Principal investigator name                    CATEGORY= 'COM     '           / Program category                               SUBCAT  = 'FGS     '           / Program sub-category                                                                                                                   Observation identifiers                                                                                                                                 DATE-OBS= '2022-05-06'         / [yyyy-mm-dd] UTC date at start of exposure     TIME-OBS= '13:21:18.084'       / [hh:mm:ss.sss] UTC time at start of exposure   DATE-BEG= '2022-05-06T13:21:18.084' / Date-time start of exposure               DATE-END= '2022-05-06T13:27:01.661' / Date-time end of exposure                 OBS_ID  = 'V01018001004P0000000002101' / Programmatic observation identifier    VISIT_ID= '01018001004'        / Visit identifier                               PROGRAM = '01018   '           / Program number                                 OBSERVTN= '001     '           / Observation number                             VISIT   = '004     '           / Visit number                                   VISITGRP= '02      '           / Visit group identifier                         SEQ_ID  = '1       '           / Parallel sequence identifier                   ACT_ID  = '01      '           / Activity identifier                            EXPOSURE= '1       '           / Exposure request number                        BKGDTARG=                    F / Background target                              TEMPLATE= 'FGS External Calibration' / Observation template used                OBSLABEL= 'FGS1    '           / Proposer label for the observation             OBSFOLDR= 'FGS Geometric Distortion FGS-11' / Name of the APT observation folder                                                                                        Visit information                                                                                                                                       ENG_QUAL= 'OK      '           / Engineering data quality indicator from EngDB  ENGQLPTG= 'CALCULATED_TRACK_TR_202111' / Quality of pointing information from EnVISITYPE= 'PRIME_TARGETED_FIXED' / Visit type                                   VSTSTART= '2022-05-06 13:14:15.5180000' / UTC visit start time                  VISITSTA= 'SUCCESSFUL'         / Status of a visit                              NEXPOSUR=                    1 / Total number of planned exposures in visit     INTARGET=                    F / At least one exposure in visit is internal     TARGOOPP=                    F / Visit scheduled as target of opportunity       TSOVISIT=                    F / Time Series Observation visit indicator        EXP_ONLY=                    F / Special commanding without SI configuration    CROWDFLD=                    T / Are the FGSes in a crowded field?                                                                                                      Target information                                                                                                                                      TARGPROP= 'LMC-ASTROMETRIC-FIELD' / Proposer's name for the target              TARGNAME= 'Gaia DR1 4657988102378365184' / Standard astronomical catalog name foTARGTYPE= 'FIXED   '           / Type of target (fixed, moving, generic)        TARG_RA =    80.48876249999999 / Target RA at mid time of exposure              TARG_DEC=   -69.49941666666666 / Target Dec at mid time of exposure             TARGURA =                  0.1 / Target RA uncertainty                          TARGUDEC=                  0.1 / Target Dec uncertainty                         MU_RA   =                  0.0 / Target proper motion in RA                     MU_DEC  =                  0.0 / Target proper motion in Dec                    PROP_RA =    80.48876249999998 / Proposer's target RA                           PROP_DEC=   -69.49941666666666 / Proposer's target Dec                                                                                                                  Instrument configuration information                                                                                                                    INSTRUME= 'FGS     '           / Instrument used to acquire the data            DETECTOR= 'GUIDER1 '           / Name of detector used to acquire the data      FOCUSPOS=    2.289771000000001 / Focus position                                 LAMP    = 'OFF     '           / Internal lamp state                                                                                                                    Exposure parameters                                                                                                                                     EXPCOUNT=                    1 / Running count of exposures in visit            EXPRIPAR= 'PRIME   '           / Prime or parallel exposure                     EXP_TYPE= 'FGS_IMAGE'          / Type of data in the exposure                   EXPSTART=    59705.55645930972 / UTC exposure start time                        EXPMID  =    59705.55844760047 / UTC exposure mid time                          EXPEND  =     59705.5604358912 / UTC exposure end time                          OSF_FILE= '2022126T135804366_003_osf.xml' / Observatory Status File name coverinREADPATT= 'FGSRAPID'           / Readout pattern                                NOUTPUTS=                    4 / Number of detector outputs used                NINTS   =                    2 / Number of integrations in exposure             NGROUPS =                   15 / Number of groups in integration                NFRAMES =                    1 / Number of frames per group                     FRMDIVSR=                    1 / Divisor applied to frame-averaged groups       GROUPGAP=                    0 / Number of frames dropped between groups        DRPFRMS1=                    0 / Frames dropped at start of each integration    DRPFRMS3=                    0 / Frames dropped at end of each integration      NSAMPLES=                    1 / Number of A/D samples per pixel                TSAMPLE =                 10.0 / [us] Time between samples                      TFRAME  =             10.73677 / [s] Time between frames                        TGROUP  =             10.73677 / [s] Time between groups                        EFFINTTM=            161.05155 / [s] Effective integration time                 EFFEXPTM=              322.103 / [s] Effective exposure time                    DURATION=              343.577 / [s] Total duration of exposure                 NRSTSTRT=                    1 / Number of resets at start of exposure          NRESETS =                    1 / Number of resets between integrations          ZEROFRAM=                    F / Zero frame was downlinked separately           DATAPROB=                    F / Science telemetry indicated a problem          SCA_NUM =                  497 / Sensor Chip Assembly number                    DATAMODE=                   85 / post-processing method used in FPAP            SCTARATE=  0.02388859148084427 / [ms/s] Spacecraft Clock Time Adjust RATE                                                                                               Subarray parameters                                                                                                                                     SUBARRAY= 'FULL    '           / Subarray used                                  SUBSTRT1=                    1 / Starting pixel in axis 1 direction             SUBSTRT2=                    1 / Starting pixel in axis 2 direction             SUBSIZE1=                 2048 / Number of pixels in axis 1 direction           SUBSIZE2=                 2048 / Number of pixels in axis 2 direction           FASTAXIS=                   -2 / Fast readout axis direction                    SLOWAXIS=                   -1 / Slow readout axis direction                                                                                                            Dither information                                                                                                                                      PRIDTPTS=                    5 / Number of points in primary dither pattern     PATT_NUM=                    5 / Position number in primary pattern             NUMDTHPT=                    5 / Total number of points in pattern              SUBPXPTS=                    1 / Number of points in subpixel dither pattern    XOFFSET =   -32.76016570215516 / x offset from pattern starting position        YOFFSET =    32.76000410557005 / y offset from pattern starting position                                                                                                Aperture information                                                                                                                                    APERNAME= 'FGS1_FULL'          / PRD science aperture used                      PPS_APER= 'FGS1_FULL'          / original AperName supplied by PPS                                                                                                      Velocity aberration correction information                                                                                                              VA_RA   =    80.48126494294735 / [deg] Velocity aberrated apparent reference RA VA_DEC  =    -69.4901641151352 / [deg] Velocity aberrated apparent reference Dec                                                                                        Time information                                                                                                                                        BARTDELT=    187.1062327874824 / Barycentric time correction                    BSTRTIME=    59705.55862489112 / [d] Barycentric exposure start time in MJD     BENDTIME=    59705.56260144788 / [d] Barycentric exposure end time in MJD       BMIDTIME=    59705.56061316951 / [d] Barycentric exposure mid time in MJD       HELIDELT=    186.3847112283111 / Heliocentric time correction                   HSTRTIME=    59705.55861654018 / [d] Heliocentric exposure start time in MJD    HENDTIME=     59705.5625930969 / [d] Heliocentric exposure end time in MJD      HMIDTIME=    59705.56060481855 / [d] Heliocentric exposure mid time in MJD                                                                                              Guide star information                                                                                                                                  GS_ORDER=                    1 / index of guide star within list of selected guiGSSTRTTM= '2022-05-06 13:19:12.4780000' / UTC time when guide star activity starGSENDTIM= '2022-05-06 13:20:41.5660000' / UTC time when guide star activity compGDSTARID= 'S1HP086850'         / guide star identifier                          GS_RA   =    80.63042987387026 / guide star right ascension                     GS_DEC  =   -69.47388330774169 / guide star declination                         GS_URA  = 0.000125931853601785 / guide star right ascension uncertainty         GS_UDEC = 0.000215623701043001 / guide star declination uncertainty             GS_MAG  =    14.79442596435547 / guide star magnitude in FGS detector           GS_UMAG =  0.04099788889288902 / guide star magnitude uncertainty               GS_V3_PA=    144.5230258612631 / V3 Position Angle of guide star for science    PCS_MODE= 'FINEGUIDE'          / Pointing Control System mode                   VISITEND= '2022-05-06 13:27:40.3810000' / Observatory UTC time when the visit co                                                                                        Reference file information                                                                                                                                                                                                                      CRDS parameters                                                                                                                                         CRDS_VER= '11.16.6 '           / Version of CRDS file selection software used   CRDS_CTX= 'jwst_0970.pmap'     / CRDS context (.pmap) used to select ref files                                                                                          Dark reference file information                                                                                                                         R_DARK  = 'crds://jwst_fgs_dark_0100.fits' / Dark reference file name                                                                                                   Gain reference file information                                                                                                                         R_GAIN  = 'crds://jwst_fgs_gain_0010.fits' / Gain reference file name                                                                                                   Linearity reference file information                                                                                                                    R_LINEAR= 'crds://jwst_fgs_linearity_0018.fits' / Linearity reference file name                                                                                         Mask reference file information                                                                                                                         R_MASK  = 'crds://jwst_fgs_mask_0037.fits' / Mask reference file name                                                                                                   Persistence saturation reference file information                                                                                                       R_PERSAT= 'crds://jwst_fgs_persat_0006.fits' / Persistence saturation reference                                                                                         Read noise reference file information                                                                                                                   R_READNO= 'crds://jwst_fgs_readnoise_0010.fits' / Read noise reference file name                                                                                        Saturation reference file information                                                                                                                   R_SATURA= 'crds://jwst_fgs_saturation_0018.fits' / Saturation reference file nam                                                                                        Superbias reference file information                                                                                                                    R_SUPERB= 'crds://jwst_fgs_superbias_0026.fits' / Superbias reference file name                                                                                         Trap density reference file information                                                                                                                 R_TRPDEN= 'crds://jwst_fgs_trapdensity_0004.fits' / Trap density reference file                                                                                         Trap parameters reference file information                                                                                                              R_TRPPAR= 'crds://jwst_fgs_trappars_0003.fits' / Trap parameters reference file                                                                                         Calibration step information                                                                                                                            S_DARK  = 'COMPLETE'           / Dark Subtraction                               S_DQINIT= 'COMPLETE'           / Data Quality Initialization                    S_GANSCL= 'SKIPPED '           / Gain Scale Correction                          S_GRPSCL= 'SKIPPED '           / Group Scale Correction                         S_IPC   = 'SKIPPED '           / Interpixel Capacitance Correction              S_JUMP  = 'COMPLETE'           / Jump Detection                                 S_LINEAR= 'COMPLETE'           / Linearity Correction                           S_PERSIS= 'COMPLETE'           / Persistence Correction                         S_RAMP  = 'COMPLETE'           / Ramp Fitting                                   S_REFPIX= 'COMPLETE'           / Reference Pixel Correction                     S_SATURA= 'COMPLETE'           / Saturation Checking                            S_SUPERB= 'COMPLETE'           / Superbias Subtraction                          END                                                                                                                                                                                                                                                                                                                                                                                                                                                                                                                                                                                                                                                                                                                                                                                                                                                                                                                                                                                                                                                                                                                                                                                                                                                                                                                                                                                                                                                                                             \n",
            "XTENSION= 'IMAGE   '           / Image extension                                BITPIX  =                  -32 / array data type                                NAXIS   =                    2 / number of array dimensions                     NAXIS1  =                 2048                                                  NAXIS2  =                 2048                                                  PCOUNT  =                    0 / number of parameters                           GCOUNT  =                    1 / number of groups                               EXTNAME = 'SCI     '           / extension name                                 MJD-BEG =    59705.55645930972 / [d] exposure start time in MJD                 MJD-AVG =    59705.55844760047 / [d] exposure mid-point in MJD                  MJD-END =     59705.5604358912 / [d] exposure end time in MJD                   TDB-BEG =    59705.55862489112 / [d] TDB time of exposure start in MJD          TDB-MID =     59705.5606131695 / [d] TDB time of exposure mid-point in MJD      TDB-END =    59705.56260144788 / [d] TDB time of exposure end in MJD            XPOSURE =              322.103 / [s] Effective exposure time                    TELAPSE =              343.577 / [s] Total elapsed exposure time                                                                                                        JWST ephemeris information                                                                                                                              REFFRAME= 'EME2000 '           / Ephemeris reference frame                      EPH_TYPE= 'Definitive'         / Definitive or Predicted                        EPH_TIME=    59705.55833333333 / UTC time of position and velocity vectors in epJWST_X  =   -107145685.6478781 / [km] barycentric JWST X coordinate at MJD_AVG  JWST_Y  =    -100117446.582075 / [km] barycentric JWST Y coordinate at MJD_AVG  JWST_Z  =   -43213028.71403972 / [km] barycentric JWST Z coordinate at MJD_AVG  OBSGEO-X=    -418730690.435541 / [m] geocentric JWST X coordinate at MJD_AVG    OBSGEO-Y=    -1310771790.16347 / [m] geocentric JWST Y coordinate at MJD_AVG    OBSGEO-Z=    -412144973.318494 / [m] geocentric JWST Z coordinate at MJD_AVG    JWST_DX =    21.15005472159642 / [km/s] barycentric JWST X velocity at MJD_AVG  JWST_DY =   -19.35955216388646 / [km/s] barycentric JWST Y velocity at MJD_AVG  JWST_DZ =   -8.561310405305477 / [km/s] barycentric JWST Z velocity at MJD_AVG  OBSGEODX=     306.095383683218 / [m/s] geocentric JWST X velocity at MJD_AVG    OBSGEODY=    -157.888921399363 / [m/s] geocentric JWST Y velocity at MJD_AVG    OBSGEODZ=    -236.977704371565 / [m/s] geocentric JWST Z velocity at MJD_AVG    PA_APER =    143.2883551659386 / [deg] Position angle of aperture used          VA_SCALE=    1.000008515950816 / Velocity aberration scale factor               BUNIT   = 'DN/s    '           / physical units of the array values                                                                                                     Information about the coordinates in the file                                                                                                           RADESYS = 'ICRS    '           / Name of the coordinate reference frame                                                                                                 Spacecraft pointing information                                                                                                                         RA_V1   =    80.95124913269875 / [deg] RA of telescope V1 axis                  DEC_V1  =   -69.61078624809552 / [deg] Dec of telescope V1 axis                 PA_V3   =    144.1013960865326 / [deg] Position angle of telescope V3 axis                                                                                              WCS parameters                                                                                                                                          WCSAXES =                    2 / number of World Coordinate System axes         CRPIX1  =               1024.5 / axis 1 coordinate of the reference pixel       CRPIX2  =               1024.5 / axis 2 coordinate of the reference pixel       CRVAL1  =    80.49438732755138 / first axis value at the reference pixel        CRVAL2  =   -69.48679869271133 / second axis value at the reference pixel       CTYPE1  = 'RA---TAN'           / first axis coordinate type                     CTYPE2  = 'DEC--TAN'           / second axis coordinate type                    CUNIT1  = 'deg     '           / first axis units                               CUNIT2  = 'deg     '           / second axis units                              CDELT1  = 1.89976611111111E-05 / first axis increment per pixel                 CDELT2  =        1.9425225E-05 / second axis increment per pixel                PC1_1   =   0.8016541659348526 / linear transformation matrix element           PC1_2   =   0.5977880880707609 / linear transformation matrix element           PC2_1   =   0.5977880880707609 / linear transformation matrix element           PC2_2   =  -0.8016541659348526 / linear transformation matrix element           S_REGION= 'POLYGON ICRS  80.413106315 -69.481831072 80.505489381 &'             CONTINUE  '-69.459379762 80.572360094 -69.491420280 80.482417329 &'             CONTINUE  '-69.513764772&'                                                      CONTINUE  '' / spatial extent of the observation                                V2_REF  =              206.407 / [arcsec] Telescope V2 coord of reference point V3_REF  =             -697.765 / [arcsec] Telescope V3 coord of reference point VPARITY =                   -1 / Relative sense of rotation between Ideal xy andV3I_YANG=          -1.24120427 / [deg] Angle from V3 axis to Ideal y axis       RA_REF  =    80.49438732755138 / [deg] Right ascension of the reference point   DEC_REF =   -69.48679869271133 / [deg] Declination of the reference point       ROLL_REF=    144.5295594359386 / [deg] V3 roll angle at the ref point (N over E)VELOSYS =             -2556.11 / [m/s] Barycentric correction to radial velocityEXTVER  =                    1 / extension value                                END                                                                                                                                                                                                                                                                                                                                                                                                                                                                                                                                                                                                                                                                                                                                                                                                                                                                                                                                                                                                                                                                                                                                                                                                                                                                                                                                                                                                                                                                                                                                                                                                                                                                                                                                                                                                                                                                                                                                                                                                                                                                                                                                                                                                                                                                                                                                                                                                                                                                                             \n"
          ]
        }
      ]
    },
    {
      "cell_type": "code",
      "source": [
        "from astropy.io import fits\n",
        "\n",
        "# plot the image\n",
        "\n",
        "image_data = fits.getdata(\"/content/file?uri=mast:JWST%2Fproduct%2Fjw01018001004_02101_00001_guider1_rate.fits\")\n",
        "\n",
        "fig = plt.figure()\n",
        "ax = fig.add_subplot(1,1,1)\n",
        "\n",
        "plt.imshow(image_data, cmap='gray', origin='lower')\n",
        "\n",
        "#ax.set_title(\"MIRI LRS Slit\")\n",
        "ax.set_xlabel(\"Spatial pixels (512x1 binning)\")\n",
        "ax.set_ylabel(\"Spectral pixels (512x1 binning)\")\n",
        "\n",
        "cb = plt.colorbar()\n",
        "\n",
        "cb.set_label(\"Flux (e- per second)\")\n",
        "\n",
        "# display the figure\n",
        "\n",
        "plt.show()\n"
      ],
      "metadata": {
        "colab": {
          "base_uri": "https://localhost:8080/",
          "height": 279
        },
        "id": "Hdr8_1Z0lAzW",
        "outputId": "e352b3e6-b516-4ee0-8b3e-641c650ee51c"
      },
      "execution_count": 29,
      "outputs": [
        {
          "output_type": "display_data",
          "data": {
            "text/plain": [
              "<Figure size 432x288 with 2 Axes>"
            ],
            "image/png": "[encoded data removed]"
          },
          "metadata": {
            "needs_background": "light"
          }
        }
      ]
    },
    {
      "cell_type": "code",
      "source": [
        "from IPython.display import Image\n",
        "Image(url=\"jw01535002001_02101_00002_guider2_rate.fits\")"
      ],
      "metadata": {
        "colab": {
          "resources": {
            "http://localhost:8080/jw01535002001_02101_00002_guider2_rate.fits": {
              "data": "CjwhRE9DVFlQRSBodG1sPgo8aHRtbCBsYW5nPWVuPgogIDxtZXRhIGNoYXJzZXQ9dXRmLTg+CiAgPG1ldGEgbmFtZT12aWV3cG9ydCBjb250ZW50PSJpbml0aWFsLXNjYWxlPTEsIG1pbmltdW0tc2NhbGU9MSwgd2lkdGg9ZGV2aWNlLXdpZHRoIj4KICA8dGl0bGU+RXJyb3IgNDA0IChOb3QgRm91bmQpISExPC90aXRsZT4KICA8c3R5bGU+CiAgICAqe21hcmdpbjowO3BhZGRpbmc6MH1odG1sLGNvZGV7Zm9udDoxNXB4LzIycHggYXJpYWwsc2Fucy1zZXJpZn1odG1se2JhY2tncm91bmQ6I2ZmZjtjb2xvcjojMjIyO3BhZGRpbmc6MTVweH1ib2R5e21hcmdpbjo3JSBhdXRvIDA7bWF4LXdpZHRoOjM5MHB4O21pbi1oZWlnaHQ6MTgwcHg7cGFkZGluZzozMHB4IDAgMTVweH0qID4gYm9keXtiYWNrZ3JvdW5kOnVybCgvL3d3dy5nb29nbGUuY29tL2ltYWdlcy9lcnJvcnMvcm9ib3QucG5nKSAxMDAlIDVweCBuby1yZXBlYXQ7cGFkZGluZy1yaWdodDoyMDVweH1we21hcmdpbjoxMXB4IDAgMjJweDtvdmVyZmxvdzpoaWRkZW59aW5ze2NvbG9yOiM3Nzc7dGV4dC1kZWNvcmF0aW9uOm5vbmV9YSBpbWd7Ym9yZGVyOjB9QG1lZGlhIHNjcmVlbiBhbmQgKG1heC13aWR0aDo3NzJweCl7Ym9keXtiYWNrZ3JvdW5kOm5vbmU7bWFyZ2luLXRvcDowO21heC13aWR0aDpub25lO3BhZGRpbmctcmlnaHQ6MH19I2xvZ297YmFja2dyb3VuZDp1cmwoLy93d3cuZ29vZ2xlLmNvbS9pbWFnZXMvbG9nb3MvZXJyb3JwYWdlL2Vycm9yX2xvZ28tMTUweDU0LnBuZykgbm8tcmVwZWF0O21hcmdpbi1sZWZ0Oi01cHh9QG1lZGlhIG9ubHkgc2NyZWVuIGFuZCAobWluLXJlc29sdXRpb246MTkyZHBpKXsjbG9nb3tiYWNrZ3JvdW5kOnVybCgvL3d3dy5nb29nbGUuY29tL2ltYWdlcy9sb2dvcy9lcnJvcnBhZ2UvZXJyb3JfbG9nby0xNTB4NTQtMngucG5nKSBuby1yZXBlYXQgMCUgMCUvMTAwJSAxMDAlOy1tb3otYm9yZGVyLWltYWdlOnVybCgvL3d3dy5nb29nbGUuY29tL2ltYWdlcy9sb2dvcy9lcnJvcnBhZ2UvZXJyb3JfbG9nby0xNTB4NTQtMngucG5nKSAwfX1AbWVkaWEgb25seSBzY3JlZW4gYW5kICgtd2Via2l0LW1pbi1kZXZpY2UtcGl4ZWwtcmF0aW86Mil7I2xvZ297YmFja2dyb3VuZDp1cmwoLy93d3cuZ29vZ2xlLmNvbS9pbWFnZXMvbG9nb3MvZXJyb3JwYWdlL2Vycm9yX2xvZ28tMTUweDU0LTJ4LnBuZykgbm8tcmVwZWF0Oy13ZWJraXQtYmFja2dyb3VuZC1zaXplOjEwMCUgMTAwJX19I2xvZ297ZGlzcGxheTppbmxpbmUtYmxvY2s7aGVpZ2h0OjU0cHg7d2lkdGg6MTUwcHh9CiAgPC9zdHlsZT4KICA8YSBocmVmPS8vd3d3Lmdvb2dsZS5jb20vPjxzcGFuIGlkPWxvZ28gYXJpYS1sYWJlbD1Hb29nbGU+PC9zcGFuPjwvYT4KICA8cD48Yj40MDQuPC9iPiA8aW5zPlRoYXTigJlzIGFuIGVycm9yLjwvaW5zPgogIDxwPiAgPGlucz5UaGF04oCZcyBhbGwgd2Uga25vdy48L2lucz4K",
              "ok": false,
              "headers": [
                [
                  "content-length",
                  "1449"
                ],
                [
                  "content-type",
                  "text/html; charset=utf-8"
                ]
              ],
              "status": 404,
              "status_text": ""
            }
          },
          "base_uri": "https://localhost:8080/",
          "height": 37
        },
        "id": "51qIUG34RyhR",
        "outputId": "f070163c-d597-4be1-dba8-72a63d5fb129"
      },
      "execution_count": null,
      "outputs": [
        {
          "output_type": "execute_result",
          "data": {
            "text/html": [
              "<img src=\"jw01535002001_02101_00002_guider2_rate.fits\"/>"
            ],
            "text/plain": [
              "<IPython.core.display.Image object>"
            ]
          },
          "metadata": {},
          "execution_count": 23
        }
      ]
    },
    {
      "cell_type": "code",
      "source": [
        "# Set the file name\n",
        "file_name = 'jw01018001004_02101_00001_guider1_rate.fits'\n",
        "\n",
        "# Set the exposure time (this is in seconds)\n",
        "exptime = 60\n",
        "\n",
        "# Set the readout time (this is in seconds)\n",
        "readtime = 0.13\n",
        "\n",
        "# Set the number of reads\n",
        "nreads = 16\n",
        "\n",
        "# Set the number of integrations\n",
        "nints = 1\n",
        "\n",
        "# Set the number of groups\n",
        "ngroups = 1\n",
        "\n",
        "# Set the number of frames\n",
        "nframes = 1\n",
        "\n",
        "# Set the number of pixels in the slit\n",
        "npix = 512\n",
        "\n",
        "# Set the bin factor in the spatial direction\n",
        "xbin = 1\n",
        "\n",
        "# Set the bin factor in the dispersion direction\n",
        "ybin = 1\n",
        "\n",
        "# Set the number of pixels in the ramp\n",
        "ramp_pix = int(1032/xbin)\n",
        "\n",
        "# Set the number of pixels in the group\n",
        "group_pix = int(2064/xbin)\n",
        "\n",
        "# Calculate the number of groups per integration\n",
        "groups_per_int = int(group_pix/ramp_pix)\n",
        "\n",
        "# Calculate the number of integrations per exposure\n",
        "ints_per_exp = int(nframes/groups_per_int)\n",
        "\n",
        "# Calculate the total number of groups\n",
        "total_groups = int(nints*groups_per_int)\n",
        "\n",
        "# Calculate the number of reads per group\n",
        "reads_per_group = int(nreads/groups_per_int)\n",
        "\n",
        "# Calculate the number of reads per integration\n",
        "reads_per_int = int(reads_per_group*groups_per_int)\n",
        "\n",
        "# Calculate the number of reads per exposure\n",
        "reads_per_exp = int(nreads*nints/nframes)\n",
        "\n",
        "# Calculate the group duration (this is in seconds)\n",
        "group_time = reads_per_group * readtime\n",
        "\n",
        "# Calculate the integration duration (this is in seconds)\n",
        "int_time = group_time * groups_per_int\n",
        "\n",
        "# Calculate the exposure duration (this is in seconds)\n",
        "exp_time = int_time * nints\n",
        "\n",
        "# Calculate the total observation time (this is in seconds)\n",
        "obs_time = exp_time * nframes\n",
        "print('Observation Time is %s seconds' % obs_time)"
      ],
      "metadata": {
        "colab": {
          "base_uri": "https://localhost:8080/"
        },
        "id": "S2yWi4rmYFVw",
        "outputId": "974c6916-bda0-4429-986c-6d412a0244f5"
      },
      "execution_count": null,
      "outputs": [
        {
          "output_type": "stream",
          "name": "stdout",
          "text": [
            "Observation Time is 2.08 seconds\n"
          ]
        }
      ]
    },
    {
      "cell_type": "code",
      "source": [
        "# define fits\n",
        "\n",
        "\n",
        "# open the file with fits\n",
        "\n",
        "hdu_list = fits.open(file_name)"
      ],
      "metadata": {
        "colab": {
          "base_uri": "https://localhost:8080/",
          "height": 201
        },
        "id": "WwJZbiApgIiS",
        "outputId": "8c2a05f1-8bd2-4aa5-d825-505f9e486c2b"
      },
      "execution_count": null,
      "outputs": [
        {
          "output_type": "error",
          "ename": "NameError",
          "evalue": "ignored",
          "traceback": [
            "\u001b[0;31m---------------------------------------------------------------------------\u001b[0m",
            "\u001b[0;31mNameError\u001b[0m                                 Traceback (most recent call last)",
            "\u001b[0;32m<ipython-input-32-17760cd96776>\u001b[0m in \u001b[0;36m<module>\u001b[0;34m\u001b[0m\n\u001b[1;32m      4\u001b[0m \u001b[0;31m# open the file with fits\u001b[0m\u001b[0;34m\u001b[0m\u001b[0;34m\u001b[0m\u001b[0;34m\u001b[0m\u001b[0m\n\u001b[1;32m      5\u001b[0m \u001b[0;34m\u001b[0m\u001b[0m\n\u001b[0;32m----> 6\u001b[0;31m \u001b[0mhdu_list\u001b[0m \u001b[0;34m=\u001b[0m \u001b[0mfits\u001b[0m\u001b[0;34m.\u001b[0m\u001b[0mopen\u001b[0m\u001b[0;34m(\u001b[0m\u001b[0mfile_name\u001b[0m\u001b[0;34m)\u001b[0m\u001b[0;34m\u001b[0m\u001b[0;34m\u001b[0m\u001b[0m\n\u001b[0m",
            "\u001b[0;31mNameError\u001b[0m: name 'fits' is not defined"
          ]
        }
      ]
    },
    {
      "cell_type": "markdown",
      "source": [
        "\n",
        "\n",
        "---\n",
        "Experimental\n",
        "\n",
        "\n",
        "---\n",
        "\n",
        "\n"
      ],
      "metadata": {
        "id": "q3UemHPEe3PS"
      }
    },
    {
      "cell_type": "code",
      "source": [],
      "metadata": {
        "id": "8wUWEZOsfUgS"
      },
      "execution_count": null,
      "outputs": []
    },
    {
      "cell_type": "code",
      "source": [
        "import requests\n",
        "import json\n",
        "import math\n",
        "\n",
        "# this is the url from the MAST API to retrieve the file\n",
        "\n",
        "API_URL = \"https://mast.stsci.edu/api/v0/download/file?uri=mast:JWST/product/jw01535002001_02101_00002_guider2_rate.fits\"\n",
        "# use the requests package to send the request to the API\n",
        "\n",
        "response = requests.get(API_URL, headers={'Content-Type': 'application/json'})\n",
        "\n",
        "# to see if the response was successful, check the status code of the response\n",
        "\n",
        "if not response.ok:\n",
        "    response.raise_for_status()\n",
        "\n",
        "# get the content of the response\n",
        "\n",
        "results = response.content\n",
        "# print the results to see the original output\n",
        "\n",
        "# print(results)\n",
        "\n",
        "\n",
        "# use the json package to decode the results\n",
        "\n",
        "#results_json = json.loads(results)\n",
        "# print the results to see the output\n",
        "\n",
        "#print(results)\n",
        "\n"
      ],
      "metadata": {
        "id": "r5eu5ZiNUwrA"
      },
      "execution_count": null,
      "outputs": []
    },
    {
      "cell_type": "code",
      "source": [
        "from IPython.display import Image\n",
        "Image(url=\"jw01535002001_02101_00002_guider2_rate.fits\")\n",
        "\n",
        "# Image(url=\"jw01018001004_02101_00001_guider1_rate.fits\",width=1000, height = 1000)"
      ],
      "metadata": {
        "colab": {
          "resources": {
            "http://localhost:8080/jw01535002001_02101_00002_guider2_rate.fits": {
              "data": "CjwhRE9DVFlQRSBodG1sPgo8aHRtbCBsYW5nPWVuPgogIDxtZXRhIGNoYXJzZXQ9dXRmLTg+CiAgPG1ldGEgbmFtZT12aWV3cG9ydCBjb250ZW50PSJpbml0aWFsLXNjYWxlPTEsIG1pbmltdW0tc2NhbGU9MSwgd2lkdGg9ZGV2aWNlLXdpZHRoIj4KICA8dGl0bGU+RXJyb3IgNDA0IChOb3QgRm91bmQpISExPC90aXRsZT4KICA8c3R5bGU+CiAgICAqe21hcmdpbjowO3BhZGRpbmc6MH1odG1sLGNvZGV7Zm9udDoxNXB4LzIycHggYXJpYWwsc2Fucy1zZXJpZn1odG1se2JhY2tncm91bmQ6I2ZmZjtjb2xvcjojMjIyO3BhZGRpbmc6MTVweH1ib2R5e21hcmdpbjo3JSBhdXRvIDA7bWF4LXdpZHRoOjM5MHB4O21pbi1oZWlnaHQ6MTgwcHg7cGFkZGluZzozMHB4IDAgMTVweH0qID4gYm9keXtiYWNrZ3JvdW5kOnVybCgvL3d3dy5nb29nbGUuY29tL2ltYWdlcy9lcnJvcnMvcm9ib3QucG5nKSAxMDAlIDVweCBuby1yZXBlYXQ7cGFkZGluZy1yaWdodDoyMDVweH1we21hcmdpbjoxMXB4IDAgMjJweDtvdmVyZmxvdzpoaWRkZW59aW5ze2NvbG9yOiM3Nzc7dGV4dC1kZWNvcmF0aW9uOm5vbmV9YSBpbWd7Ym9yZGVyOjB9QG1lZGlhIHNjcmVlbiBhbmQgKG1heC13aWR0aDo3NzJweCl7Ym9keXtiYWNrZ3JvdW5kOm5vbmU7bWFyZ2luLXRvcDowO21heC13aWR0aDpub25lO3BhZGRpbmctcmlnaHQ6MH19I2xvZ297YmFja2dyb3VuZDp1cmwoLy93d3cuZ29vZ2xlLmNvbS9pbWFnZXMvbG9nb3MvZXJyb3JwYWdlL2Vycm9yX2xvZ28tMTUweDU0LnBuZykgbm8tcmVwZWF0O21hcmdpbi1sZWZ0Oi01cHh9QG1lZGlhIG9ubHkgc2NyZWVuIGFuZCAobWluLXJlc29sdXRpb246MTkyZHBpKXsjbG9nb3tiYWNrZ3JvdW5kOnVybCgvL3d3dy5nb29nbGUuY29tL2ltYWdlcy9sb2dvcy9lcnJvcnBhZ2UvZXJyb3JfbG9nby0xNTB4NTQtMngucG5nKSBuby1yZXBlYXQgMCUgMCUvMTAwJSAxMDAlOy1tb3otYm9yZGVyLWltYWdlOnVybCgvL3d3dy5nb29nbGUuY29tL2ltYWdlcy9sb2dvcy9lcnJvcnBhZ2UvZXJyb3JfbG9nby0xNTB4NTQtMngucG5nKSAwfX1AbWVkaWEgb25seSBzY3JlZW4gYW5kICgtd2Via2l0LW1pbi1kZXZpY2UtcGl4ZWwtcmF0aW86Mil7I2xvZ297YmFja2dyb3VuZDp1cmwoLy93d3cuZ29vZ2xlLmNvbS9pbWFnZXMvbG9nb3MvZXJyb3JwYWdlL2Vycm9yX2xvZ28tMTUweDU0LTJ4LnBuZykgbm8tcmVwZWF0Oy13ZWJraXQtYmFja2dyb3VuZC1zaXplOjEwMCUgMTAwJX19I2xvZ297ZGlzcGxheTppbmxpbmUtYmxvY2s7aGVpZ2h0OjU0cHg7d2lkdGg6MTUwcHh9CiAgPC9zdHlsZT4KICA8YSBocmVmPS8vd3d3Lmdvb2dsZS5jb20vPjxzcGFuIGlkPWxvZ28gYXJpYS1sYWJlbD1Hb29nbGU+PC9zcGFuPjwvYT4KICA8cD48Yj40MDQuPC9iPiA8aW5zPlRoYXTigJlzIGFuIGVycm9yLjwvaW5zPgogIDxwPiAgPGlucz5UaGF04oCZcyBhbGwgd2Uga25vdy48L2lucz4K",
              "ok": false,
              "headers": [
                [
                  "content-length",
                  "1449"
                ],
                [
                  "content-type",
                  "text/html; charset=utf-8"
                ]
              ],
              "status": 404,
              "status_text": ""
            }
          },
          "base_uri": "https://localhost:8080/",
          "height": 37
        },
        "outputId": "c1ebe3a1-a3d2-4329-ea64-f2620bcc31da",
        "id": "CmzyzKZ0V6MP"
      },
      "execution_count": null,
      "outputs": [
        {
          "output_type": "execute_result",
          "data": {
            "text/html": [
              "<img src=\"jw01535002001_02101_00002_guider2_rate.fits\"/>"
            ],
            "text/plain": [
              "<IPython.core.display.Image object>"
            ]
          },
          "metadata": {},
          "execution_count": 8
        }
      ]
    }
  ]
}