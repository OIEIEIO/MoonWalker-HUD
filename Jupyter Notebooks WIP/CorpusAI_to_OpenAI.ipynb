{
  "nbformat": 4,
  "nbformat_minor": 0,
  "metadata": {
    "colab": {
      "provenance": [],
      "collapsed_sections": [],
      "machine_shape": "hm",
      "authorship_tag": "ABX9TyNVaE25USoI3fp5A49uEilQ",
      "include_colab_link": true
    },
    "kernelspec": {
      "name": "python3",
      "display_name": "Python 3"
    },
    "language_info": {
      "name": "python"
    }
  },
  "cells": [
    {
      "cell_type": "markdown",
      "metadata": {
        "id": "view-in-github",
        "colab_type": "text"
      },
      "source": [
        "<a href=\"https://colab.research.google.com/github/OIEIEIO/MoonWalker-HUD/blob/main/CorpusAI_to_OpenAI.ipynb\" target=\"_parent\"><img src=\"https://colab.research.google.com/assets/colab-badge.svg\" alt=\"Open In Colab\"/></a>"
      ]
    },
    {
      "cell_type": "code",
      "source": [
        "!lscpu"
      ],
      "metadata": {
        "id": "M8ouT35DwzLy"
      },
      "execution_count": null,
      "outputs": []
    },
    {
      "cell_type": "code",
      "source": [
        "# mount google drive\n",
        "from google.colab import drive\n",
        "drive.mount('/content/drive')"
      ],
      "metadata": {
        "colab": {
          "base_uri": "https://localhost:8080/"
        },
        "id": "wIgbuEHfkh0n",
        "outputId": "197e2c69-930b-4991-e354-a7b0f890f4b6"
      },
      "execution_count": null,
      "outputs": [
        {
          "output_type": "stream",
          "name": "stdout",
          "text": [
            "Mounted at /content/drive\n"
          ]
        }
      ]
    },
    {
      "cell_type": "code",
      "source": [
        "# open a large csv file for reading\n",
        "f = open('/content/drive/MyDrive/CorpusAI-Dataset.csv')\n",
        "\n",
        "# get the first line of the file\n",
        "first_line = f.readline()\n",
        "\n",
        "# print the first line\n",
        "print(first_line)"
      ],
      "metadata": {
        "id": "x2M0cEfa34jQ",
        "colab": {
          "base_uri": "https://localhost:8080/"
        },
        "outputId": "d21fedc1-54eb-4e97-e5b7-ac6e6e77f585"
      },
      "execution_count": null,
      "outputs": [
        {
          "output_type": "stream",
          "name": "stdout",
          "text": [
            ",id,title,abstract,authors,text\n",
            "\n"
          ]
        }
      ]
    },
    {
      "cell_type": "code",
      "source": [
        "# open first 10 lines\n",
        "with open('/content/drive/MyDrive/CorpusAI-Dataset.csv') as f:\n",
        "    head = [next(f) for x in range(10)]\n",
        "   # print (head)\n",
        "\n",
        "# word wrap the printed text\n",
        "import textwrap\n",
        "wrapper = textwrap.TextWrapper(width=140)\n",
        "print (wrapper.fill(text=str(head)))\n"
      ],
      "metadata": {
        "id": "hUYQTOtx5bYB",
        "colab": {
          "base_uri": "https://localhost:8080/"
        },
        "outputId": "3c7e8512-0e51-4024-c2f0-c301594cc9c2"
      },
      "execution_count": null,
      "outputs": [
        {
          "output_type": "stream",
          "name": "stdout",
          "text": [
            "[',id,title,abstract,authors,text\\n', '0,1,\"User\\'s design handbook for a Standardized Control Module (SCM) for DC to DC Converters, volume\n",
            "2\",\"A unified design procedure is presented for selecting the key SCM control parameters for an arbitrarily given power stage configuration\n",
            "and parameter values, such that all regulator performance specifications can be met and optimized concurrently in a single design attempt.\n",
            "All key results and performance indices, for buck, boost, and buck/boost switching regulators which are relevant to SCM design\n",
            "considerations are included to facilitate frequent references.\",\"Lee, F. C.\",\"3\\n', 'a\\n', 'a\\n', 'NASA CR 165173\\n', 'TRW\n",
            "29922-6001-RU-01\\n', '(NASA-CR-165173) USER iS DESIGN HANDBOOK FOR \\t N81 -11314\\n', 'A STANDARDIZED CONTROL MODULE- (SCH) FOR DC.\\n', 'un.\n",
            "1 976 0NV EB\\n', 'Jan\\t E n r ^ . 1980 (TRW DefenseadSJ\\t\\n']\n"
          ]
        }
      ]
    },
    {
      "cell_type": "code",
      "source": [
        "import itertools \n",
        "def findsubsets(s, n): \n",
        "    return [set(i) for i in itertools.combinations(s, n)] "
      ],
      "metadata": {
        "id": "dkNGNJVkv9Ox"
      },
      "execution_count": null,
      "outputs": []
    },
    {
      "cell_type": "code",
      "source": [
        "import sys\n",
        "import csv\n",
        "maxInt = sys.maxsize\n",
        "\n",
        "while True:\n",
        "    # decrease the maxInt value by factor 10 \n",
        "    # as long as the OverflowError occurs.\n",
        "\n",
        "    try:\n",
        "        csv.field_size_limit(maxInt)\n",
        "        break\n",
        "    except OverflowError:\n",
        "        maxInt = int(maxInt/10)\n",
        "\n",
        "import csv\n",
        "\n",
        "with open('/content/drive/MyDrive/CorpusAI-Dataset.csv') as f:\n",
        "    next(f) # skip first line\n",
        "    reader = csv.reader(f)\n",
        "    for row in reader:\n",
        "        print(row)"
      ],
      "metadata": {
        "colab": {
          "base_uri": "https://localhost:8080/",
          "height": 392
        },
        "id": "kyojUE959UGk",
        "outputId": "3cc1672e-c3db-4218-a189-948a43021ad5"
      },
      "execution_count": null,
      "outputs": [
        {
          "output_type": "stream",
          "name": "stderr",
          "text": [
            "IOPub data rate exceeded.\n",
            "The notebook server will temporarily stop sending output\n",
            "to the client in order to avoid crashing it.\n",
            "To change this limit, set the config variable\n",
            "`--NotebookApp.iopub_data_rate_limit`.\n",
            "\n",
            "Current values:\n",
            "NotebookApp.iopub_data_rate_limit=1000000.0 (bytes/sec)\n",
            "NotebookApp.rate_limit_window=3.0 (secs)\n",
            "\n"
          ]
        },
        {
          "output_type": "error",
          "ename": "Error",
          "evalue": "ignored",
          "traceback": [
            "\u001b[0;31m---------------------------------------------------------------------------\u001b[0m",
            "\u001b[0;31mError\u001b[0m                                     Traceback (most recent call last)",
            "\u001b[0;32m<ipython-input-13-ad53d08ca70f>\u001b[0m in \u001b[0;36m<module>\u001b[0;34m\u001b[0m\n\u001b[1;32m     18\u001b[0m     \u001b[0mnext\u001b[0m\u001b[0;34m(\u001b[0m\u001b[0mf\u001b[0m\u001b[0;34m)\u001b[0m \u001b[0;31m# skip first line\u001b[0m\u001b[0;34m\u001b[0m\u001b[0;34m\u001b[0m\u001b[0m\n\u001b[1;32m     19\u001b[0m     \u001b[0mreader\u001b[0m \u001b[0;34m=\u001b[0m \u001b[0mcsv\u001b[0m\u001b[0;34m.\u001b[0m\u001b[0mreader\u001b[0m\u001b[0;34m(\u001b[0m\u001b[0mf\u001b[0m\u001b[0;34m)\u001b[0m\u001b[0;34m\u001b[0m\u001b[0;34m\u001b[0m\u001b[0m\n\u001b[0;32m---> 20\u001b[0;31m     \u001b[0;32mfor\u001b[0m \u001b[0mrow\u001b[0m \u001b[0;32min\u001b[0m \u001b[0mreader\u001b[0m\u001b[0;34m:\u001b[0m\u001b[0;34m\u001b[0m\u001b[0;34m\u001b[0m\u001b[0m\n\u001b[0m\u001b[1;32m     21\u001b[0m         \u001b[0mprint\u001b[0m\u001b[0;34m(\u001b[0m\u001b[0mrow\u001b[0m\u001b[0;34m)\u001b[0m\u001b[0;34m\u001b[0m\u001b[0;34m\u001b[0m\u001b[0m\n",
            "\u001b[0;31mError\u001b[0m: line contains NUL"
          ]
        }
      ]
    },
    {
      "cell_type": "code",
      "source": [
        "!pip install openai"
      ],
      "metadata": {
        "id": "FcfxJtnnhwoY",
        "colab": {
          "base_uri": "https://localhost:8080/",
          "height": 662
        },
        "outputId": "5490f47b-ba21-4d81-e3ec-b6afb4acca2c"
      },
      "execution_count": null,
      "outputs": [
        {
          "output_type": "stream",
          "name": "stdout",
          "text": [
            "Looking in indexes: https://pypi.org/simple, https://us-python.pkg.dev/colab-wheels/public/simple/\n",
            "Collecting openai\n",
            "  Downloading openai-0.23.1.tar.gz (43 kB)\n",
            "\u001b[K     |████████████████████████████████| 43 kB 1.5 MB/s \n",
            "\u001b[?25h  Installing build dependencies ... \u001b[?25l\u001b[?25hdone\n",
            "  Getting requirements to build wheel ... \u001b[?25l\u001b[?25hdone\n",
            "    Preparing wheel metadata ... \u001b[?25l\u001b[?25hdone\n",
            "Requirement already satisfied: openpyxl>=3.0.7 in /usr/local/lib/python3.7/dist-packages (from openai) (3.0.10)\n",
            "Requirement already satisfied: typing-extensions in /usr/local/lib/python3.7/dist-packages (from openai) (4.1.1)\n",
            "Requirement already satisfied: requests>=2.20 in /usr/local/lib/python3.7/dist-packages (from openai) (2.23.0)\n",
            "Requirement already satisfied: pandas>=1.2.3 in /usr/local/lib/python3.7/dist-packages (from openai) (1.3.5)\n",
            "Collecting pandas-stubs>=1.1.0.11\n",
            "  Downloading pandas_stubs-1.2.0.62-py3-none-any.whl (163 kB)\n",
            "\u001b[K     |████████████████████████████████| 163 kB 9.3 MB/s \n",
            "\u001b[?25hRequirement already satisfied: numpy in /usr/local/lib/python3.7/dist-packages (from openai) (1.21.6)\n",
            "Requirement already satisfied: tqdm in /usr/local/lib/python3.7/dist-packages (from openai) (4.64.1)\n",
            "Requirement already satisfied: et-xmlfile in /usr/local/lib/python3.7/dist-packages (from openpyxl>=3.0.7->openai) (1.1.0)\n",
            "Requirement already satisfied: python-dateutil>=2.7.3 in /usr/local/lib/python3.7/dist-packages (from pandas>=1.2.3->openai) (2.8.2)\n",
            "Requirement already satisfied: pytz>=2017.3 in /usr/local/lib/python3.7/dist-packages (from pandas>=1.2.3->openai) (2022.2.1)\n",
            "Requirement already satisfied: six>=1.5 in /usr/local/lib/python3.7/dist-packages (from python-dateutil>=2.7.3->pandas>=1.2.3->openai) (1.15.0)\n",
            "Requirement already satisfied: idna<3,>=2.5 in /usr/local/lib/python3.7/dist-packages (from requests>=2.20->openai) (2.10)\n",
            "Requirement already satisfied: certifi>=2017.4.17 in /usr/local/lib/python3.7/dist-packages (from requests>=2.20->openai) (2022.6.15)\n",
            "Requirement already satisfied: chardet<4,>=3.0.2 in /usr/local/lib/python3.7/dist-packages (from requests>=2.20->openai) (3.0.4)\n",
            "Requirement already satisfied: urllib3!=1.25.0,!=1.25.1,<1.26,>=1.21.1 in /usr/local/lib/python3.7/dist-packages (from requests>=2.20->openai) (1.24.3)\n",
            "Building wheels for collected packages: openai\n",
            "  Building wheel for openai (PEP 517) ... \u001b[?25l\u001b[?25hdone\n",
            "  Created wheel for openai: filename=openai-0.23.1-py3-none-any.whl size=54527 sha256=b2e3d503aab321ce2c9c195594f062e99b0e9b32ac10c49db582315a370bf51e\n",
            "  Stored in directory: /root/.cache/pip/wheels/5f/f5/69/860bc773610989840e34f3352d39a4651a76f509cf1610bf22\n",
            "Successfully built openai\n",
            "Installing collected packages: pandas-stubs, openai\n",
            "Successfully installed openai-0.23.1 pandas-stubs-1.2.0.62\n"
          ]
        },
        {
          "output_type": "display_data",
          "data": {
            "application/vnd.colab-display-data+json": {
              "pip_warning": {
                "packages": [
                  "pandas"
                ]
              }
            }
          },
          "metadata": {}
        }
      ]
    },
    {
      "cell_type": "code",
      "source": [
        "import os\n",
        "import openai\n",
        "\n",
        "openai.api_key = os.getenv(\"sk-supersecretcorpusaistufflol\")\n",
        "openai.api_key = \"sk-supersecretcorpusaistufflol\"\n",
        "\n",
        "response = openai.Completion.create(\n",
        "  engine=\"text-davinci-001\",\n",
        "  prompt=\"The development of a method of producing etch resistant wax patterns on solar cells\",\n",
        "  temperature=0.5,\n",
        "  max_tokens=256,\n",
        "  top_p=1.0,\n",
        "  frequency_penalty=0.5,\n",
        "  presence_penalty=0.0,\n",
        "  stop=[\"You:\"]\n",
        ")\n",
        "\n",
        "print(response.choices[0].text)\n"
      ],
      "metadata": {
        "colab": {
          "base_uri": "https://localhost:8080/"
        },
        "id": "LOYJM6RAhtVp",
        "outputId": "66dfef40-06d1-4b46-f05a-e6c0304fb11f"
      },
      "execution_count": null,
      "outputs": [
        {
          "output_type": "stream",
          "name": "stdout",
          "text": [
            "\n",
            "\n",
            "Abstract\n",
            "\n",
            "A method of producing etch resistant wax patterns on solar cells is disclosed. The method includes the steps of providing a solar cell, providing a wax pattern, and etching the wax pattern onto the solar cell. The wax pattern is resistant to etching and remains on the solar cell after etching.\n"
          ]
        }
      ]
    },
    {
      "cell_type": "code",
      "source": [],
      "metadata": {
        "id": "uz4oo2KWkzBo"
      },
      "execution_count": null,
      "outputs": []
    },
    {
      "cell_type": "code",
      "source": [
        "import os\n",
        "import openai\n",
        "\n",
        "openai.api_key = os.getenv(\"sk-supersecretcorpusaistufflol\")\n",
        "openai.api_key = \"sk-supersecretcorpusaistufflol\"\n",
        "\n",
        "response = openai.Completion.create(\n",
        "  engine=\"text-davinci-002\",\n",
        "  prompt=\"The development of a method of producing etch resistant wax patterns on solar cells\",\n",
        "  temperature=0.5,\n",
        "  max_tokens=256,\n",
        "  top_p=1.0,\n",
        "  frequency_penalty=0.5,\n",
        "  presence_penalty=0.0,\n",
        "  stop=[\"You:\"]\n",
        ")\n",
        "\n",
        "print(response.choices[0].text)\n"
      ],
      "metadata": {
        "colab": {
          "base_uri": "https://localhost:8080/"
        },
        "outputId": "4571df66-cd18-454d-b18d-9f5bc59c9297",
        "id": "vFgCRsl9kzfA"
      },
      "execution_count": null,
      "outputs": [
        {
          "output_type": "stream",
          "name": "stdout",
          "text": [
            "\n",
            "\n",
            "The development of a method of producing etch resistant wax patterns on solar cells is a research project that was conducted by the Department of Energy's National Renewable Energy Laboratory (NREL). The purpose of this project was to develop a method of creating wax patterns on solar cells that would be resistant to etching. The team at NREL developed a method of using an ultraviolet (UV) laser to create the wax patterns on the solar cells. This method is more efficient and less expensive than traditional methods of creating wax patterns on solar cells.\n"
          ]
        }
      ]
    },
    {
      "cell_type": "code",
      "source": [
        "!pip install english-words"
      ],
      "metadata": {
        "id": "NKnS2_ZVuaHD",
        "colab": {
          "base_uri": "https://localhost:8080/"
        },
        "outputId": "32fc9148-5c37-4625-beef-fa60560ab345"
      },
      "execution_count": null,
      "outputs": [
        {
          "output_type": "stream",
          "name": "stdout",
          "text": [
            "Looking in indexes: https://pypi.org/simple, https://us-python.pkg.dev/colab-wheels/public/simple/\n",
            "Collecting english-words\n",
            "  Downloading english-words-1.1.0.tar.gz (1.1 MB)\n",
            "\u001b[K     |████████████████████████████████| 1.1 MB 5.2 MB/s \n",
            "\u001b[?25hBuilding wheels for collected packages: english-words\n",
            "  Building wheel for english-words (setup.py) ... \u001b[?25l\u001b[?25hdone\n",
            "  Created wheel for english-words: filename=english_words-1.1.0-py3-none-any.whl size=1106680 sha256=aff534ad45d6d0856e47fcb0f0fdd9d8225c485e66e0df14b8ff1263a454a20d\n",
            "  Stored in directory: /root/.cache/pip/wheels/25/3d/4c/12a119ce90b46b4f90f9ddf41d719ecabb40faec6103379fc8\n",
            "Successfully built english-words\n",
            "Installing collected packages: english-words\n",
            "Successfully installed english-words-1.1.0\n"
          ]
        }
      ]
    },
    {
      "cell_type": "code",
      "source": [
        "import string\n",
        "import nltk\n",
        "nltk.download('stopwords')\n",
        "import re\n",
        "import pandas as pd\n",
        "from english_words import english_words_set\n",
        "from nltk.probability import FreqDist\n",
        "import matplotlib.pyplot as plt\n",
        "from tqdm import tqdm\n",
        "import numpy as np\n",
        "\n",
        "def preprocess(text):\n",
        "\n",
        "    for i in tqdm(range(len(text))):\n",
        "        text[i] = nltk.tokenize.word_tokenize(text[i].lower())\n",
        "\n",
        "    stopwords = nltk.corpus.stopwords.words(\"english\")\n",
        "    stemmer = nltk.stem.WordNetLemmatizer()\n",
        "\n",
        "    n_corpus = []\n",
        "\n",
        "    correct_words = english_words_set\n",
        "\n",
        "    for data in tqdm(text):\n",
        "\n",
        "        '''\n",
        "        data = re.sub(r\"[^a-zA-Z0-9 ]\", \"\", data)\n",
        "        data = re.sub(r'$\\w', '', data)\n",
        "        data = re.sub(r'^RT[\\s]+', '', data)\n",
        "        data = re.sub(r'https?://.[\\r\\n]', '', data)\n",
        "        data = re.sub(r'#', '', data)\n",
        "        data = re.sub('\\n', '', data)\n",
        "        data = re.sub('\\t', '', data)\n",
        "        '''\n",
        "        for word in data:\n",
        "\n",
        "            if len(word)>2 and word in correct_words and word not in stopwords and word not in string.punctuation and word.isalnum() and not word.isdigit():\n",
        "\n",
        "                word = re.sub('\\n', '', word)\n",
        "                word = re.sub('\\t', '', word)\n",
        "                word = re.sub(r'$\\w', '', word)\n",
        "\n",
        "                word = stemmer.lemmatize(word)\n",
        "\n",
        "                n_corpus.append(word)\n",
        "\n",
        "    return n_corpus\n"
      ],
      "metadata": {
        "colab": {
          "base_uri": "https://localhost:8080/"
        },
        "id": "GbGKDRjJ7gsG",
        "outputId": "e2ea2030-1b47-4cc3-e364-227d41116da0"
      },
      "execution_count": null,
      "outputs": [
        {
          "output_type": "stream",
          "name": "stderr",
          "text": [
            "[nltk_data] Downloading package stopwords to /root/nltk_data...\n",
            "[nltk_data]   Package stopwords is already up-to-date!\n"
          ]
        }
      ]
    },
    {
      "cell_type": "code",
      "source": [
        "data = pd.read_csv('/content/drive/MyDrive/CorpusAI-Dataset.csv', header=None, skiprows=1)\n",
        "print(data)"
      ],
      "metadata": {
        "colab": {
          "base_uri": "https://localhost:8080/"
        },
        "id": "80_8z9zk-RLA",
        "outputId": "cdaf2479-c191-4062-e24d-20aae06aa0e8"
      },
      "execution_count": null,
      "outputs": [
        {
          "output_type": "stream",
          "name": "stdout",
          "text": [
            "         0      1                                                  2  \\\n",
            "0        0      1  User's design handbook for a Standardized Cont...   \n",
            "1        1      2  Modular instrumentation system for real-time m...   \n",
            "2        2      3  Second year technical report on-board processi...   \n",
            "3        3      4             Electric and hybrid vehicle system R/D   \n",
            "4        4      5  Identification and analysis of factors affecti...   \n",
            "...    ...    ...                                                ...   \n",
            "9995  9995  10046  Fouling characteristics of ASTM jet A fuel whe...   \n",
            "9996  9996  10047  Mineral composition of ores and silicagel quality   \n",
            "9997  9997  10048  The radial gradient of interplanetary radiatio...   \n",
            "9998  9998  10049  Test report for Grove Valve and Regulator Comp...   \n",
            "9999  9999  10050  Long term operations of in-pile and out-of- pi...   \n",
            "\n",
            "                                                      3  \\\n",
            "0     A unified design procedure is presented for se...   \n",
            "1     An instrumentation system was developed for re...   \n",
            "2     Advanced baseband and microwave switching tech...   \n",
            "3     The work being done to characterize the level ...   \n",
            "4     An analysis was conducted of the possible mode...   \n",
            "...                                                 ...   \n",
            "9995  Surface fouling of ASTM jet A fuel heated to 7...   \n",
            "9996  Mineral composition and silica hydrogel proper...   \n",
            "9997  Interplanetary radiation radial gradient measu...   \n",
            "9998         Environmental tests on pressure regulators   \n",
            "9999  In-pile life tests of cylindrical thermionic c...   \n",
            "\n",
            "                                                      4  \\\n",
            "0                                            Lee, F. C.   \n",
            "1                      Rice, W. J. & Birchenough, A. G.   \n",
            "2     Brandon, W. T. & Green, W. K. & Hoffman, M. & ...   \n",
            "3                                       Schwartz, H. J.   \n",
            "4     Hasselman, D. P. H. & Singh, J. P. & Satyamurt...   \n",
            "...                                                 ...   \n",
            "9995      Evans, A., Jr. & Hibbard, R. R. & Watt, J. J.   \n",
            "9996                                          Maeno, M.   \n",
            "9997                   Krimigis, S. M. & Venkatesan, D.   \n",
            "9998                                       Clarkson, L.   \n",
            "9999  Holland, J. W. & Kay, J. & Schwarzer, D. E. & ...   \n",
            "\n",
            "                                                      5  \n",
            "0     3\\na\\na\\nNASA CR 165173\\nTRW 29922-6001-RU-01\\...  \n",
            "1     L \\nNASA Technical  Paper 1757 \\ni -, \\n,. \\n\\...  \n",
            "2         N O T I C E  THIS DOCUMENT HAS BEEN REPROD...  \n",
            "3         N O T I C E  THIS DOCUMENT HAS BEEN REPROD...  \n",
            "4         N O T I C E  THIS DOCUMENT HAS BEEN REPROD...  \n",
            "...                                                 ...  \n",
            "9995  NASATECHNICALNOTE(^^^^^| NASATND-4958\\n0 Q^^- ...  \n",
            "9996  General Disclaimer  \\nOne or more of the Follo...  \n",
            "9997  \\nThe Radial Gradient of Interplanetaq* Radiat...  \n",
            "9998                                               None  \n",
            "9999  A Reproduced Copy \\nOF \\nReproduced for NASA \\...  \n",
            "\n",
            "[10000 rows x 6 columns]\n"
          ]
        }
      ]
    },
    {
      "cell_type": "markdown",
      "source": [
        "\n",
        "\n",
        "---\n",
        "\n",
        "\n",
        "experimental\n",
        "\n",
        "\n",
        "---\n",
        "\n"
      ],
      "metadata": {
        "id": "B6ji1WiyBwug"
      }
    },
    {
      "cell_type": "code",
      "source": [
        "!pip install jupyter-resource-usage"
      ],
      "metadata": {
        "id": "0V5tKMTBwQTJ"
      },
      "execution_count": null,
      "outputs": []
    },
    {
      "cell_type": "code",
      "source": [
        "data = pd.read_csv('/content/drive/MyDrive/CorpusAI-Dataset.csv', header=None, skiprows=1, usecols=[0,1,2,3,4,5])\n",
        "print(data)"
      ],
      "metadata": {
        "id": "JZxl805l-14x"
      },
      "execution_count": null,
      "outputs": []
    },
    {
      "cell_type": "code",
      "source": [
        "!jupyter notebook --generate-config"
      ],
      "metadata": {
        "id": "Ai4tC5kEysN1",
        "colab": {
          "base_uri": "https://localhost:8080/"
        },
        "outputId": "993bbbf3-f8b7-4719-dc1b-283fa9231f95"
      },
      "execution_count": null,
      "outputs": [
        {
          "output_type": "stream",
          "name": "stdout",
          "text": [
            "Overwrite /root/.jupyter/jupyter_notebook_config.py with default config? [y/N]y\n",
            "Writing default config to: /root/.jupyter/jupyter_notebook_config.py\n"
          ]
        }
      ]
    },
    {
      "cell_type": "code",
      "source": [
        "!cat jupyter_notebook_config.py"
      ],
      "metadata": {
        "colab": {
          "base_uri": "https://localhost:8080/"
        },
        "id": "2oB1InOnzKBs",
        "outputId": "25b40765-5a3c-4b3c-ebb3-c74e72c38860"
      },
      "execution_count": null,
      "outputs": [
        {
          "output_type": "stream",
          "name": "stdout",
          "text": [
            "cat: jupyter_notebook_config.py: No such file or directory\n"
          ]
        }
      ]
    }
  ]
}