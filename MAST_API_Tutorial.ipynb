{
  "nbformat": 4,
  "nbformat_minor": 0,
  "metadata": {
    "colab": {
      "provenance": [],
      "collapsed_sections": [],
      "machine_shape": "hm",
      "authorship_tag": "ABX9TyNEaj5TYnqQdPaTw+XuCs84",
      "include_colab_link": true
    },
    "kernelspec": {
      "name": "python3",
      "display_name": "Python 3"
    },
    "language_info": {
      "name": "python"
    }
  },
  "cells": [
    {
      "cell_type": "markdown",
      "metadata": {
        "id": "view-in-github",
        "colab_type": "text"
      },
      "source": [
        "<a href=\"https://colab.research.google.com/github/OIEIEIO/MoonWalker-HUD/blob/main/MAST_API_Tutorial.ipynb\" target=\"_parent\"><img src=\"https://colab.research.google.com/assets/colab-badge.svg\" alt=\"Open In Colab\"/></a>"
      ]
    },
    {
      "cell_type": "code",
      "execution_count": 1,
      "metadata": {
        "id": "THMhxm9Qyug4"
      },
      "outputs": [],
      "source": [
        "import sys\n",
        "import os\n",
        "import time\n",
        "import re\n",
        "import json\n",
        "\n",
        "import requests\n",
        "from urllib.parse import quote as urlencode\n",
        "\n",
        "from astropy.table import Table\n",
        "import numpy as np\n",
        "\n",
        "import pprint\n",
        "pp = pprint.PrettyPrinter(indent=4)"
      ]
    },
    {
      "cell_type": "code",
      "source": [
        "def mast_query(request):\n",
        "    \"\"\"Perform a MAST query.\n",
        "    \n",
        "        Parameters\n",
        "        ----------\n",
        "        request (dictionary): The MAST request json object\n",
        "        \n",
        "        Returns head,content where head is the response HTTP headers, and content is the returned data\"\"\"\n",
        "    \n",
        "    # Base API url\n",
        "    request_url='https://mast.stsci.edu/api/v0/invoke'    \n",
        "    \n",
        "    # Grab Python Version \n",
        "    version = \".\".join(map(str, sys.version_info[:3]))\n",
        "\n",
        "    # Create Http Header Variables\n",
        "    headers = {\"Content-type\": \"application/x-www-form-urlencoded\",\n",
        "               \"Accept\": \"text/plain\",\n",
        "               \"User-agent\":\"python-requests/\"+version}\n",
        "\n",
        "    # Encoding the request as a json string\n",
        "    req_string = json.dumps(request)\n",
        "    req_string = urlencode(req_string)\n",
        "    \n",
        "    # Perform the HTTP request\n",
        "    resp = requests.post(request_url, data=\"request=\"+req_string, headers=headers)\n",
        "    \n",
        "    # Pull out the headers and response content\n",
        "    head = resp.headers\n",
        "    content = resp.content.decode('utf-8')\n",
        "\n",
        "    return head, content\n"
      ],
      "metadata": {
        "id": "M2V-JTcqzdOF"
      },
      "execution_count": 7,
      "outputs": []
    },
    {
      "cell_type": "code",
      "source": [
        "object_of_interest = 'M101'\n",
        "\n",
        "resolver_request = {'service':'Mast.Name.Lookup',\n",
        "                     'params':{'input':object_of_interest,\n",
        "                               'format':'json'},\n",
        "                     }\n",
        "\n",
        "headers, resolved_object_string = mast_query(resolver_request)\n",
        "\n",
        "resolved_object = json.loads(resolved_object_string)\n",
        "\n",
        "pp.pprint(resolved_object)"
      ],
      "metadata": {
        "colab": {
          "base_uri": "https://localhost:8080/"
        },
        "id": "-UCF4w1mzjiv",
        "outputId": "d816b8fb-c8f2-4db9-9b11-9e60a7bdd204"
      },
      "execution_count": 8,
      "outputs": [
        {
          "output_type": "stream",
          "name": "stdout",
          "text": [
            "{   'resolvedCoordinate': [   {   'cached': False,\n",
            "                                  'canonicalName': 'MESSIER 101',\n",
            "                                  'decl': 54.34895,\n",
            "                                  'objectType': 'G',\n",
            "                                  'ra': 210.80227,\n",
            "                                  'radius': 0.24000000000000002,\n",
            "                                  'resolver': 'NED',\n",
            "                                  'resolverTime': 466,\n",
            "                                  'searchRadius': -1.0,\n",
            "                                  'searchString': 'm101'}],\n",
            "    'status': ''}\n"
          ]
        }
      ]
    },
    {
      "cell_type": "code",
      "source": [
        "obj_ra = resolved_object['resolvedCoordinate'][0]['ra']\n",
        "obj_dec = resolved_object['resolvedCoordinate'][0]['decl']"
      ],
      "metadata": {
        "id": "GlnbLTayzti9"
      },
      "execution_count": 9,
      "outputs": []
    },
    {
      "cell_type": "code",
      "source": [
        "mast_request = {'service':'Mast.Caom.Cone',\n",
        "                'params':{'ra':obj_ra,\n",
        "                          'dec':obj_dec,\n",
        "                          'radius':0.2},\n",
        "                'format':'json',\n",
        "                'pagesize':2000,\n",
        "                'page':1,\n",
        "                'removenullcolumns':True,\n",
        "                'removecache':True}\n",
        "\n",
        "headers, mast_data_str = mast_query(mast_request)\n",
        "\n",
        "mast_data = json.loads(mast_data_str)\n",
        "\n",
        "print(mast_data.keys())\n",
        "print(\"Query status:\",mast_data['status'])"
      ],
      "metadata": {
        "colab": {
          "base_uri": "https://localhost:8080/"
        },
        "id": "APCcc8xwzy6y",
        "outputId": "678ad5c5-df39-4279-8421-5d8df4a110d3"
      },
      "execution_count": 10,
      "outputs": [
        {
          "output_type": "stream",
          "name": "stdout",
          "text": [
            "dict_keys(['status', 'msg', 'data', 'fields', 'paging'])\n",
            "Query status: COMPLETE\n"
          ]
        }
      ]
    },
    {
      "cell_type": "code",
      "source": [
        "pp.pprint(mast_data['fields'][:5])"
      ],
      "metadata": {
        "colab": {
          "base_uri": "https://localhost:8080/"
        },
        "id": "RQSCNwqH0BrI",
        "outputId": "8f2e0717-87e5-4f3d-ef94-dfed47d6c545"
      },
      "execution_count": 11,
      "outputs": [
        {
          "output_type": "stream",
          "name": "stdout",
          "text": [
            "[   {'name': 'intentType', 'type': 'string'},\n",
            "    {'name': 'obs_collection', 'type': 'string'},\n",
            "    {'name': 'provenance_name', 'type': 'string'},\n",
            "    {'name': 'instrument_name', 'type': 'string'},\n",
            "    {'name': 'project', 'type': 'string'}]\n"
          ]
        }
      ]
    },
    {
      "cell_type": "code",
      "source": [
        "pp.pprint(mast_data['data'][0])"
      ],
      "metadata": {
        "colab": {
          "base_uri": "https://localhost:8080/"
        },
        "id": "jU-qR8xn0GQW",
        "outputId": "2617326c-c778-44c2-92c9-9fce4f778176"
      },
      "execution_count": 12,
      "outputs": [
        {
          "output_type": "stream",
          "name": "stdout",
          "text": [
            "{   '_selected_': None,\n",
            "    'calib_level': 3,\n",
            "    'dataRights': 'PUBLIC',\n",
            "    'dataURL': None,\n",
            "    'dataproduct_type': 'image',\n",
            "    'distance': 0,\n",
            "    'em_max': 1000,\n",
            "    'em_min': 600,\n",
            "    'filters': 'TESS',\n",
            "    'instrument_name': 'Photometer',\n",
            "    'intentType': 'science',\n",
            "    'jpegURL': None,\n",
            "    'mtFlag': False,\n",
            "    'obs_collection': 'TESS',\n",
            "    'obs_id': 'tess-s0015-4-1',\n",
            "    'obs_title': None,\n",
            "    'obsid': 27507612,\n",
            "    'project': 'TESS',\n",
            "    'proposal_id': 'N/A',\n",
            "    'proposal_pi': 'Ricker, George',\n",
            "    'proposal_type': None,\n",
            "    'provenance_name': 'SPOC',\n",
            "    's_dec': 59.23577326662502,\n",
            "    's_ra': 213.663757013405,\n",
            "    's_region': 'POLYGON 227.56190400 55.89237000 210.04086200 50.98859500 '\n",
            "                '197.01254300 60.84640200 220.28641600 67.20814100 '\n",
            "                '227.56190400 55.89237000 ',\n",
            "    'sequence_number': 15,\n",
            "    'srcDen': None,\n",
            "    't_exptime': 1425.599379,\n",
            "    't_max': 58736.89295962,\n",
            "    't_min': 58710.87239573,\n",
            "    't_obs_release': 58756.3333334,\n",
            "    'target_classification': None,\n",
            "    'target_name': 'TESS FFI',\n",
            "    'wavelength_region': 'Optical'}\n"
          ]
        }
      ]
    },
    {
      "cell_type": "code",
      "source": [
        "mast_data_table = Table()\n",
        "\n",
        "for col,atype in [(x['name'],x['type']) for x in mast_data['fields']]:\n",
        "    if atype==\"string\":\n",
        "        atype=\"str\"\n",
        "    if atype==\"boolean\":\n",
        "        atype=\"bool\"\n",
        "    mast_data_table[col] = np.array([x.get(col,None) for x in mast_data['data']],dtype=atype)\n",
        "    \n",
        "print(mast_data_table)"
      ],
      "metadata": {
        "colab": {
          "base_uri": "https://localhost:8080/"
        },
        "id": "LWb4GPay0N39",
        "outputId": "03ebc625-fa51-4ff0-9539-594aa89368cb"
      },
      "execution_count": 13,
      "outputs": [
        {
          "output_type": "stream",
          "name": "stdout",
          "text": [
            "intentType obs_collection provenance_name ...      distance      _selected_\n",
            "---------- -------------- --------------- ... ------------------ ----------\n",
            "   science           TESS            SPOC ...                0.0      False\n",
            "   science           TESS            SPOC ...                0.0      False\n",
            "   science           TESS            SPOC ...                0.0      False\n",
            "   science           TESS            SPOC ...                0.0      False\n",
            "   science           TESS            SPOC ...                0.0      False\n",
            "   science           TESS            SPOC ...                0.0      False\n",
            "   science           TESS            SPOC ...  407.3642445717816      False\n",
            "   science           TESS            SPOC ...  407.3642445717816      False\n",
            "   science           TESS            SPOC ...  407.3642445717816      False\n",
            "   science           TESS            SPOC ...  407.3642445717816      False\n",
            "       ...            ...             ... ...                ...        ...\n",
            "   science            HST             HAP ... 23.232168967893355      False\n",
            "   science            HST             HAP ... 23.247978794197227      False\n",
            "   science            HST             HAP ... 23.247978794197227      False\n",
            "   science            HST             HAP ... 23.249595084266822      False\n",
            "   science            HST             HAP ... 23.249595084298846      False\n",
            "   science            HST             HAP ... 23.250288592860226      False\n",
            "   science            HST             HAP ... 23.250288592884264      False\n",
            "   science            HST             HAP ...  23.25028859345002      False\n",
            "   science            HST             HAP ...  23.25861404132484      False\n",
            "   science            HST             HAP ...  23.25861404145228      False\n",
            "   science            HST             HAP ...  23.25861404149961      False\n",
            "Length = 2000 rows\n"
          ]
        }
      ]
    },
    {
      "cell_type": "code",
      "source": [
        "mashup_request = {\"service\":\"Mast.Caom.Filtered\",\n",
        "                  \"format\":\"json\",\n",
        "                  \"params\":{\n",
        "                      \"columns\":\"COUNT_BIG(*)\",\n",
        "                      \"filters\":[\n",
        "                          {\"paramName\":\"filters\",\n",
        "                           \"values\":[\"NUV\",\"FUV\"],\n",
        "                           \"separator\":\";\"\n",
        "                          },\n",
        "                          {\"paramName\":\"t_max\",\n",
        "                           \"values\":[{\"min\":52264.4586,\"max\":54452.8914}], #MJD\n",
        "                          },\n",
        "                          {\"paramName\":\"obsid\",\n",
        "                           \"values\":[],\n",
        "                           \"freeText\":\"%200%\"}\n",
        "                      ]}}\n",
        "    \n",
        "headers, out_string = mast_query(mashup_request)\n",
        "count = json.loads(out_string)\n",
        "\n",
        "pp.pprint(count)"
      ],
      "metadata": {
        "colab": {
          "base_uri": "https://localhost:8080/"
        },
        "id": "zMXqTjq60UEp",
        "outputId": "eefee014-6ca2-4fe9-9e45-9706f69380ba"
      },
      "execution_count": 14,
      "outputs": [
        {
          "output_type": "stream",
          "name": "stdout",
          "text": [
            "{   'data': [{'Column1': 2601}],\n",
            "    'fields': [{'name': 'Column1', 'type': 'string'}],\n",
            "    'msg': '',\n",
            "    'paging': {   'page': 1,\n",
            "                  'pageSize': 1,\n",
            "                  'pagesFiltered': 1,\n",
            "                  'rows': 1,\n",
            "                  'rowsFiltered': 1,\n",
            "                  'rowsTotal': 1},\n",
            "    'status': 'COMPLETE'}\n"
          ]
        }
      ]
    },
    {
      "cell_type": "code",
      "source": [
        "mashup_request = {\"service\":\"Mast.Caom.Filtered\",\n",
        "                 \"format\":\"json\",\n",
        "                 \"params\":{\n",
        "                     \"columns\":\"*\",\n",
        "                     \"filters\":[\n",
        "                         {\"paramName\":\"filters\",\n",
        "                          \"values\":[\"NUV\",\"FUV\"],\n",
        "                          \"separator\":\";\"\n",
        "                         },\n",
        "                         {\"paramName\":\"t_max\",\n",
        "                          \"values\":[{\"min\":52264.4586,\"max\":54452.8914}], #MJD\n",
        "                         },\n",
        "                         {\"paramName\":\"obsid\",\n",
        "                          \"values\":[],\n",
        "                          \"freeText\":\"%200%\"}\n",
        "                     ]}}\n",
        "    \n",
        "headers, out_string = mast_query(mashup_request)\n",
        "filtered_data = json.loads(out_string)\n",
        "\n",
        "print(filtered_data.keys())\n",
        "print(\"Query status:\", filtered_data['status'])"
      ],
      "metadata": {
        "colab": {
          "base_uri": "https://localhost:8080/"
        },
        "id": "L2HpKrW-0b2u",
        "outputId": "9ca27252-c4ea-4c30-86be-98d493d8ed1c"
      },
      "execution_count": 15,
      "outputs": [
        {
          "output_type": "stream",
          "name": "stdout",
          "text": [
            "dict_keys(['status', 'msg', 'data', 'fields', 'paging'])\n",
            "Query status: COMPLETE\n"
          ]
        }
      ]
    },
    {
      "cell_type": "code",
      "source": [
        "pp.pprint(filtered_data['data'][0])"
      ],
      "metadata": {
        "colab": {
          "base_uri": "https://localhost:8080/"
        },
        "id": "KcQW_M8M0nJN",
        "outputId": "e2558cb4-055a-4929-8821-3bc48f846b1a"
      },
      "execution_count": 16,
      "outputs": [
        {
          "output_type": "stream",
          "name": "stdout",
          "text": [
            "{   'calib_level': 2,\n",
            "    'dataRights': 'PUBLIC',\n",
            "    'dataURL': 'http://galex.stsci.edu/data/GR6/pipe/01-vsn/03200-MISDR1_16952_0422/d/01-main/0001-img/07-try/MISDR1_16952_0422-fd-cnt.fits.gz',\n",
            "    'dataproduct_type': 'image',\n",
            "    'em_max': 180600000000,\n",
            "    'em_min': 134000000000,\n",
            "    'filters': 'FUV',\n",
            "    'instrument_name': 'GALEX',\n",
            "    'intentType': 'science',\n",
            "    'jpegURL': 'http://galex.stsci.edu/data/GR6/pipe/01-vsn/03200-MISDR1_16952_0422/d/01-main/0001-img/07-try/qa/MISDR1_16952_0422-xd-int_2color.jpg',\n",
            "    'mtFlag': None,\n",
            "    'objID': 391,\n",
            "    'obs_collection': 'GALEX',\n",
            "    'obs_id': '2418435336423079936',\n",
            "    'obs_title': None,\n",
            "    'obsid': 200,\n",
            "    'project': 'MIS',\n",
            "    'proposal_id': None,\n",
            "    'proposal_pi': None,\n",
            "    'proposal_type': 'MIS',\n",
            "    'provenance_name': 'MIS',\n",
            "    's_dec': 14.8739617983027,\n",
            "    's_ra': 17.631372298039878,\n",
            "    's_region': 'CIRCLE ICRS  17.63137230  14.87396180 0.625',\n",
            "    'sequence_number': -999,\n",
            "    'srcDen': 5885,\n",
            "    't_exptime': 1632,\n",
            "    't_max': 52918.76186342593,\n",
            "    't_min': 52918.74297453703,\n",
            "    't_obs_release': 55275.07976855,\n",
            "    'target_classification': None,\n",
            "    'target_name': 'MISDR1_16952_0422',\n",
            "    'wavelength_region': 'UV'}\n"
          ]
        }
      ]
    },
    {
      "cell_type": "code",
      "source": [
        "mashup_request = {\n",
        "        \"service\":\"Mast.Caom.Filtered.Position\",\n",
        "        \"format\":\"json\",\n",
        "        \"params\":{\n",
        "            \"columns\":\"COUNT_BIG(*)\",\n",
        "            \"filters\":[\n",
        "                {\"paramName\":\"dataproduct_type\",\n",
        "                 \"values\":[\"cube\"]\n",
        "                }],\n",
        "            \"position\":\"210.8023, 54.349, 0.24\"\n",
        "        }}\n",
        "\n",
        "headers, out_string = mast_query(mashup_request)\n",
        "count = json.loads(out_string)\n",
        "\n",
        "pp.pprint(count)"
      ],
      "metadata": {
        "colab": {
          "base_uri": "https://localhost:8080/"
        },
        "id": "QmZ-9Q1S0vC5",
        "outputId": "4e80a371-cf1b-44f6-8822-0cd6a1d4aff6"
      },
      "execution_count": 17,
      "outputs": [
        {
          "output_type": "stream",
          "name": "stdout",
          "text": [
            "{   'data': [{'Column1': 797}],\n",
            "    'fields': [{'name': 'Column1', 'type': 'string'}],\n",
            "    'msg': '',\n",
            "    'paging': {   'page': 1,\n",
            "                  'pageSize': 1,\n",
            "                  'pagesFiltered': 1,\n",
            "                  'rows': 1,\n",
            "                  'rowsFiltered': 1,\n",
            "                  'rowsTotal': 1},\n",
            "    'status': 'COMPLETE'}\n"
          ]
        }
      ]
    },
    {
      "cell_type": "code",
      "source": [
        "# Picking the first Hubble Space Telescope observation\n",
        "interesting_observation = mast_data_table[mast_data_table[\"obs_collection\"] == \"HST\"][0]\n",
        "print(\"Observation:\",\n",
        "      [interesting_observation[x] for x in ['dataproduct_type', 'obs_collection', 'instrument_name']])"
      ],
      "metadata": {
        "colab": {
          "base_uri": "https://localhost:8080/"
        },
        "id": "yvOrm7b901Pt",
        "outputId": "f1ce5b6b-c226-45cf-d906-53e802075df7"
      },
      "execution_count": 18,
      "outputs": [
        {
          "output_type": "stream",
          "name": "stdout",
          "text": [
            "Observation: ['image', 'HST', 'WFC3/UVIS']\n"
          ]
        }
      ]
    },
    {
      "cell_type": "code",
      "source": [
        "obsid = interesting_observation['obsid']\n",
        "\n",
        "product_request = {'service':'Mast.Caom.Products',\n",
        "                  'params':{'obsid':obsid},\n",
        "                  'format':'json',\n",
        "                  'pagesize':100,\n",
        "                  'page':1}   \n",
        "\n",
        "headers, obs_products_string = mast_query(product_request)\n",
        "\n",
        "obs_products = json.loads(obs_products_string)\n",
        "\n",
        "print(\"Number of data products:\", len(obs_products[\"data\"]))\n",
        "print(\"Product information column names:\")\n",
        "pp.pprint(obs_products['fields'])"
      ],
      "metadata": {
        "colab": {
          "base_uri": "https://localhost:8080/"
        },
        "id": "rdlpplBR05Aa",
        "outputId": "dbe98e3c-7653-44c7-d57c-8ab52e00872b"
      },
      "execution_count": 19,
      "outputs": [
        {
          "output_type": "stream",
          "name": "stdout",
          "text": [
            "Number of data products: 83\n",
            "Product information column names:\n",
            "[   {'name': 'obsID', 'type': 'string'},\n",
            "    {'name': 'obs_collection', 'type': 'string'},\n",
            "    {'name': 'dataproduct_type', 'type': 'string'},\n",
            "    {'name': 'obs_id', 'type': 'string'},\n",
            "    {'name': 'description', 'type': 'string'},\n",
            "    {'name': 'type', 'type': 'string'},\n",
            "    {'name': 'dataURI', 'type': 'string'},\n",
            "    {'name': 'productType', 'type': 'string'},\n",
            "    {'name': 'productGroupDescription', 'type': 'string'},\n",
            "    {'name': 'productSubGroupDescription', 'type': 'string'},\n",
            "    {'name': 'productDocumentationURL', 'type': 'string'},\n",
            "    {'name': 'project', 'type': 'string'},\n",
            "    {'name': 'prvversion', 'type': 'string'},\n",
            "    {'name': 'proposal_id', 'type': 'string'},\n",
            "    {'name': 'productFilename', 'type': 'string'},\n",
            "    {'name': 'size', 'type': 'int'},\n",
            "    {'name': 'parent_obsid', 'type': 'string'},\n",
            "    {'name': 'dataRights', 'type': 'string'},\n",
            "    {'name': 'calib_level', 'type': 'int'},\n",
            "    {'name': '_selected_', 'type': 'boolean'}]\n"
          ]
        }
      ]
    },
    {
      "cell_type": "code",
      "source": [
        "pp.pprint([x.get('productType',\"\") for x in obs_products[\"data\"]])"
      ],
      "metadata": {
        "colab": {
          "base_uri": "https://localhost:8080/"
        },
        "id": "_I9_6RNy09bj",
        "outputId": "a28905b8-3d5c-4497-f971-c23ea0889761"
      },
      "execution_count": 20,
      "outputs": [
        {
          "output_type": "stream",
          "name": "stdout",
          "text": [
            "[   'AUXILIARY',\n",
            "    'PREVIEW',\n",
            "    'SCIENCE',\n",
            "    'SCIENCE',\n",
            "    'SCIENCE',\n",
            "    'AUXILIARY',\n",
            "    'AUXILIARY',\n",
            "    'PREVIEW',\n",
            "    'SCIENCE',\n",
            "    'SCIENCE',\n",
            "    'AUXILIARY',\n",
            "    'AUXILIARY',\n",
            "    'PREVIEW',\n",
            "    'SCIENCE',\n",
            "    'SCIENCE',\n",
            "    'AUXILIARY',\n",
            "    'AUXILIARY',\n",
            "    'PREVIEW',\n",
            "    'SCIENCE',\n",
            "    'SCIENCE',\n",
            "    'AUXILIARY',\n",
            "    'AUXILIARY',\n",
            "    'PREVIEW',\n",
            "    'SCIENCE',\n",
            "    'SCIENCE',\n",
            "    'AUXILIARY',\n",
            "    'AUXILIARY',\n",
            "    'PREVIEW',\n",
            "    'SCIENCE',\n",
            "    'AUXILIARY',\n",
            "    'AUXILIARY',\n",
            "    'PREVIEW',\n",
            "    'SCIENCE',\n",
            "    'AUXILIARY',\n",
            "    'AUXILIARY',\n",
            "    'AUXILIARY',\n",
            "    'AUXILIARY',\n",
            "    'AUXILIARY',\n",
            "    'INFO',\n",
            "    'PREVIEW',\n",
            "    'PREVIEW',\n",
            "    'SCIENCE',\n",
            "    'SCIENCE',\n",
            "    'AUXILIARY',\n",
            "    'AUXILIARY',\n",
            "    'AUXILIARY',\n",
            "    'INFO',\n",
            "    'PREVIEW',\n",
            "    'PREVIEW',\n",
            "    'PREVIEW',\n",
            "    'SCIENCE',\n",
            "    'SCIENCE',\n",
            "    'SCIENCE',\n",
            "    'AUXILIARY',\n",
            "    'AUXILIARY',\n",
            "    'AUXILIARY',\n",
            "    'INFO',\n",
            "    'PREVIEW',\n",
            "    'PREVIEW',\n",
            "    'PREVIEW',\n",
            "    'SCIENCE',\n",
            "    'SCIENCE',\n",
            "    'SCIENCE',\n",
            "    'AUXILIARY',\n",
            "    'AUXILIARY',\n",
            "    'AUXILIARY',\n",
            "    'INFO',\n",
            "    'PREVIEW',\n",
            "    'PREVIEW',\n",
            "    'PREVIEW',\n",
            "    'SCIENCE',\n",
            "    'SCIENCE',\n",
            "    'SCIENCE',\n",
            "    'AUXILIARY',\n",
            "    'AUXILIARY',\n",
            "    'AUXILIARY',\n",
            "    'INFO',\n",
            "    'PREVIEW',\n",
            "    'PREVIEW',\n",
            "    'PREVIEW',\n",
            "    'SCIENCE',\n",
            "    'SCIENCE',\n",
            "    'SCIENCE']\n"
          ]
        }
      ]
    },
    {
      "cell_type": "code",
      "source": [
        "sci_prod_arr = [x for x in obs_products['data'] if x.get(\"productType\", None) == 'SCIENCE']\n",
        "science_products = Table()\n",
        "\n",
        "for col, atype in [(x['name'], x['type']) for x in obs_products['fields']]:\n",
        "    if atype==\"string\":\n",
        "        atype=\"str\"\n",
        "    if atype==\"boolean\":\n",
        "        atype=\"bool\"\n",
        "    if atype == \"int\":\n",
        "        atype = \"float\" # array may contain nan values, and they do not exist in numpy integer arrays\n",
        "    science_products[col] = np.array([x.get(col,None) for x in sci_prod_arr],dtype=atype)\n",
        "\n",
        "print(\"Number of science products:\",len(science_products))\n",
        "print(science_products)"
      ],
      "metadata": {
        "colab": {
          "base_uri": "https://localhost:8080/"
        },
        "id": "7Sd5SUiX1A1R",
        "outputId": "44beb6ee-6e9f-4120-8daa-74d6da545b50"
      },
      "execution_count": 21,
      "outputs": [
        {
          "output_type": "stream",
          "name": "stdout",
          "text": [
            "Number of science products: 27\n",
            " obsID   obs_collection dataproduct_type ... dataRights calib_level _selected_\n",
            "-------- -------------- ---------------- ... ---------- ----------- ----------\n",
            "26511449            HST            image ...     PUBLIC         3.0      False\n",
            "26511449            HST            image ...     PUBLIC         3.0      False\n",
            "26511449            HST            image ...     PUBLIC         3.0      False\n",
            "26511442            HST            image ...     PUBLIC         2.0      False\n",
            "26511442            HST            image ...     PUBLIC         2.0      False\n",
            "26511431            HST            image ...     PUBLIC         2.0      False\n",
            "26511431            HST            image ...     PUBLIC         2.0      False\n",
            "26511411            HST            image ...     PUBLIC         2.0      False\n",
            "26511411            HST            image ...     PUBLIC         2.0      False\n",
            "26511418            HST            image ...     PUBLIC         2.0      False\n",
            "     ...            ...              ... ...        ...         ...        ...\n",
            "23826183            HST            image ...     PUBLIC         2.0      False\n",
            "23826183            HST            image ...     PUBLIC         1.0      False\n",
            "23826184            HST            image ...     PUBLIC         2.0      False\n",
            "23826184            HST            image ...     PUBLIC         2.0      False\n",
            "23826184            HST            image ...     PUBLIC         1.0      False\n",
            "23826185            HST            image ...     PUBLIC         2.0      False\n",
            "23826185            HST            image ...     PUBLIC         2.0      False\n",
            "23826185            HST            image ...     PUBLIC         1.0      False\n",
            "23826186            HST            image ...     PUBLIC         2.0      False\n",
            "23826186            HST            image ...     PUBLIC         2.0      False\n",
            "23826186            HST            image ...     PUBLIC         1.0      False\n",
            "Length = 27 rows\n"
          ]
        }
      ]
    },
    {
      "cell_type": "code",
      "source": [
        "download_url = 'https://mast.stsci.edu/api/v0.1/Download/file?'\n",
        "\n",
        "for row in science_products[:2]:     \n",
        "\n",
        "    # make file path\n",
        "    out_path = os.path.join(\"mastFiles\", row['obs_collection'], row['obs_id'])\n",
        "    if not os.path.exists(out_path):\n",
        "        os.makedirs(out_path)\n",
        "    out_path = os.path.join(out_path, os.path.basename(row['productFilename']))\n",
        "        \n",
        "    # Download the data\n",
        "    payload = {\"uri\":row['dataURI']}\n",
        "    resp = requests.get(download_url, params=payload)\n",
        "    \n",
        "    # save to file\n",
        "    with open(out_path,'wb') as FLE:\n",
        "        FLE.write(resp.content)\n",
        "        \n",
        "    # check for file \n",
        "    if not os.path.isfile(out_path):\n",
        "        print(\"ERROR: \" + out_path + \" failed to download.\")\n",
        "    else:\n",
        "        print(\"COMPLETE: \", out_path)"
      ],
      "metadata": {
        "colab": {
          "base_uri": "https://localhost:8080/"
        },
        "id": "ERmw9rBF1HAP",
        "outputId": "6721814d-0da9-459b-f6b2-302ded5c75dd"
      },
      "execution_count": 22,
      "outputs": [
        {
          "output_type": "stream",
          "name": "stdout",
          "text": [
            "COMPLETE:  mastFiles/HST/hst_11635_11_wfc3_uvis_f469n_ib3p11/hst_11635_11_wfc3_uvis_f469n_ib3p11_drc.fits\n",
            "COMPLETE:  mastFiles/HST/hst_11635_11_wfc3_uvis_f469n_ib3p11/hst_11635_11_wfc3_uvis_f469n_ib3p11_point-cat.ecsv\n"
          ]
        }
      ]
    },
    {
      "cell_type": "code",
      "source": [
        "url_list = [(\"uri\", url) for url in science_products['dataURI'][:2]]\n",
        "extension = \".tar.gz\"\n",
        "\n",
        "download_url = 'https://mast.stsci.edu/api/v0.1/Download/bundle'\n",
        "resp = requests.post(download_url + extension, data=url_list)\n",
        "\n",
        "out_file = \"mastDownload\" + extension\n",
        "with open(out_file, 'wb') as FLE:\n",
        "    FLE.write(resp.content)\n",
        "    \n",
        "# check for file \n",
        "if not os.path.isfile(out_file):\n",
        "    print(\"ERROR: \" + out_file + \" failed to download.\")\n",
        "else:\n",
        "    print(\"COMPLETE: \", out_file)"
      ],
      "metadata": {
        "colab": {
          "base_uri": "https://localhost:8080/"
        },
        "id": "9tSgahqG1MoH",
        "outputId": "5bf2c523-2fd8-4b29-8ea0-6b193cae5cda"
      },
      "execution_count": 23,
      "outputs": [
        {
          "output_type": "stream",
          "name": "stdout",
          "text": [
            "COMPLETE:  mastDownload.tar.gz\n"
          ]
        }
      ]
    }
  ]
}